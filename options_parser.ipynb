{
 "cells": [
  {
   "cell_type": "code",
   "execution_count": null,
   "id": "ca981d93",
   "metadata": {
    "id": "ca981d93"
   },
   "outputs": [
    {
     "name": "stdout",
     "output_type": "stream",
     "text": [
      "The autoreload extension is already loaded. To reload it, use:\n",
      "  %reload_ext autoreload\n"
     ]
    }
   ],
   "source": [
    "import string\n",
    "import pandas as pd\n",
    "import numpy as np\n",
    "import time\n",
    "from tqdm import tqdm\n",
    "import matplotlib.pyplot as plt\n",
    "import seaborn as sns\n",
    "from scipy.stats import norm\n",
    "from scipy.optimize import minimize\n",
    "from datetime import datetime\n",
    "%load_ext autoreload\n",
    "%autoreload 2\n",
    "import parsing\n",
    "import sys\n",
    "import warnings\n",
    "warnings.filterwarnings(\"ignore\") "
   ]
  },
  {
   "cell_type": "markdown",
   "id": "ad74d6aa",
   "metadata": {
    "id": "ad74d6aa"
   },
   "source": [
    "## Парсер опциона"
   ]
  },
  {
   "cell_type": "markdown",
   "id": "6a98f2c5-5843-4af9-8e9c-d69f4d14625b",
   "metadata": {},
   "source": [
    "### Парсер №1. Первая версия. Более медленный"
   ]
  },
  {
   "cell_type": "markdown",
   "id": "804f19c7-2a99-4461-8495-7e5b26241ff7",
   "metadata": {},
   "source": [
    "Данный парсер предоставляет самую свободную настройку по парсингу данных опциона (базовый актив, страйки, тип, историю торгов и т.д.)"
   ]
  },
  {
   "cell_type": "code",
   "execution_count": 81,
   "id": "07d87530-ba65-40fe-829b-9a92028151d8",
   "metadata": {},
   "outputs": [],
   "source": [
    "base_active = 'SR'\n",
    "strikes_str = [f'{int(x)}' if x == int(x) else f'{x:.1f}' for x in np.arange(240, 370, 10)]\n",
    "opt_type = 'C' # европейский\n",
    "months = string.ascii_uppercase # call: A-L, put: M-X\n",
    "years = ['5']\n",
    "weeks_flg = ['', 'A', 'B', 'C', 'D', 'E']"
   ]
  },
  {
   "cell_type": "code",
   "execution_count": 16,
   "id": "441425f1-e663-4e56-b1cc-0c95bb953da0",
   "metadata": {
    "scrolled": true
   },
   "outputs": [
    {
     "name": "stdout",
     "output_type": "stream",
     "text": [
      "2025 year is being parsed\n",
      "- month: A\n"
     ]
    },
    {
     "name": "stderr",
     "output_type": "stream",
     "text": [
      "Week: -:   8%|█████▋                                                                    | 1/13 [00:00<00:09,  1.31it/s]"
     ]
    },
    {
     "name": "stdout",
     "output_type": "stream",
     "text": [
      "SR240CA5\n",
      "Saved.\n"
     ]
    },
    {
     "name": "stderr",
     "output_type": "stream",
     "text": [
      "Week: -:  15%|███████████▍                                                              | 2/13 [00:01<00:06,  1.72it/s]"
     ]
    },
    {
     "name": "stdout",
     "output_type": "stream",
     "text": [
      "SR250CA5\n",
      "Saved.\n"
     ]
    },
    {
     "name": "stderr",
     "output_type": "stream",
     "text": [
      "Week: -:  23%|█████████████████                                                         | 3/13 [00:03<00:13,  1.32s/it]"
     ]
    },
    {
     "name": "stdout",
     "output_type": "stream",
     "text": [
      "SR260CA5\n",
      "Saved.\n"
     ]
    },
    {
     "name": "stderr",
     "output_type": "stream",
     "text": [
      "Week: -:  31%|██████████████████████▊                                                   | 4/13 [00:04<00:10,  1.19s/it]"
     ]
    },
    {
     "name": "stdout",
     "output_type": "stream",
     "text": [
      "SR270CA5\n",
      "Saved.\n"
     ]
    },
    {
     "name": "stderr",
     "output_type": "stream",
     "text": [
      "Week: -:  38%|████████████████████████████▍                                             | 5/13 [00:05<00:09,  1.18s/it]"
     ]
    },
    {
     "name": "stdout",
     "output_type": "stream",
     "text": [
      "SR280CA5\n",
      "Saved.\n"
     ]
    },
    {
     "name": "stderr",
     "output_type": "stream",
     "text": [
      "Week: -:  46%|██████████████████████████████████▏                                       | 6/13 [00:06<00:06,  1.03it/s]"
     ]
    },
    {
     "name": "stdout",
     "output_type": "stream",
     "text": [
      "SR290CA5\n",
      "Saved.\n"
     ]
    },
    {
     "name": "stderr",
     "output_type": "stream",
     "text": [
      "Week: -:  54%|███████████████████████████████████████▊                                  | 7/13 [00:06<00:05,  1.19it/s]"
     ]
    },
    {
     "name": "stdout",
     "output_type": "stream",
     "text": [
      "SR300CA5\n",
      "Saved.\n"
     ]
    },
    {
     "name": "stderr",
     "output_type": "stream",
     "text": [
      "Week: -:  62%|█████████████████████████████████████████████▌                            | 8/13 [00:07<00:03,  1.39it/s]"
     ]
    },
    {
     "name": "stdout",
     "output_type": "stream",
     "text": [
      "SR310CA5\n",
      "Saved.\n"
     ]
    },
    {
     "name": "stderr",
     "output_type": "stream",
     "text": [
      "Week: -:  69%|███████████████████████████████████████████████████▏                      | 9/13 [00:07<00:02,  1.61it/s]"
     ]
    },
    {
     "name": "stdout",
     "output_type": "stream",
     "text": [
      "SR320CA5\n",
      "Saved.\n"
     ]
    },
    {
     "name": "stderr",
     "output_type": "stream",
     "text": [
      "Week: -:  77%|████████████████████████████████████████████████████████▏                | 10/13 [00:08<00:01,  1.76it/s]"
     ]
    },
    {
     "name": "stdout",
     "output_type": "stream",
     "text": [
      "SR330CA5\n",
      "Saved.\n"
     ]
    },
    {
     "name": "stderr",
     "output_type": "stream",
     "text": [
      "Week: -: 100%|█████████████████████████████████████████████████████████████████████████| 13/13 [00:09<00:00,  1.44it/s]\n",
      "Week: A: 100%|█████████████████████████████████████████████████████████████████████████| 13/13 [00:05<00:00,  2.20it/s]\n",
      "Week: B:   8%|█████▋                                                                    | 1/13 [00:00<00:04,  2.68it/s]"
     ]
    },
    {
     "name": "stdout",
     "output_type": "stream",
     "text": [
      "SR240CA5B\n",
      "Saved.\n"
     ]
    },
    {
     "name": "stderr",
     "output_type": "stream",
     "text": [
      "Week: B:  15%|███████████▍                                                              | 2/13 [00:00<00:04,  2.45it/s]"
     ]
    },
    {
     "name": "stdout",
     "output_type": "stream",
     "text": [
      "SR250CA5B\n",
      "Saved.\n"
     ]
    },
    {
     "name": "stderr",
     "output_type": "stream",
     "text": [
      "Week: B:  23%|█████████████████                                                         | 3/13 [00:01<00:05,  1.91it/s]"
     ]
    },
    {
     "name": "stdout",
     "output_type": "stream",
     "text": [
      "SR260CA5B\n",
      "Saved.\n"
     ]
    },
    {
     "name": "stderr",
     "output_type": "stream",
     "text": [
      "Week: B:  31%|██████████████████████▊                                                   | 4/13 [00:02<00:04,  1.80it/s]"
     ]
    },
    {
     "name": "stdout",
     "output_type": "stream",
     "text": [
      "SR270CA5B\n",
      "Saved.\n"
     ]
    },
    {
     "name": "stderr",
     "output_type": "stream",
     "text": [
      "Week: B:  38%|████████████████████████████▍                                             | 5/13 [00:02<00:05,  1.60it/s]"
     ]
    },
    {
     "name": "stdout",
     "output_type": "stream",
     "text": [
      "SR280CA5B\n",
      "Saved.\n"
     ]
    },
    {
     "name": "stderr",
     "output_type": "stream",
     "text": [
      "Week: B:  46%|██████████████████████████████████▏                                       | 6/13 [00:03<00:04,  1.68it/s]"
     ]
    },
    {
     "name": "stdout",
     "output_type": "stream",
     "text": [
      "SR290CA5B\n",
      "Saved.\n"
     ]
    },
    {
     "name": "stderr",
     "output_type": "stream",
     "text": [
      "Week: B:  54%|███████████████████████████████████████▊                                  | 7/13 [00:04<00:03,  1.52it/s]"
     ]
    },
    {
     "name": "stdout",
     "output_type": "stream",
     "text": [
      "SR300CA5B\n",
      "Saved.\n"
     ]
    },
    {
     "name": "stderr",
     "output_type": "stream",
     "text": [
      "Week: B:  62%|█████████████████████████████████████████████▌                            | 8/13 [00:04<00:02,  1.73it/s]"
     ]
    },
    {
     "name": "stdout",
     "output_type": "stream",
     "text": [
      "SR310CA5B\n",
      "Saved.\n"
     ]
    },
    {
     "name": "stderr",
     "output_type": "stream",
     "text": [
      "Week: B:  77%|████████████████████████████████████████████████████████▏                | 10/13 [00:05<00:01,  2.12it/s]"
     ]
    },
    {
     "name": "stdout",
     "output_type": "stream",
     "text": [
      "SR330CA5B\n",
      "Saved.\n"
     ]
    },
    {
     "name": "stderr",
     "output_type": "stream",
     "text": [
      "Week: B: 100%|█████████████████████████████████████████████████████████████████████████| 13/13 [00:06<00:00,  1.90it/s]\n",
      "Week: C: 100%|█████████████████████████████████████████████████████████████████████████| 13/13 [00:05<00:00,  2.56it/s]\n",
      "Week: D:   8%|█████▋                                                                    | 1/13 [00:00<00:04,  2.74it/s]"
     ]
    },
    {
     "name": "stdout",
     "output_type": "stream",
     "text": [
      "SR240CA5D\n",
      "Saved.\n"
     ]
    },
    {
     "name": "stderr",
     "output_type": "stream",
     "text": [
      "Week: D:  15%|███████████▍                                                              | 2/13 [00:00<00:04,  2.28it/s]"
     ]
    },
    {
     "name": "stdout",
     "output_type": "stream",
     "text": [
      "SR250CA5D\n",
      "Saved.\n"
     ]
    },
    {
     "name": "stderr",
     "output_type": "stream",
     "text": [
      "Week: D:  23%|█████████████████                                                         | 3/13 [00:01<00:04,  2.41it/s]"
     ]
    },
    {
     "name": "stdout",
     "output_type": "stream",
     "text": [
      "SR260CA5D\n",
      "Saved.\n"
     ]
    },
    {
     "name": "stderr",
     "output_type": "stream",
     "text": [
      "Week: D:  31%|██████████████████████▊                                                   | 4/13 [00:02<00:05,  1.60it/s]"
     ]
    },
    {
     "name": "stdout",
     "output_type": "stream",
     "text": [
      "SR270CA5D\n",
      "Saved.\n"
     ]
    },
    {
     "name": "stderr",
     "output_type": "stream",
     "text": [
      "Week: D:  38%|████████████████████████████▍                                             | 5/13 [00:02<00:04,  1.69it/s]"
     ]
    },
    {
     "name": "stdout",
     "output_type": "stream",
     "text": [
      "SR280CA5D\n",
      "Saved.\n"
     ]
    },
    {
     "name": "stderr",
     "output_type": "stream",
     "text": [
      "Week: D:  46%|██████████████████████████████████▏                                       | 6/13 [00:03<00:04,  1.74it/s]"
     ]
    },
    {
     "name": "stdout",
     "output_type": "stream",
     "text": [
      "SR290CA5D\n",
      "Saved.\n"
     ]
    },
    {
     "name": "stderr",
     "output_type": "stream",
     "text": [
      "Week: D:  54%|███████████████████████████████████████▊                                  | 7/13 [00:03<00:03,  1.95it/s]"
     ]
    },
    {
     "name": "stdout",
     "output_type": "stream",
     "text": [
      "SR300CA5D\n",
      "Saved.\n"
     ]
    },
    {
     "name": "stderr",
     "output_type": "stream",
     "text": [
      "Week: D:  62%|█████████████████████████████████████████████▌                            | 8/13 [00:04<00:02,  2.00it/s]"
     ]
    },
    {
     "name": "stdout",
     "output_type": "stream",
     "text": [
      "SR310CA5D\n",
      "Saved.\n"
     ]
    },
    {
     "name": "stderr",
     "output_type": "stream",
     "text": [
      "Week: D:  69%|███████████████████████████████████████████████████▏                      | 9/13 [00:04<00:01,  2.16it/s]"
     ]
    },
    {
     "name": "stdout",
     "output_type": "stream",
     "text": [
      "SR320CA5D\n",
      "Saved.\n"
     ]
    },
    {
     "name": "stderr",
     "output_type": "stream",
     "text": [
      "Week: D: 100%|█████████████████████████████████████████████████████████████████████████| 13/13 [00:06<00:00,  2.11it/s]\n",
      "Week: E:   8%|█████▋                                                                    | 1/13 [00:00<00:09,  1.26it/s]"
     ]
    },
    {
     "name": "stdout",
     "output_type": "stream",
     "text": [
      "SR240CA5E\n",
      "Saved.\n"
     ]
    },
    {
     "name": "stderr",
     "output_type": "stream",
     "text": [
      "Week: E:  15%|███████████▍                                                              | 2/13 [00:01<00:09,  1.16it/s]"
     ]
    },
    {
     "name": "stdout",
     "output_type": "stream",
     "text": [
      "SR250CA5E\n",
      "Saved.\n"
     ]
    },
    {
     "name": "stderr",
     "output_type": "stream",
     "text": [
      "Week: E:  23%|█████████████████                                                         | 3/13 [00:02<00:06,  1.57it/s]"
     ]
    },
    {
     "name": "stdout",
     "output_type": "stream",
     "text": [
      "SR260CA5E\n",
      "Saved.\n"
     ]
    },
    {
     "name": "stderr",
     "output_type": "stream",
     "text": [
      "Week: E:  31%|██████████████████████▊                                                   | 4/13 [00:02<00:05,  1.66it/s]"
     ]
    },
    {
     "name": "stdout",
     "output_type": "stream",
     "text": [
      "SR270CA5E\n",
      "Saved.\n"
     ]
    },
    {
     "name": "stderr",
     "output_type": "stream",
     "text": [
      "Week: E:  38%|████████████████████████████▍                                             | 5/13 [00:03<00:04,  1.77it/s]"
     ]
    },
    {
     "name": "stdout",
     "output_type": "stream",
     "text": [
      "SR280CA5E\n",
      "Saved.\n"
     ]
    },
    {
     "name": "stderr",
     "output_type": "stream",
     "text": [
      "Week: E:  46%|██████████████████████████████████▏                                       | 6/13 [00:03<00:04,  1.62it/s]"
     ]
    },
    {
     "name": "stdout",
     "output_type": "stream",
     "text": [
      "SR290CA5E\n",
      "Saved.\n"
     ]
    },
    {
     "name": "stderr",
     "output_type": "stream",
     "text": [
      "Week: E:  54%|███████████████████████████████████████▊                                  | 7/13 [00:04<00:03,  1.83it/s]"
     ]
    },
    {
     "name": "stdout",
     "output_type": "stream",
     "text": [
      "SR300CA5E\n",
      "Saved.\n"
     ]
    },
    {
     "name": "stderr",
     "output_type": "stream",
     "text": [
      "Week: E:  62%|█████████████████████████████████████████████▌                            | 8/13 [00:04<00:03,  1.64it/s]"
     ]
    },
    {
     "name": "stdout",
     "output_type": "stream",
     "text": [
      "SR310CA5E\n",
      "Saved.\n"
     ]
    },
    {
     "name": "stderr",
     "output_type": "stream",
     "text": [
      "Week: E:  69%|███████████████████████████████████████████████████▏                      | 9/13 [00:05<00:02,  1.66it/s]"
     ]
    },
    {
     "name": "stdout",
     "output_type": "stream",
     "text": [
      "SR320CA5E\n",
      "Saved.\n"
     ]
    },
    {
     "name": "stderr",
     "output_type": "stream",
     "text": [
      "Week: E: 100%|█████████████████████████████████████████████████████████████████████████| 13/13 [00:07<00:00,  1.83it/s]\n"
     ]
    },
    {
     "name": "stdout",
     "output_type": "stream",
     "text": [
      "- month: B\n"
     ]
    },
    {
     "name": "stderr",
     "output_type": "stream",
     "text": [
      "Week: -:   8%|█████▋                                                                    | 1/13 [00:00<00:07,  1.56it/s]"
     ]
    },
    {
     "name": "stdout",
     "output_type": "stream",
     "text": [
      "SR240CB5\n",
      "Saved.\n"
     ]
    },
    {
     "name": "stderr",
     "output_type": "stream",
     "text": [
      "Week: -:  15%|███████████▍                                                              | 2/13 [00:01<00:05,  1.93it/s]"
     ]
    },
    {
     "name": "stdout",
     "output_type": "stream",
     "text": [
      "SR250CB5\n",
      "Saved.\n"
     ]
    },
    {
     "name": "stderr",
     "output_type": "stream",
     "text": [
      "Week: -:  23%|█████████████████                                                         | 3/13 [00:01<00:05,  1.83it/s]"
     ]
    },
    {
     "name": "stdout",
     "output_type": "stream",
     "text": [
      "SR260CB5\n",
      "Saved.\n"
     ]
    },
    {
     "name": "stderr",
     "output_type": "stream",
     "text": [
      "Week: -:  31%|██████████████████████▊                                                   | 4/13 [00:02<00:05,  1.50it/s]"
     ]
    },
    {
     "name": "stdout",
     "output_type": "stream",
     "text": [
      "SR270CB5\n",
      "Saved.\n"
     ]
    },
    {
     "name": "stderr",
     "output_type": "stream",
     "text": [
      "Week: -:  38%|████████████████████████████▍                                             | 5/13 [00:03<00:05,  1.45it/s]"
     ]
    },
    {
     "name": "stdout",
     "output_type": "stream",
     "text": [
      "SR280CB5\n",
      "Saved.\n"
     ]
    },
    {
     "name": "stderr",
     "output_type": "stream",
     "text": [
      "Week: -:  46%|██████████████████████████████████▏                                       | 6/13 [00:05<00:08,  1.17s/it]"
     ]
    },
    {
     "name": "stdout",
     "output_type": "stream",
     "text": [
      "SR290CB5\n",
      "Saved.\n"
     ]
    },
    {
     "name": "stderr",
     "output_type": "stream",
     "text": [
      "Week: -:  54%|███████████████████████████████████████▊                                  | 7/13 [00:05<00:06,  1.00s/it]"
     ]
    },
    {
     "name": "stdout",
     "output_type": "stream",
     "text": [
      "SR300CB5\n",
      "Saved.\n"
     ]
    },
    {
     "name": "stderr",
     "output_type": "stream",
     "text": [
      "Week: -:  62%|█████████████████████████████████████████████▌                            | 8/13 [00:06<00:04,  1.11it/s]"
     ]
    },
    {
     "name": "stdout",
     "output_type": "stream",
     "text": [
      "SR310CB5\n",
      "Saved.\n"
     ]
    },
    {
     "name": "stderr",
     "output_type": "stream",
     "text": [
      "Week: -:  69%|███████████████████████████████████████████████████▏                      | 9/13 [00:07<00:03,  1.32it/s]"
     ]
    },
    {
     "name": "stdout",
     "output_type": "stream",
     "text": [
      "SR320CB5\n",
      "Saved.\n"
     ]
    },
    {
     "name": "stderr",
     "output_type": "stream",
     "text": [
      "Week: -:  77%|████████████████████████████████████████████████████████▏                | 10/13 [00:07<00:01,  1.50it/s]"
     ]
    },
    {
     "name": "stdout",
     "output_type": "stream",
     "text": [
      "SR330CB5\n",
      "Saved.\n"
     ]
    },
    {
     "name": "stderr",
     "output_type": "stream",
     "text": [
      "Week: -:  85%|█████████████████████████████████████████████████████████████▊           | 11/13 [00:08<00:01,  1.68it/s]"
     ]
    },
    {
     "name": "stdout",
     "output_type": "stream",
     "text": [
      "SR340CB5\n",
      "Saved.\n"
     ]
    },
    {
     "name": "stderr",
     "output_type": "stream",
     "text": [
      "Week: -:  92%|███████████████████████████████████████████████████████████████████▍     | 12/13 [00:08<00:00,  1.82it/s]"
     ]
    },
    {
     "name": "stdout",
     "output_type": "stream",
     "text": [
      "SR350CB5\n",
      "Saved.\n"
     ]
    },
    {
     "name": "stderr",
     "output_type": "stream",
     "text": [
      "Week: -: 100%|█████████████████████████████████████████████████████████████████████████| 13/13 [00:09<00:00,  1.38it/s]\n"
     ]
    },
    {
     "name": "stdout",
     "output_type": "stream",
     "text": [
      "SR360CB5\n",
      "Saved.\n"
     ]
    },
    {
     "name": "stderr",
     "output_type": "stream",
     "text": [
      "Week: A:  15%|███████████▍                                                              | 2/13 [00:01<00:07,  1.47it/s]"
     ]
    },
    {
     "name": "stdout",
     "output_type": "stream",
     "text": [
      "SR250CB5A\n",
      "Saved.\n"
     ]
    },
    {
     "name": "stderr",
     "output_type": "stream",
     "text": [
      "Week: A:  23%|█████████████████                                                         | 3/13 [00:03<00:11,  1.15s/it]"
     ]
    },
    {
     "name": "stdout",
     "output_type": "stream",
     "text": [
      "SR260CB5A\n",
      "Saved.\n"
     ]
    },
    {
     "name": "stderr",
     "output_type": "stream",
     "text": [
      "Week: A:  31%|██████████████████████▊                                                   | 4/13 [00:06<00:18,  2.02s/it]"
     ]
    },
    {
     "name": "stdout",
     "output_type": "stream",
     "text": [
      "SR270CB5A\n",
      "Saved.\n"
     ]
    },
    {
     "name": "stderr",
     "output_type": "stream",
     "text": [
      "Week: A:  38%|████████████████████████████▍                                             | 5/13 [00:06<00:11,  1.46s/it]"
     ]
    },
    {
     "name": "stdout",
     "output_type": "stream",
     "text": [
      "SR280CB5A\n",
      "Saved.\n"
     ]
    },
    {
     "name": "stderr",
     "output_type": "stream",
     "text": [
      "Week: A:  46%|██████████████████████████████████▏                                       | 6/13 [00:07<00:08,  1.28s/it]"
     ]
    },
    {
     "name": "stdout",
     "output_type": "stream",
     "text": [
      "SR290CB5A\n",
      "Saved.\n"
     ]
    },
    {
     "name": "stderr",
     "output_type": "stream",
     "text": [
      "Week: A:  54%|███████████████████████████████████████▊                                  | 7/13 [00:09<00:08,  1.43s/it]"
     ]
    },
    {
     "name": "stdout",
     "output_type": "stream",
     "text": [
      "SR300CB5A\n",
      "Saved.\n"
     ]
    },
    {
     "name": "stderr",
     "output_type": "stream",
     "text": [
      "Week: A:  62%|█████████████████████████████████████████████▌                            | 8/13 [00:09<00:05,  1.10s/it]"
     ]
    },
    {
     "name": "stdout",
     "output_type": "stream",
     "text": [
      "SR310CB5A\n",
      "Saved.\n"
     ]
    },
    {
     "name": "stderr",
     "output_type": "stream",
     "text": [
      "Week: A: 100%|█████████████████████████████████████████████████████████████████████████| 13/13 [00:11<00:00,  1.10it/s]\n",
      "Week: B:  15%|███████████▍                                                              | 2/13 [00:00<00:04,  2.27it/s]"
     ]
    },
    {
     "name": "stdout",
     "output_type": "stream",
     "text": [
      "SR250CB5B\n",
      "Saved.\n"
     ]
    },
    {
     "name": "stderr",
     "output_type": "stream",
     "text": [
      "Week: B:  23%|█████████████████                                                         | 3/13 [00:01<00:04,  2.32it/s]"
     ]
    },
    {
     "name": "stdout",
     "output_type": "stream",
     "text": [
      "SR260CB5B\n",
      "Saved.\n"
     ]
    },
    {
     "name": "stderr",
     "output_type": "stream",
     "text": [
      "Week: B:  31%|██████████████████████▊                                                   | 4/13 [00:01<00:03,  2.42it/s]"
     ]
    },
    {
     "name": "stdout",
     "output_type": "stream",
     "text": [
      "SR270CB5B\n",
      "Saved.\n"
     ]
    },
    {
     "name": "stderr",
     "output_type": "stream",
     "text": [
      "Week: B:  38%|████████████████████████████▍                                             | 5/13 [00:02<00:03,  2.13it/s]"
     ]
    },
    {
     "name": "stdout",
     "output_type": "stream",
     "text": [
      "SR280CB5B\n",
      "Saved.\n"
     ]
    },
    {
     "name": "stderr",
     "output_type": "stream",
     "text": [
      "Week: B:  46%|██████████████████████████████████▏                                       | 6/13 [00:03<00:04,  1.52it/s]"
     ]
    },
    {
     "name": "stdout",
     "output_type": "stream",
     "text": [
      "SR290CB5B\n",
      "Saved.\n"
     ]
    },
    {
     "name": "stderr",
     "output_type": "stream",
     "text": [
      "Week: B:  54%|███████████████████████████████████████▊                                  | 7/13 [00:03<00:04,  1.50it/s]"
     ]
    },
    {
     "name": "stdout",
     "output_type": "stream",
     "text": [
      "SR300CB5B\n",
      "Saved.\n"
     ]
    },
    {
     "name": "stderr",
     "output_type": "stream",
     "text": [
      "Week: B:  62%|█████████████████████████████████████████████▌                            | 8/13 [00:04<00:02,  1.71it/s]"
     ]
    },
    {
     "name": "stdout",
     "output_type": "stream",
     "text": [
      "SR310CB5B\n",
      "Saved.\n"
     ]
    },
    {
     "name": "stderr",
     "output_type": "stream",
     "text": [
      "Week: B: 100%|█████████████████████████████████████████████████████████████████████████| 13/13 [00:06<00:00,  2.11it/s]\n",
      "Week: C: 100%|█████████████████████████████████████████████████████████████████████████| 13/13 [00:04<00:00,  2.69it/s]\n",
      "Week: D:  15%|███████████▍                                                              | 2/13 [00:00<00:04,  2.71it/s]"
     ]
    },
    {
     "name": "stdout",
     "output_type": "stream",
     "text": [
      "SR250CB5D\n",
      "Saved.\n"
     ]
    },
    {
     "name": "stderr",
     "output_type": "stream",
     "text": [
      "Week: D:  23%|█████████████████                                                         | 3/13 [00:01<00:04,  2.30it/s]"
     ]
    },
    {
     "name": "stdout",
     "output_type": "stream",
     "text": [
      "SR260CB5D\n",
      "Saved.\n"
     ]
    },
    {
     "name": "stderr",
     "output_type": "stream",
     "text": [
      "Week: D:  31%|██████████████████████▊                                                   | 4/13 [00:01<00:03,  2.28it/s]"
     ]
    },
    {
     "name": "stdout",
     "output_type": "stream",
     "text": [
      "SR270CB5D\n",
      "Saved.\n"
     ]
    },
    {
     "name": "stderr",
     "output_type": "stream",
     "text": [
      "Week: D:  38%|████████████████████████████▍                                             | 5/13 [00:02<00:03,  2.42it/s]"
     ]
    },
    {
     "name": "stdout",
     "output_type": "stream",
     "text": [
      "SR280CB5D\n",
      "Saved.\n"
     ]
    },
    {
     "name": "stderr",
     "output_type": "stream",
     "text": [
      "Week: D:  46%|██████████████████████████████████▏                                       | 6/13 [00:02<00:02,  2.48it/s]"
     ]
    },
    {
     "name": "stdout",
     "output_type": "stream",
     "text": [
      "SR290CB5D\n",
      "Saved.\n"
     ]
    },
    {
     "name": "stderr",
     "output_type": "stream",
     "text": [
      "Week: D:  54%|███████████████████████████████████████▊                                  | 7/13 [00:02<00:02,  2.31it/s]"
     ]
    },
    {
     "name": "stdout",
     "output_type": "stream",
     "text": [
      "SR300CB5D\n",
      "Saved.\n"
     ]
    },
    {
     "name": "stderr",
     "output_type": "stream",
     "text": [
      "Week: D:  62%|█████████████████████████████████████████████▌                            | 8/13 [00:03<00:02,  2.27it/s]"
     ]
    },
    {
     "name": "stdout",
     "output_type": "stream",
     "text": [
      "SR310CB5D\n",
      "Saved.\n"
     ]
    },
    {
     "name": "stderr",
     "output_type": "stream",
     "text": [
      "Week: D:  69%|███████████████████████████████████████████████████▏                      | 9/13 [00:08<00:07,  1.80s/it]"
     ]
    },
    {
     "name": "stdout",
     "output_type": "stream",
     "text": [
      "SR320CB5D\n",
      "Saved.\n"
     ]
    },
    {
     "name": "stderr",
     "output_type": "stream",
     "text": [
      "Week: D:  77%|████████████████████████████████████████████████████████▏                | 10/13 [00:08<00:04,  1.45s/it]"
     ]
    },
    {
     "name": "stdout",
     "output_type": "stream",
     "text": [
      "SR330CB5D\n",
      "Saved.\n"
     ]
    },
    {
     "name": "stderr",
     "output_type": "stream",
     "text": [
      "Week: D:  85%|█████████████████████████████████████████████████████████████▊           | 11/13 [00:10<00:02,  1.38s/it]"
     ]
    },
    {
     "name": "stdout",
     "output_type": "stream",
     "text": [
      "SR340CB5D\n",
      "Saved.\n"
     ]
    },
    {
     "name": "stderr",
     "output_type": "stream",
     "text": [
      "Week: D:  92%|███████████████████████████████████████████████████████████████████▍     | 12/13 [00:10<00:01,  1.21s/it]"
     ]
    },
    {
     "name": "stdout",
     "output_type": "stream",
     "text": [
      "SR350CB5D\n",
      "Saved.\n"
     ]
    },
    {
     "name": "stderr",
     "output_type": "stream",
     "text": [
      "Week: D: 100%|█████████████████████████████████████████████████████████████████████████| 13/13 [00:11<00:00,  1.12it/s]\n"
     ]
    },
    {
     "name": "stdout",
     "output_type": "stream",
     "text": [
      "SR360CB5D\n",
      "Saved.\n"
     ]
    },
    {
     "name": "stderr",
     "output_type": "stream",
     "text": [
      "Week: E: 100%|█████████████████████████████████████████████████████████████████████████| 13/13 [00:05<00:00,  2.17it/s]\n"
     ]
    },
    {
     "name": "stdout",
     "output_type": "stream",
     "text": [
      "- month: C\n"
     ]
    },
    {
     "name": "stderr",
     "output_type": "stream",
     "text": [
      "Week: -:   8%|█████▋                                                                    | 1/13 [00:01<00:20,  1.74s/it]"
     ]
    },
    {
     "name": "stdout",
     "output_type": "stream",
     "text": [
      "SR240CC5\n",
      "Saved.\n"
     ]
    },
    {
     "name": "stderr",
     "output_type": "stream",
     "text": [
      "Week: -:  15%|███████████▍                                                              | 2/13 [00:02<00:13,  1.26s/it]"
     ]
    },
    {
     "name": "stdout",
     "output_type": "stream",
     "text": [
      "SR250CC5\n",
      "Saved.\n"
     ]
    },
    {
     "name": "stderr",
     "output_type": "stream",
     "text": [
      "Week: -:  23%|█████████████████                                                         | 3/13 [00:04<00:13,  1.39s/it]"
     ]
    },
    {
     "name": "stdout",
     "output_type": "stream",
     "text": [
      "SR260CC5\n",
      "Saved.\n"
     ]
    },
    {
     "name": "stderr",
     "output_type": "stream",
     "text": [
      "Week: -:  31%|██████████████████████▊                                                   | 4/13 [00:05<00:12,  1.35s/it]"
     ]
    },
    {
     "name": "stdout",
     "output_type": "stream",
     "text": [
      "SR270CC5\n",
      "Saved.\n"
     ]
    },
    {
     "name": "stderr",
     "output_type": "stream",
     "text": [
      "Week: -:  38%|████████████████████████████▍                                             | 5/13 [00:06<00:08,  1.12s/it]"
     ]
    },
    {
     "name": "stdout",
     "output_type": "stream",
     "text": [
      "SR280CC5\n",
      "Saved.\n"
     ]
    },
    {
     "name": "stderr",
     "output_type": "stream",
     "text": [
      "Week: -:  46%|██████████████████████████████████▏                                       | 6/13 [00:06<00:06,  1.05it/s]"
     ]
    },
    {
     "name": "stdout",
     "output_type": "stream",
     "text": [
      "SR290CC5\n",
      "Saved.\n"
     ]
    },
    {
     "name": "stderr",
     "output_type": "stream",
     "text": [
      "Week: -:  54%|███████████████████████████████████████▊                                  | 7/13 [00:08<00:07,  1.18s/it]"
     ]
    },
    {
     "name": "stdout",
     "output_type": "stream",
     "text": [
      "SR300CC5\n",
      "Saved.\n"
     ]
    },
    {
     "name": "stderr",
     "output_type": "stream",
     "text": [
      "Week: -:  62%|█████████████████████████████████████████████▌                            | 8/13 [00:09<00:06,  1.27s/it]"
     ]
    },
    {
     "name": "stdout",
     "output_type": "stream",
     "text": [
      "SR310CC5\n",
      "Saved.\n"
     ]
    },
    {
     "name": "stderr",
     "output_type": "stream",
     "text": [
      "Week: -:  69%|███████████████████████████████████████████████████▏                      | 9/13 [00:11<00:05,  1.34s/it]"
     ]
    },
    {
     "name": "stdout",
     "output_type": "stream",
     "text": [
      "SR320CC5\n",
      "Saved.\n"
     ]
    },
    {
     "name": "stderr",
     "output_type": "stream",
     "text": [
      "Week: -:  77%|████████████████████████████████████████████████████████▏                | 10/13 [00:12<00:03,  1.32s/it]"
     ]
    },
    {
     "name": "stdout",
     "output_type": "stream",
     "text": [
      "SR330CC5\n",
      "Saved.\n"
     ]
    },
    {
     "name": "stderr",
     "output_type": "stream",
     "text": [
      "Week: -:  85%|█████████████████████████████████████████████████████████████▊           | 11/13 [00:13<00:02,  1.28s/it]"
     ]
    },
    {
     "name": "stdout",
     "output_type": "stream",
     "text": [
      "SR340CC5\n",
      "Saved.\n"
     ]
    },
    {
     "name": "stderr",
     "output_type": "stream",
     "text": [
      "Week: -:  92%|███████████████████████████████████████████████████████████████████▍     | 12/13 [00:17<00:01,  1.95s/it]"
     ]
    },
    {
     "name": "stdout",
     "output_type": "stream",
     "text": [
      "SR350CC5\n",
      "Saved.\n"
     ]
    },
    {
     "name": "stderr",
     "output_type": "stream",
     "text": [
      "Week: -: 100%|█████████████████████████████████████████████████████████████████████████| 13/13 [00:22<00:00,  1.72s/it]\n"
     ]
    },
    {
     "name": "stdout",
     "output_type": "stream",
     "text": [
      "SR360CC5\n",
      "Saved.\n"
     ]
    },
    {
     "name": "stderr",
     "output_type": "stream",
     "text": [
      "Week: A:  31%|██████████████████████▊                                                   | 4/13 [00:07<00:17,  1.94s/it]"
     ]
    },
    {
     "name": "stdout",
     "output_type": "stream",
     "text": [
      "SR270CC5A\n",
      "Saved.\n"
     ]
    },
    {
     "name": "stderr",
     "output_type": "stream",
     "text": [
      "Week: A:  38%|████████████████████████████▍                                             | 5/13 [00:07<00:11,  1.45s/it]"
     ]
    },
    {
     "name": "stdout",
     "output_type": "stream",
     "text": [
      "SR280CC5A\n",
      "Saved.\n"
     ]
    },
    {
     "name": "stderr",
     "output_type": "stream",
     "text": [
      "Week: A:  46%|██████████████████████████████████▏                                       | 6/13 [00:10<00:14,  2.08s/it]"
     ]
    },
    {
     "name": "stdout",
     "output_type": "stream",
     "text": [
      "SR290CC5A\n",
      "Saved.\n"
     ]
    },
    {
     "name": "stderr",
     "output_type": "stream",
     "text": [
      "Week: A:  54%|███████████████████████████████████████▊                                  | 7/13 [00:11<00:09,  1.60s/it]"
     ]
    },
    {
     "name": "stdout",
     "output_type": "stream",
     "text": [
      "SR300CC5A\n",
      "Saved.\n"
     ]
    },
    {
     "name": "stderr",
     "output_type": "stream",
     "text": [
      "Week: A:  62%|█████████████████████████████████████████████▌                            | 8/13 [00:12<00:06,  1.25s/it]"
     ]
    },
    {
     "name": "stdout",
     "output_type": "stream",
     "text": [
      "SR310CC5A\n",
      "Saved.\n"
     ]
    },
    {
     "name": "stderr",
     "output_type": "stream",
     "text": [
      "Week: A:  69%|███████████████████████████████████████████████████▏                      | 9/13 [00:12<00:03,  1.01it/s]"
     ]
    },
    {
     "name": "stdout",
     "output_type": "stream",
     "text": [
      "SR320CC5A\n",
      "Saved.\n"
     ]
    },
    {
     "name": "stderr",
     "output_type": "stream",
     "text": [
      "Week: A:  77%|████████████████████████████████████████████████████████▏                | 10/13 [00:12<00:02,  1.26it/s]"
     ]
    },
    {
     "name": "stdout",
     "output_type": "stream",
     "text": [
      "SR330CC5A\n",
      "Saved.\n"
     ]
    },
    {
     "name": "stderr",
     "output_type": "stream",
     "text": [
      "Week: A:  85%|█████████████████████████████████████████████████████████████▊           | 11/13 [00:13<00:01,  1.43it/s]"
     ]
    },
    {
     "name": "stdout",
     "output_type": "stream",
     "text": [
      "SR340CC5A\n",
      "Saved.\n"
     ]
    },
    {
     "name": "stderr",
     "output_type": "stream",
     "text": [
      "Week: A:  92%|███████████████████████████████████████████████████████████████████▍     | 12/13 [00:13<00:00,  1.61it/s]"
     ]
    },
    {
     "name": "stdout",
     "output_type": "stream",
     "text": [
      "SR350CC5A\n",
      "Saved.\n"
     ]
    },
    {
     "name": "stderr",
     "output_type": "stream",
     "text": [
      "Week: A: 100%|█████████████████████████████████████████████████████████████████████████| 13/13 [00:14<00:00,  1.13s/it]\n",
      "Week: B:  38%|████████████████████████████▍                                             | 5/13 [00:04<00:07,  1.13it/s]"
     ]
    },
    {
     "name": "stdout",
     "output_type": "stream",
     "text": [
      "SR280CC5B\n",
      "Saved.\n"
     ]
    },
    {
     "name": "stderr",
     "output_type": "stream",
     "text": [
      "Week: B:  46%|██████████████████████████████████▏                                       | 6/13 [00:04<00:05,  1.34it/s]"
     ]
    },
    {
     "name": "stdout",
     "output_type": "stream",
     "text": [
      "SR290CC5B\n",
      "Saved.\n"
     ]
    },
    {
     "name": "stderr",
     "output_type": "stream",
     "text": [
      "Week: B:  54%|███████████████████████████████████████▊                                  | 7/13 [00:05<00:04,  1.47it/s]"
     ]
    },
    {
     "name": "stdout",
     "output_type": "stream",
     "text": [
      "SR300CC5B\n",
      "Saved.\n"
     ]
    },
    {
     "name": "stderr",
     "output_type": "stream",
     "text": [
      "Week: B:  62%|█████████████████████████████████████████████▌                            | 8/13 [00:05<00:03,  1.58it/s]"
     ]
    },
    {
     "name": "stdout",
     "output_type": "stream",
     "text": [
      "SR310CC5B\n",
      "Saved.\n"
     ]
    },
    {
     "name": "stderr",
     "output_type": "stream",
     "text": [
      "Week: B:  69%|███████████████████████████████████████████████████▏                      | 9/13 [00:06<00:02,  1.61it/s]"
     ]
    },
    {
     "name": "stdout",
     "output_type": "stream",
     "text": [
      "SR320CC5B\n",
      "Saved.\n"
     ]
    },
    {
     "name": "stderr",
     "output_type": "stream",
     "text": [
      "Week: B:  77%|████████████████████████████████████████████████████████▏                | 10/13 [00:06<00:01,  1.81it/s]"
     ]
    },
    {
     "name": "stdout",
     "output_type": "stream",
     "text": [
      "SR330CC5B\n",
      "Saved.\n"
     ]
    },
    {
     "name": "stderr",
     "output_type": "stream",
     "text": [
      "Week: B:  85%|█████████████████████████████████████████████████████████████▊           | 11/13 [00:07<00:00,  2.03it/s]"
     ]
    },
    {
     "name": "stdout",
     "output_type": "stream",
     "text": [
      "SR340CC5B\n",
      "Saved.\n"
     ]
    },
    {
     "name": "stderr",
     "output_type": "stream",
     "text": [
      "Week: B:  92%|███████████████████████████████████████████████████████████████████▍     | 12/13 [00:07<00:00,  2.16it/s]"
     ]
    },
    {
     "name": "stdout",
     "output_type": "stream",
     "text": [
      "SR350CC5B\n",
      "Saved.\n"
     ]
    },
    {
     "name": "stderr",
     "output_type": "stream",
     "text": [
      "Week: B: 100%|█████████████████████████████████████████████████████████████████████████| 13/13 [00:07<00:00,  1.63it/s]\n",
      "Week: C: 100%|█████████████████████████████████████████████████████████████████████████| 13/13 [00:05<00:00,  2.45it/s]\n",
      "Week: D: 100%|█████████████████████████████████████████████████████████████████████████| 13/13 [00:05<00:00,  2.35it/s]\n",
      "Week: E: 100%|█████████████████████████████████████████████████████████████████████████| 13/13 [00:04<00:00,  2.66it/s]\n"
     ]
    },
    {
     "name": "stdout",
     "output_type": "stream",
     "text": [
      "- month: D\n"
     ]
    },
    {
     "name": "stderr",
     "output_type": "stream",
     "text": [
      "Week: -:  46%|██████████████████████████████████▏                                       | 6/13 [00:02<00:02,  2.87it/s]"
     ]
    },
    {
     "name": "stdout",
     "output_type": "stream",
     "text": [
      "SR290CD5\n",
      "Saved.\n"
     ]
    },
    {
     "name": "stderr",
     "output_type": "stream",
     "text": [
      "Week: -:  54%|███████████████████████████████████████▊                                  | 7/13 [00:02<00:02,  2.70it/s]"
     ]
    },
    {
     "name": "stdout",
     "output_type": "stream",
     "text": [
      "SR300CD5\n",
      "Saved.\n"
     ]
    },
    {
     "name": "stderr",
     "output_type": "stream",
     "text": [
      "Week: -:  62%|█████████████████████████████████████████████▌                            | 8/13 [00:03<00:01,  2.71it/s]"
     ]
    },
    {
     "name": "stdout",
     "output_type": "stream",
     "text": [
      "SR310CD5\n",
      "Saved.\n"
     ]
    },
    {
     "name": "stderr",
     "output_type": "stream",
     "text": [
      "Week: -:  69%|███████████████████████████████████████████████████▏                      | 9/13 [00:03<00:01,  2.77it/s]"
     ]
    },
    {
     "name": "stdout",
     "output_type": "stream",
     "text": [
      "SR320CD5\n",
      "Saved.\n"
     ]
    },
    {
     "name": "stderr",
     "output_type": "stream",
     "text": [
      "Week: -:  92%|███████████████████████████████████████████████████████████████████▍     | 12/13 [00:04<00:00,  2.38it/s]"
     ]
    },
    {
     "name": "stdout",
     "output_type": "stream",
     "text": [
      "SR350CD5\n",
      "Saved.\n"
     ]
    },
    {
     "name": "stderr",
     "output_type": "stream",
     "text": [
      "Week: -: 100%|█████████████████████████████████████████████████████████████████████████| 13/13 [00:05<00:00,  2.50it/s]\n"
     ]
    },
    {
     "name": "stdout",
     "output_type": "stream",
     "text": [
      "SR360CD5\n",
      "Saved.\n"
     ]
    },
    {
     "name": "stderr",
     "output_type": "stream",
     "text": [
      "Week: A: 100%|█████████████████████████████████████████████████████████████████████████| 13/13 [00:05<00:00,  2.32it/s]\n",
      "Week: B: 100%|█████████████████████████████████████████████████████████████████████████| 13/13 [00:04<00:00,  2.69it/s]\n",
      "Week: C: 100%|█████████████████████████████████████████████████████████████████████████| 13/13 [00:06<00:00,  2.05it/s]\n",
      "Week: D: 100%|█████████████████████████████████████████████████████████████████████████| 13/13 [00:04<00:00,  2.66it/s]\n",
      "Week: E: 100%|█████████████████████████████████████████████████████████████████████████| 13/13 [00:05<00:00,  2.50it/s]\n"
     ]
    },
    {
     "name": "stdout",
     "output_type": "stream",
     "text": [
      "- month: E\n"
     ]
    },
    {
     "name": "stderr",
     "output_type": "stream",
     "text": [
      "Week: -: 100%|█████████████████████████████████████████████████████████████████████████| 13/13 [00:04<00:00,  2.87it/s]\n",
      "Week: A: 100%|█████████████████████████████████████████████████████████████████████████| 13/13 [00:06<00:00,  1.87it/s]\n",
      "Week: B: 100%|█████████████████████████████████████████████████████████████████████████| 13/13 [00:06<00:00,  1.93it/s]\n",
      "Week: C: 100%|█████████████████████████████████████████████████████████████████████████| 13/13 [00:06<00:00,  1.89it/s]\n",
      "Week: D: 100%|█████████████████████████████████████████████████████████████████████████| 13/13 [00:05<00:00,  2.53it/s]\n",
      "Week: E: 100%|█████████████████████████████████████████████████████████████████████████| 13/13 [00:06<00:00,  2.14it/s]\n"
     ]
    },
    {
     "name": "stdout",
     "output_type": "stream",
     "text": [
      "- month: F\n"
     ]
    },
    {
     "name": "stderr",
     "output_type": "stream",
     "text": [
      "Week: -:   8%|█████▋                                                                    | 1/13 [00:01<00:18,  1.56s/it]"
     ]
    },
    {
     "name": "stdout",
     "output_type": "stream",
     "text": [
      "SR240CF5\n",
      "Saved.\n"
     ]
    },
    {
     "name": "stderr",
     "output_type": "stream",
     "text": [
      "Week: -:  15%|███████████▍                                                              | 2/13 [00:02<00:14,  1.32s/it]"
     ]
    },
    {
     "name": "stdout",
     "output_type": "stream",
     "text": [
      "SR250CF5\n",
      "Saved.\n"
     ]
    },
    {
     "name": "stderr",
     "output_type": "stream",
     "text": [
      "Week: -:  23%|█████████████████                                                         | 3/13 [00:03<00:10,  1.04s/it]"
     ]
    },
    {
     "name": "stdout",
     "output_type": "stream",
     "text": [
      "SR260CF5\n",
      "Saved.\n"
     ]
    },
    {
     "name": "stderr",
     "output_type": "stream",
     "text": [
      "Week: -:  31%|██████████████████████▊                                                   | 4/13 [00:03<00:07,  1.19it/s]"
     ]
    },
    {
     "name": "stdout",
     "output_type": "stream",
     "text": [
      "SR270CF5\n",
      "Saved.\n"
     ]
    },
    {
     "name": "stderr",
     "output_type": "stream",
     "text": [
      "Week: -:  38%|████████████████████████████▍                                             | 5/13 [00:04<00:06,  1.29it/s]"
     ]
    },
    {
     "name": "stdout",
     "output_type": "stream",
     "text": [
      "SR280CF5\n",
      "Saved.\n"
     ]
    },
    {
     "name": "stderr",
     "output_type": "stream",
     "text": [
      "Week: -:  46%|██████████████████████████████████▏                                       | 6/13 [00:05<00:04,  1.48it/s]"
     ]
    },
    {
     "name": "stdout",
     "output_type": "stream",
     "text": [
      "SR290CF5\n",
      "Saved.\n"
     ]
    },
    {
     "name": "stderr",
     "output_type": "stream",
     "text": [
      "Week: -:  54%|███████████████████████████████████████▊                                  | 7/13 [00:05<00:03,  1.57it/s]"
     ]
    },
    {
     "name": "stdout",
     "output_type": "stream",
     "text": [
      "SR300CF5\n",
      "Saved.\n"
     ]
    },
    {
     "name": "stderr",
     "output_type": "stream",
     "text": [
      "Week: -:  62%|█████████████████████████████████████████████▌                            | 8/13 [00:06<00:03,  1.45it/s]"
     ]
    },
    {
     "name": "stdout",
     "output_type": "stream",
     "text": [
      "SR310CF5\n",
      "Saved.\n"
     ]
    },
    {
     "name": "stderr",
     "output_type": "stream",
     "text": [
      "Week: -:  69%|███████████████████████████████████████████████████▏                      | 9/13 [00:06<00:02,  1.60it/s]"
     ]
    },
    {
     "name": "stdout",
     "output_type": "stream",
     "text": [
      "SR320CF5\n",
      "Saved.\n"
     ]
    },
    {
     "name": "stderr",
     "output_type": "stream",
     "text": [
      "Week: -:  77%|████████████████████████████████████████████████████████▏                | 10/13 [00:07<00:01,  1.70it/s]"
     ]
    },
    {
     "name": "stdout",
     "output_type": "stream",
     "text": [
      "SR330CF5\n",
      "Saved.\n"
     ]
    },
    {
     "name": "stderr",
     "output_type": "stream",
     "text": [
      "Week: -:  85%|█████████████████████████████████████████████████████████████▊           | 11/13 [00:08<00:01,  1.65it/s]"
     ]
    },
    {
     "name": "stdout",
     "output_type": "stream",
     "text": [
      "SR340CF5\n",
      "Saved.\n"
     ]
    },
    {
     "name": "stderr",
     "output_type": "stream",
     "text": [
      "Week: -:  92%|███████████████████████████████████████████████████████████████████▍     | 12/13 [00:08<00:00,  1.57it/s]"
     ]
    },
    {
     "name": "stdout",
     "output_type": "stream",
     "text": [
      "SR350CF5\n",
      "Saved.\n"
     ]
    },
    {
     "name": "stderr",
     "output_type": "stream",
     "text": [
      "Week: -: 100%|█████████████████████████████████████████████████████████████████████████| 13/13 [00:09<00:00,  1.41it/s]\n"
     ]
    },
    {
     "name": "stdout",
     "output_type": "stream",
     "text": [
      "SR360CF5\n",
      "Saved.\n"
     ]
    },
    {
     "name": "stderr",
     "output_type": "stream",
     "text": [
      "Week: A: 100%|█████████████████████████████████████████████████████████████████████████| 13/13 [00:07<00:00,  1.84it/s]\n",
      "Week: B: 100%|█████████████████████████████████████████████████████████████████████████| 13/13 [00:05<00:00,  2.38it/s]\n",
      "Week: C: 100%|█████████████████████████████████████████████████████████████████████████| 13/13 [00:04<00:00,  2.63it/s]\n",
      "Week: D: 100%|█████████████████████████████████████████████████████████████████████████| 13/13 [00:05<00:00,  2.58it/s]\n",
      "Week: E: 100%|█████████████████████████████████████████████████████████████████████████| 13/13 [00:05<00:00,  2.41it/s]\n"
     ]
    },
    {
     "name": "stdout",
     "output_type": "stream",
     "text": [
      "- month: G\n"
     ]
    },
    {
     "name": "stderr",
     "output_type": "stream",
     "text": [
      "Week: -: 100%|█████████████████████████████████████████████████████████████████████████| 13/13 [00:07<00:00,  1.81it/s]\n",
      "Week: A: 100%|█████████████████████████████████████████████████████████████████████████| 13/13 [00:04<00:00,  2.67it/s]\n",
      "Week: B: 100%|█████████████████████████████████████████████████████████████████████████| 13/13 [00:05<00:00,  2.50it/s]\n",
      "Week: C: 100%|█████████████████████████████████████████████████████████████████████████| 13/13 [00:04<00:00,  2.62it/s]\n",
      "Week: D: 100%|█████████████████████████████████████████████████████████████████████████| 13/13 [00:07<00:00,  1.75it/s]\n",
      "Week: E: 100%|█████████████████████████████████████████████████████████████████████████| 13/13 [00:05<00:00,  2.36it/s]\n"
     ]
    },
    {
     "name": "stdout",
     "output_type": "stream",
     "text": [
      "- month: H\n"
     ]
    },
    {
     "name": "stderr",
     "output_type": "stream",
     "text": [
      "Week: -: 100%|█████████████████████████████████████████████████████████████████████████| 13/13 [00:05<00:00,  2.45it/s]\n",
      "Week: A: 100%|█████████████████████████████████████████████████████████████████████████| 13/13 [00:06<00:00,  1.87it/s]\n",
      "Week: B: 100%|█████████████████████████████████████████████████████████████████████████| 13/13 [00:05<00:00,  2.51it/s]\n",
      "Week: C: 100%|█████████████████████████████████████████████████████████████████████████| 13/13 [00:04<00:00,  2.63it/s]\n",
      "Week: D: 100%|█████████████████████████████████████████████████████████████████████████| 13/13 [00:04<00:00,  2.67it/s]\n",
      "Week: E: 100%|█████████████████████████████████████████████████████████████████████████| 13/13 [00:06<00:00,  2.15it/s]\n"
     ]
    },
    {
     "name": "stdout",
     "output_type": "stream",
     "text": [
      "- month: I\n"
     ]
    },
    {
     "name": "stderr",
     "output_type": "stream",
     "text": [
      "Week: -:   8%|█████▋                                                                    | 1/13 [00:01<00:12,  1.08s/it]"
     ]
    },
    {
     "name": "stdout",
     "output_type": "stream",
     "text": [
      "SR240CI5\n",
      "Saved.\n"
     ]
    },
    {
     "name": "stderr",
     "output_type": "stream",
     "text": [
      "Week: -:  15%|███████████▍                                                              | 2/13 [00:01<00:07,  1.45it/s]"
     ]
    },
    {
     "name": "stdout",
     "output_type": "stream",
     "text": [
      "SR250CI5\n",
      "Saved.\n"
     ]
    },
    {
     "name": "stderr",
     "output_type": "stream",
     "text": [
      "Week: -:  23%|█████████████████                                                         | 3/13 [00:02<00:09,  1.10it/s]"
     ]
    },
    {
     "name": "stdout",
     "output_type": "stream",
     "text": [
      "SR260CI5\n",
      "Saved.\n"
     ]
    },
    {
     "name": "stderr",
     "output_type": "stream",
     "text": [
      "Week: -:  31%|██████████████████████▊                                                   | 4/13 [00:03<00:06,  1.42it/s]"
     ]
    },
    {
     "name": "stdout",
     "output_type": "stream",
     "text": [
      "SR270CI5\n",
      "Saved.\n"
     ]
    },
    {
     "name": "stderr",
     "output_type": "stream",
     "text": [
      "Week: -:  38%|████████████████████████████▍                                             | 5/13 [00:03<00:04,  1.67it/s]"
     ]
    },
    {
     "name": "stdout",
     "output_type": "stream",
     "text": [
      "SR280CI5\n",
      "Saved.\n"
     ]
    },
    {
     "name": "stderr",
     "output_type": "stream",
     "text": [
      "Week: -:  46%|██████████████████████████████████▏                                       | 6/13 [00:04<00:04,  1.57it/s]"
     ]
    },
    {
     "name": "stdout",
     "output_type": "stream",
     "text": [
      "SR290CI5\n",
      "Saved.\n"
     ]
    },
    {
     "name": "stderr",
     "output_type": "stream",
     "text": [
      "Week: -:  54%|███████████████████████████████████████▊                                  | 7/13 [00:06<00:07,  1.17s/it]"
     ]
    },
    {
     "name": "stdout",
     "output_type": "stream",
     "text": [
      "SR300CI5\n",
      "Saved.\n"
     ]
    },
    {
     "name": "stderr",
     "output_type": "stream",
     "text": [
      "Week: -:  62%|█████████████████████████████████████████████▌                            | 8/13 [00:07<00:04,  1.03it/s]"
     ]
    },
    {
     "name": "stdout",
     "output_type": "stream",
     "text": [
      "SR310CI5\n",
      "Saved.\n"
     ]
    },
    {
     "name": "stderr",
     "output_type": "stream",
     "text": [
      "Week: -:  69%|███████████████████████████████████████████████████▏                      | 9/13 [00:07<00:03,  1.21it/s]"
     ]
    },
    {
     "name": "stdout",
     "output_type": "stream",
     "text": [
      "SR320CI5\n",
      "Saved.\n"
     ]
    },
    {
     "name": "stderr",
     "output_type": "stream",
     "text": [
      "Week: -:  77%|████████████████████████████████████████████████████████▏                | 10/13 [00:07<00:02,  1.44it/s]"
     ]
    },
    {
     "name": "stdout",
     "output_type": "stream",
     "text": [
      "SR330CI5\n",
      "Saved.\n"
     ]
    },
    {
     "name": "stderr",
     "output_type": "stream",
     "text": [
      "Week: -:  85%|█████████████████████████████████████████████████████████████▊           | 11/13 [00:08<00:01,  1.63it/s]"
     ]
    },
    {
     "name": "stdout",
     "output_type": "stream",
     "text": [
      "SR340CI5\n",
      "Saved.\n"
     ]
    },
    {
     "name": "stderr",
     "output_type": "stream",
     "text": [
      "Week: -:  92%|███████████████████████████████████████████████████████████████████▍     | 12/13 [00:08<00:00,  1.82it/s]"
     ]
    },
    {
     "name": "stdout",
     "output_type": "stream",
     "text": [
      "SR350CI5\n",
      "Saved.\n"
     ]
    },
    {
     "name": "stderr",
     "output_type": "stream",
     "text": [
      "Week: -: 100%|█████████████████████████████████████████████████████████████████████████| 13/13 [00:09<00:00,  1.41it/s]\n"
     ]
    },
    {
     "name": "stdout",
     "output_type": "stream",
     "text": [
      "SR360CI5\n",
      "Saved.\n"
     ]
    },
    {
     "name": "stderr",
     "output_type": "stream",
     "text": [
      "Week: A: 100%|█████████████████████████████████████████████████████████████████████████| 13/13 [00:04<00:00,  2.89it/s]\n",
      "Week: B: 100%|█████████████████████████████████████████████████████████████████████████| 13/13 [00:08<00:00,  1.62it/s]\n",
      "Week: C: 100%|█████████████████████████████████████████████████████████████████████████| 13/13 [00:05<00:00,  2.55it/s]\n",
      "Week: D: 100%|█████████████████████████████████████████████████████████████████████████| 13/13 [00:04<00:00,  3.02it/s]\n",
      "Week: E: 100%|█████████████████████████████████████████████████████████████████████████| 13/13 [00:04<00:00,  2.94it/s]\n"
     ]
    },
    {
     "name": "stdout",
     "output_type": "stream",
     "text": [
      "- month: J\n"
     ]
    },
    {
     "name": "stderr",
     "output_type": "stream",
     "text": [
      "Week: -: 100%|█████████████████████████████████████████████████████████████████████████| 13/13 [00:05<00:00,  2.58it/s]\n",
      "Week: A: 100%|█████████████████████████████████████████████████████████████████████████| 13/13 [00:04<00:00,  3.16it/s]\n",
      "Week: B: 100%|█████████████████████████████████████████████████████████████████████████| 13/13 [00:05<00:00,  2.18it/s]\n",
      "Week: C: 100%|█████████████████████████████████████████████████████████████████████████| 13/13 [00:03<00:00,  3.25it/s]\n",
      "Week: D: 100%|█████████████████████████████████████████████████████████████████████████| 13/13 [00:04<00:00,  2.77it/s]\n",
      "Week: E: 100%|█████████████████████████████████████████████████████████████████████████| 13/13 [00:04<00:00,  2.61it/s]\n"
     ]
    },
    {
     "name": "stdout",
     "output_type": "stream",
     "text": [
      "- month: K\n"
     ]
    },
    {
     "name": "stderr",
     "output_type": "stream",
     "text": [
      "Week: -: 100%|█████████████████████████████████████████████████████████████████████████| 13/13 [00:05<00:00,  2.53it/s]\n",
      "Week: A: 100%|█████████████████████████████████████████████████████████████████████████| 13/13 [00:04<00:00,  2.97it/s]\n",
      "Week: B: 100%|█████████████████████████████████████████████████████████████████████████| 13/13 [00:04<00:00,  2.84it/s]\n",
      "Week: C: 100%|█████████████████████████████████████████████████████████████████████████| 13/13 [00:04<00:00,  2.91it/s]\n",
      "Week: D: 100%|█████████████████████████████████████████████████████████████████████████| 13/13 [00:04<00:00,  2.91it/s]\n",
      "Week: E: 100%|█████████████████████████████████████████████████████████████████████████| 13/13 [00:04<00:00,  3.23it/s]\n"
     ]
    },
    {
     "name": "stdout",
     "output_type": "stream",
     "text": [
      "- month: L\n"
     ]
    },
    {
     "name": "stderr",
     "output_type": "stream",
     "text": [
      "Week: -: 100%|█████████████████████████████████████████████████████████████████████████| 13/13 [00:04<00:00,  2.88it/s]\n",
      "Week: A: 100%|█████████████████████████████████████████████████████████████████████████| 13/13 [00:05<00:00,  2.42it/s]\n",
      "Week: B: 100%|█████████████████████████████████████████████████████████████████████████| 13/13 [00:04<00:00,  3.00it/s]\n",
      "Week: C: 100%|█████████████████████████████████████████████████████████████████████████| 13/13 [00:04<00:00,  2.72it/s]\n",
      "Week: D: 100%|█████████████████████████████████████████████████████████████████████████| 13/13 [00:04<00:00,  3.08it/s]\n",
      "Week: E: 100%|█████████████████████████████████████████████████████████████████████████| 13/13 [00:04<00:00,  2.63it/s]\n"
     ]
    },
    {
     "name": "stdout",
     "output_type": "stream",
     "text": [
      "- month: M\n"
     ]
    },
    {
     "name": "stderr",
     "output_type": "stream",
     "text": [
      "Week: -:   8%|█████▋                                                                    | 1/13 [00:00<00:11,  1.08it/s]"
     ]
    },
    {
     "name": "stdout",
     "output_type": "stream",
     "text": [
      "SR240CM5\n",
      "Saved.\n"
     ]
    },
    {
     "name": "stderr",
     "output_type": "stream",
     "text": [
      "Week: -:  15%|███████████▍                                                              | 2/13 [00:01<00:09,  1.22it/s]"
     ]
    },
    {
     "name": "stdout",
     "output_type": "stream",
     "text": [
      "SR250CM5\n",
      "Saved.\n"
     ]
    },
    {
     "name": "stderr",
     "output_type": "stream",
     "text": [
      "Week: -:  23%|█████████████████                                                         | 3/13 [00:02<00:07,  1.42it/s]"
     ]
    },
    {
     "name": "stdout",
     "output_type": "stream",
     "text": [
      "SR260CM5\n",
      "Saved.\n"
     ]
    },
    {
     "name": "stderr",
     "output_type": "stream",
     "text": [
      "Week: -:  31%|██████████████████████▊                                                   | 4/13 [00:02<00:05,  1.68it/s]"
     ]
    },
    {
     "name": "stdout",
     "output_type": "stream",
     "text": [
      "SR270CM5\n",
      "Saved.\n"
     ]
    },
    {
     "name": "stderr",
     "output_type": "stream",
     "text": [
      "Week: -:  38%|████████████████████████████▍                                             | 5/13 [00:03<00:04,  1.72it/s]"
     ]
    },
    {
     "name": "stdout",
     "output_type": "stream",
     "text": [
      "SR280CM5\n",
      "Saved.\n"
     ]
    },
    {
     "name": "stderr",
     "output_type": "stream",
     "text": [
      "Week: -:  46%|██████████████████████████████████▏                                       | 6/13 [00:03<00:03,  1.97it/s]"
     ]
    },
    {
     "name": "stdout",
     "output_type": "stream",
     "text": [
      "SR290CM5\n",
      "Saved.\n"
     ]
    },
    {
     "name": "stderr",
     "output_type": "stream",
     "text": [
      "Week: -:  54%|███████████████████████████████████████▊                                  | 7/13 [00:03<00:02,  2.21it/s]"
     ]
    },
    {
     "name": "stdout",
     "output_type": "stream",
     "text": [
      "SR300CM5\n",
      "Saved.\n"
     ]
    },
    {
     "name": "stderr",
     "output_type": "stream",
     "text": [
      "Week: -:  62%|█████████████████████████████████████████████▌                            | 8/13 [00:04<00:02,  2.24it/s]"
     ]
    },
    {
     "name": "stdout",
     "output_type": "stream",
     "text": [
      "SR310CM5\n",
      "Saved.\n"
     ]
    },
    {
     "name": "stderr",
     "output_type": "stream",
     "text": [
      "Week: -:  69%|███████████████████████████████████████████████████▏                      | 9/13 [00:04<00:01,  2.45it/s]"
     ]
    },
    {
     "name": "stdout",
     "output_type": "stream",
     "text": [
      "SR320CM5\n",
      "Saved.\n"
     ]
    },
    {
     "name": "stderr",
     "output_type": "stream",
     "text": [
      "Week: -:  77%|████████████████████████████████████████████████████████▏                | 10/13 [00:05<00:01,  2.53it/s]"
     ]
    },
    {
     "name": "stdout",
     "output_type": "stream",
     "text": [
      "SR330CM5\n",
      "Saved.\n"
     ]
    },
    {
     "name": "stderr",
     "output_type": "stream",
     "text": [
      "Week: -: 100%|█████████████████████████████████████████████████████████████████████████| 13/13 [00:06<00:00,  2.15it/s]\n",
      "Week: A: 100%|█████████████████████████████████████████████████████████████████████████| 13/13 [00:05<00:00,  2.56it/s]\n",
      "Week: B:   8%|█████▋                                                                    | 1/13 [00:00<00:04,  2.68it/s]"
     ]
    },
    {
     "name": "stdout",
     "output_type": "stream",
     "text": [
      "SR240CM5B\n",
      "Saved.\n"
     ]
    },
    {
     "name": "stderr",
     "output_type": "stream",
     "text": [
      "Week: B:  15%|███████████▍                                                              | 2/13 [00:00<00:04,  2.55it/s]"
     ]
    },
    {
     "name": "stdout",
     "output_type": "stream",
     "text": [
      "SR250CM5B\n",
      "Saved.\n"
     ]
    },
    {
     "name": "stderr",
     "output_type": "stream",
     "text": [
      "Week: B:  23%|█████████████████                                                         | 3/13 [00:01<00:03,  2.69it/s]"
     ]
    },
    {
     "name": "stdout",
     "output_type": "stream",
     "text": [
      "SR260CM5B\n",
      "Saved.\n"
     ]
    },
    {
     "name": "stderr",
     "output_type": "stream",
     "text": [
      "Week: B:  31%|██████████████████████▊                                                   | 4/13 [00:01<00:03,  2.45it/s]"
     ]
    },
    {
     "name": "stdout",
     "output_type": "stream",
     "text": [
      "SR270CM5B\n",
      "Saved.\n"
     ]
    },
    {
     "name": "stderr",
     "output_type": "stream",
     "text": [
      "Week: B:  38%|████████████████████████████▍                                             | 5/13 [00:02<00:03,  2.21it/s]"
     ]
    },
    {
     "name": "stdout",
     "output_type": "stream",
     "text": [
      "SR280CM5B\n",
      "Saved.\n"
     ]
    },
    {
     "name": "stderr",
     "output_type": "stream",
     "text": [
      "Week: B:  46%|██████████████████████████████████▏                                       | 6/13 [00:02<00:02,  2.41it/s]"
     ]
    },
    {
     "name": "stdout",
     "output_type": "stream",
     "text": [
      "SR290CM5B\n",
      "Saved.\n"
     ]
    },
    {
     "name": "stderr",
     "output_type": "stream",
     "text": [
      "Week: B:  54%|███████████████████████████████████████▊                                  | 7/13 [00:02<00:02,  2.42it/s]"
     ]
    },
    {
     "name": "stdout",
     "output_type": "stream",
     "text": [
      "SR300CM5B\n",
      "Saved.\n"
     ]
    },
    {
     "name": "stderr",
     "output_type": "stream",
     "text": [
      "Week: B:  62%|█████████████████████████████████████████████▌                            | 8/13 [00:03<00:02,  2.43it/s]"
     ]
    },
    {
     "name": "stdout",
     "output_type": "stream",
     "text": [
      "SR310CM5B\n",
      "Saved.\n"
     ]
    },
    {
     "name": "stderr",
     "output_type": "stream",
     "text": [
      "Week: B: 100%|█████████████████████████████████████████████████████████████████████████| 13/13 [00:05<00:00,  2.51it/s]\n",
      "Week: C: 100%|█████████████████████████████████████████████████████████████████████████| 13/13 [00:05<00:00,  2.29it/s]\n",
      "Week: D:   8%|█████▋                                                                    | 1/13 [00:00<00:06,  1.89it/s]"
     ]
    },
    {
     "name": "stdout",
     "output_type": "stream",
     "text": [
      "SR240CM5D\n",
      "Saved.\n"
     ]
    },
    {
     "name": "stderr",
     "output_type": "stream",
     "text": [
      "Week: D:  15%|███████████▍                                                              | 2/13 [00:00<00:04,  2.26it/s]"
     ]
    },
    {
     "name": "stdout",
     "output_type": "stream",
     "text": [
      "SR250CM5D\n",
      "Saved.\n"
     ]
    },
    {
     "name": "stderr",
     "output_type": "stream",
     "text": [
      "Week: D:  23%|█████████████████                                                         | 3/13 [00:01<00:03,  2.54it/s]"
     ]
    },
    {
     "name": "stdout",
     "output_type": "stream",
     "text": [
      "SR260CM5D\n",
      "Saved.\n"
     ]
    },
    {
     "name": "stderr",
     "output_type": "stream",
     "text": [
      "Week: D:  31%|██████████████████████▊                                                   | 4/13 [00:01<00:03,  2.25it/s]"
     ]
    },
    {
     "name": "stdout",
     "output_type": "stream",
     "text": [
      "SR270CM5D\n",
      "Saved.\n"
     ]
    },
    {
     "name": "stderr",
     "output_type": "stream",
     "text": [
      "Week: D:  38%|████████████████████████████▍                                             | 5/13 [00:02<00:03,  2.04it/s]"
     ]
    },
    {
     "name": "stdout",
     "output_type": "stream",
     "text": [
      "SR280CM5D\n",
      "Saved.\n"
     ]
    },
    {
     "name": "stderr",
     "output_type": "stream",
     "text": [
      "Week: D:  46%|██████████████████████████████████▏                                       | 6/13 [00:02<00:03,  2.19it/s]"
     ]
    },
    {
     "name": "stdout",
     "output_type": "stream",
     "text": [
      "SR290CM5D\n",
      "Saved.\n"
     ]
    },
    {
     "name": "stderr",
     "output_type": "stream",
     "text": [
      "Week: D:  54%|███████████████████████████████████████▊                                  | 7/13 [00:03<00:02,  2.16it/s]"
     ]
    },
    {
     "name": "stdout",
     "output_type": "stream",
     "text": [
      "SR300CM5D\n",
      "Saved.\n"
     ]
    },
    {
     "name": "stderr",
     "output_type": "stream",
     "text": [
      "Week: D:  62%|█████████████████████████████████████████████▌                            | 8/13 [00:03<00:02,  2.07it/s]"
     ]
    },
    {
     "name": "stdout",
     "output_type": "stream",
     "text": [
      "SR310CM5D\n",
      "Saved.\n"
     ]
    },
    {
     "name": "stderr",
     "output_type": "stream",
     "text": [
      "Week: D:  69%|███████████████████████████████████████████████████▏                      | 9/13 [00:04<00:01,  2.25it/s]"
     ]
    },
    {
     "name": "stdout",
     "output_type": "stream",
     "text": [
      "SR320CM5D\n",
      "Saved.\n"
     ]
    },
    {
     "name": "stderr",
     "output_type": "stream",
     "text": [
      "Week: D: 100%|█████████████████████████████████████████████████████████████████████████| 13/13 [00:05<00:00,  2.37it/s]\n",
      "Week: E:   8%|█████▋                                                                    | 1/13 [00:01<00:13,  1.12s/it]"
     ]
    },
    {
     "name": "stdout",
     "output_type": "stream",
     "text": [
      "SR240CM5E\n",
      "Saved.\n"
     ]
    },
    {
     "name": "stderr",
     "output_type": "stream",
     "text": [
      "Week: E:  15%|███████████▍                                                              | 2/13 [00:01<00:09,  1.19it/s]"
     ]
    },
    {
     "name": "stdout",
     "output_type": "stream",
     "text": [
      "SR250CM5E\n",
      "Saved.\n"
     ]
    },
    {
     "name": "stderr",
     "output_type": "stream",
     "text": [
      "Week: E:  23%|█████████████████                                                         | 3/13 [00:02<00:08,  1.19it/s]"
     ]
    },
    {
     "name": "stdout",
     "output_type": "stream",
     "text": [
      "SR260CM5E\n",
      "Saved.\n"
     ]
    },
    {
     "name": "stderr",
     "output_type": "stream",
     "text": [
      "Week: E:  31%|██████████████████████▊                                                   | 4/13 [00:03<00:06,  1.38it/s]"
     ]
    },
    {
     "name": "stdout",
     "output_type": "stream",
     "text": [
      "SR270CM5E\n",
      "Saved.\n"
     ]
    },
    {
     "name": "stderr",
     "output_type": "stream",
     "text": [
      "Week: E:  38%|████████████████████████████▍                                             | 5/13 [00:03<00:05,  1.37it/s]"
     ]
    },
    {
     "name": "stdout",
     "output_type": "stream",
     "text": [
      "SR280CM5E\n",
      "Saved.\n"
     ]
    },
    {
     "name": "stderr",
     "output_type": "stream",
     "text": [
      "Week: E:  46%|██████████████████████████████████▏                                       | 6/13 [00:04<00:05,  1.40it/s]"
     ]
    },
    {
     "name": "stdout",
     "output_type": "stream",
     "text": [
      "SR290CM5E\n",
      "Saved.\n"
     ]
    },
    {
     "name": "stderr",
     "output_type": "stream",
     "text": [
      "Week: E:  54%|███████████████████████████████████████▊                                  | 7/13 [00:04<00:03,  1.64it/s]"
     ]
    },
    {
     "name": "stdout",
     "output_type": "stream",
     "text": [
      "SR300CM5E\n",
      "Saved.\n"
     ]
    },
    {
     "name": "stderr",
     "output_type": "stream",
     "text": [
      "Week: E:  62%|█████████████████████████████████████████████▌                            | 8/13 [00:05<00:03,  1.66it/s]"
     ]
    },
    {
     "name": "stdout",
     "output_type": "stream",
     "text": [
      "SR310CM5E\n",
      "Saved.\n"
     ]
    },
    {
     "name": "stderr",
     "output_type": "stream",
     "text": [
      "Week: E: 100%|█████████████████████████████████████████████████████████████████████████| 13/13 [00:07<00:00,  1.80it/s]\n"
     ]
    },
    {
     "name": "stdout",
     "output_type": "stream",
     "text": [
      "- month: N\n"
     ]
    },
    {
     "name": "stderr",
     "output_type": "stream",
     "text": [
      "Week: -:   8%|█████▋                                                                    | 1/13 [00:00<00:05,  2.31it/s]"
     ]
    },
    {
     "name": "stdout",
     "output_type": "stream",
     "text": [
      "SR240CN5\n",
      "Saved.\n"
     ]
    },
    {
     "name": "stderr",
     "output_type": "stream",
     "text": [
      "Week: -:  15%|███████████▍                                                              | 2/13 [00:00<00:04,  2.60it/s]"
     ]
    },
    {
     "name": "stdout",
     "output_type": "stream",
     "text": [
      "SR250CN5\n",
      "Saved.\n"
     ]
    },
    {
     "name": "stderr",
     "output_type": "stream",
     "text": [
      "Week: -:  23%|█████████████████                                                         | 3/13 [00:01<00:05,  1.72it/s]"
     ]
    },
    {
     "name": "stdout",
     "output_type": "stream",
     "text": [
      "SR260CN5\n",
      "Saved.\n"
     ]
    },
    {
     "name": "stderr",
     "output_type": "stream",
     "text": [
      "Week: -:  31%|██████████████████████▊                                                   | 4/13 [00:02<00:05,  1.64it/s]"
     ]
    },
    {
     "name": "stdout",
     "output_type": "stream",
     "text": [
      "SR270CN5\n",
      "Saved.\n"
     ]
    },
    {
     "name": "stderr",
     "output_type": "stream",
     "text": [
      "Week: -:  38%|████████████████████████████▍                                             | 5/13 [00:03<00:05,  1.45it/s]"
     ]
    },
    {
     "name": "stdout",
     "output_type": "stream",
     "text": [
      "SR280CN5\n",
      "Saved.\n"
     ]
    },
    {
     "name": "stderr",
     "output_type": "stream",
     "text": [
      "Week: -:  46%|██████████████████████████████████▏                                       | 6/13 [00:03<00:04,  1.52it/s]"
     ]
    },
    {
     "name": "stdout",
     "output_type": "stream",
     "text": [
      "SR290CN5\n",
      "Saved.\n"
     ]
    },
    {
     "name": "stderr",
     "output_type": "stream",
     "text": [
      "Week: -:  54%|███████████████████████████████████████▊                                  | 7/13 [00:04<00:03,  1.64it/s]"
     ]
    },
    {
     "name": "stdout",
     "output_type": "stream",
     "text": [
      "SR300CN5\n",
      "Saved.\n"
     ]
    },
    {
     "name": "stderr",
     "output_type": "stream",
     "text": [
      "Week: -:  62%|█████████████████████████████████████████████▌                            | 8/13 [00:04<00:02,  1.69it/s]"
     ]
    },
    {
     "name": "stdout",
     "output_type": "stream",
     "text": [
      "SR310CN5\n",
      "Saved.\n"
     ]
    },
    {
     "name": "stderr",
     "output_type": "stream",
     "text": [
      "Week: -:  69%|███████████████████████████████████████████████████▏                      | 9/13 [00:05<00:02,  1.91it/s]"
     ]
    },
    {
     "name": "stdout",
     "output_type": "stream",
     "text": [
      "SR320CN5\n",
      "Saved.\n"
     ]
    },
    {
     "name": "stderr",
     "output_type": "stream",
     "text": [
      "Week: -:  77%|████████████████████████████████████████████████████████▏                | 10/13 [00:05<00:01,  2.11it/s]"
     ]
    },
    {
     "name": "stdout",
     "output_type": "stream",
     "text": [
      "SR330CN5\n",
      "Saved.\n"
     ]
    },
    {
     "name": "stderr",
     "output_type": "stream",
     "text": [
      "Week: -:  85%|█████████████████████████████████████████████████████████████▊           | 11/13 [00:05<00:00,  2.26it/s]"
     ]
    },
    {
     "name": "stdout",
     "output_type": "stream",
     "text": [
      "SR340CN5\n",
      "Saved.\n"
     ]
    },
    {
     "name": "stderr",
     "output_type": "stream",
     "text": [
      "Week: -:  92%|███████████████████████████████████████████████████████████████████▍     | 12/13 [00:06<00:00,  2.27it/s]"
     ]
    },
    {
     "name": "stdout",
     "output_type": "stream",
     "text": [
      "SR350CN5\n",
      "Saved.\n"
     ]
    },
    {
     "name": "stderr",
     "output_type": "stream",
     "text": [
      "Week: -: 100%|█████████████████████████████████████████████████████████████████████████| 13/13 [00:06<00:00,  1.95it/s]\n"
     ]
    },
    {
     "name": "stdout",
     "output_type": "stream",
     "text": [
      "SR360CN5\n",
      "Saved.\n"
     ]
    },
    {
     "name": "stderr",
     "output_type": "stream",
     "text": [
      "Week: A:  15%|███████████▍                                                              | 2/13 [00:00<00:04,  2.69it/s]"
     ]
    },
    {
     "name": "stdout",
     "output_type": "stream",
     "text": [
      "SR250CN5A\n",
      "Saved.\n"
     ]
    },
    {
     "name": "stderr",
     "output_type": "stream",
     "text": [
      "Week: A:  23%|█████████████████                                                         | 3/13 [00:01<00:03,  2.64it/s]"
     ]
    },
    {
     "name": "stdout",
     "output_type": "stream",
     "text": [
      "SR260CN5A\n",
      "Saved.\n"
     ]
    },
    {
     "name": "stderr",
     "output_type": "stream",
     "text": [
      "Week: A:  31%|██████████████████████▊                                                   | 4/13 [00:01<00:03,  2.44it/s]"
     ]
    },
    {
     "name": "stdout",
     "output_type": "stream",
     "text": [
      "SR270CN5A\n",
      "Saved.\n"
     ]
    },
    {
     "name": "stderr",
     "output_type": "stream",
     "text": [
      "Week: A:  38%|████████████████████████████▍                                             | 5/13 [00:01<00:03,  2.65it/s]"
     ]
    },
    {
     "name": "stdout",
     "output_type": "stream",
     "text": [
      "SR280CN5A\n",
      "Saved.\n"
     ]
    },
    {
     "name": "stderr",
     "output_type": "stream",
     "text": [
      "Week: A:  46%|██████████████████████████████████▏                                       | 6/13 [00:02<00:02,  2.34it/s]"
     ]
    },
    {
     "name": "stdout",
     "output_type": "stream",
     "text": [
      "SR290CN5A\n",
      "Saved.\n"
     ]
    },
    {
     "name": "stderr",
     "output_type": "stream",
     "text": [
      "Week: A:  54%|███████████████████████████████████████▊                                  | 7/13 [00:02<00:02,  2.31it/s]"
     ]
    },
    {
     "name": "stdout",
     "output_type": "stream",
     "text": [
      "SR300CN5A\n",
      "Saved.\n"
     ]
    },
    {
     "name": "stderr",
     "output_type": "stream",
     "text": [
      "Week: A:  62%|█████████████████████████████████████████████▌                            | 8/13 [00:03<00:02,  2.48it/s]"
     ]
    },
    {
     "name": "stdout",
     "output_type": "stream",
     "text": [
      "SR310CN5A\n",
      "Saved.\n"
     ]
    },
    {
     "name": "stderr",
     "output_type": "stream",
     "text": [
      "Week: A:  69%|███████████████████████████████████████████████████▏                      | 9/13 [00:03<00:01,  2.49it/s]"
     ]
    },
    {
     "name": "stdout",
     "output_type": "stream",
     "text": [
      "SR320CN5A\n",
      "Saved.\n"
     ]
    },
    {
     "name": "stderr",
     "output_type": "stream",
     "text": [
      "Week: A: 100%|█████████████████████████████████████████████████████████████████████████| 13/13 [00:04<00:00,  2.72it/s]\n",
      "Week: B:  15%|███████████▍                                                              | 2/13 [00:00<00:04,  2.61it/s]"
     ]
    },
    {
     "name": "stdout",
     "output_type": "stream",
     "text": [
      "SR250CN5B\n",
      "Saved.\n"
     ]
    },
    {
     "name": "stderr",
     "output_type": "stream",
     "text": [
      "Week: B:  23%|█████████████████                                                         | 3/13 [00:01<00:03,  2.64it/s]"
     ]
    },
    {
     "name": "stdout",
     "output_type": "stream",
     "text": [
      "SR260CN5B\n",
      "Saved.\n"
     ]
    },
    {
     "name": "stderr",
     "output_type": "stream",
     "text": [
      "Week: B:  31%|██████████████████████▊                                                   | 4/13 [00:01<00:03,  2.45it/s]"
     ]
    },
    {
     "name": "stdout",
     "output_type": "stream",
     "text": [
      "SR270CN5B\n",
      "Saved.\n"
     ]
    },
    {
     "name": "stderr",
     "output_type": "stream",
     "text": [
      "Week: B:  38%|████████████████████████████▍                                             | 5/13 [00:01<00:03,  2.49it/s]"
     ]
    },
    {
     "name": "stdout",
     "output_type": "stream",
     "text": [
      "SR280CN5B\n",
      "Saved.\n"
     ]
    },
    {
     "name": "stderr",
     "output_type": "stream",
     "text": [
      "Week: B:  46%|██████████████████████████████████▏                                       | 6/13 [00:02<00:03,  2.02it/s]"
     ]
    },
    {
     "name": "stdout",
     "output_type": "stream",
     "text": [
      "SR290CN5B\n",
      "Saved.\n"
     ]
    },
    {
     "name": "stderr",
     "output_type": "stream",
     "text": [
      "Week: B:  54%|███████████████████████████████████████▊                                  | 7/13 [00:03<00:02,  2.05it/s]"
     ]
    },
    {
     "name": "stdout",
     "output_type": "stream",
     "text": [
      "SR300CN5B\n",
      "Saved.\n"
     ]
    },
    {
     "name": "stderr",
     "output_type": "stream",
     "text": [
      "Week: B:  62%|█████████████████████████████████████████████▌                            | 8/13 [00:03<00:02,  2.22it/s]"
     ]
    },
    {
     "name": "stdout",
     "output_type": "stream",
     "text": [
      "SR310CN5B\n",
      "Saved.\n"
     ]
    },
    {
     "name": "stderr",
     "output_type": "stream",
     "text": [
      "Week: B:  69%|███████████████████████████████████████████████████▏                      | 9/13 [00:03<00:01,  2.35it/s]"
     ]
    },
    {
     "name": "stdout",
     "output_type": "stream",
     "text": [
      "SR320CN5B\n",
      "Saved.\n"
     ]
    },
    {
     "name": "stderr",
     "output_type": "stream",
     "text": [
      "Week: B: 100%|█████████████████████████████████████████████████████████████████████████| 13/13 [00:05<00:00,  2.54it/s]\n",
      "Week: C: 100%|█████████████████████████████████████████████████████████████████████████| 13/13 [00:04<00:00,  2.90it/s]\n",
      "Week: D:  15%|███████████▍                                                              | 2/13 [00:00<00:04,  2.75it/s]"
     ]
    },
    {
     "name": "stdout",
     "output_type": "stream",
     "text": [
      "SR250CN5D\n",
      "Saved.\n"
     ]
    },
    {
     "name": "stderr",
     "output_type": "stream",
     "text": [
      "Week: D:  23%|█████████████████                                                         | 3/13 [00:01<00:04,  2.49it/s]"
     ]
    },
    {
     "name": "stdout",
     "output_type": "stream",
     "text": [
      "SR260CN5D\n",
      "Saved.\n"
     ]
    },
    {
     "name": "stderr",
     "output_type": "stream",
     "text": [
      "Week: D:  31%|██████████████████████▊                                                   | 4/13 [00:01<00:03,  2.36it/s]"
     ]
    },
    {
     "name": "stdout",
     "output_type": "stream",
     "text": [
      "SR270CN5D\n",
      "Saved.\n"
     ]
    },
    {
     "name": "stderr",
     "output_type": "stream",
     "text": [
      "Week: D:  38%|████████████████████████████▍                                             | 5/13 [00:02<00:04,  1.83it/s]"
     ]
    },
    {
     "name": "stdout",
     "output_type": "stream",
     "text": [
      "SR280CN5D\n",
      "Saved.\n"
     ]
    },
    {
     "name": "stderr",
     "output_type": "stream",
     "text": [
      "Week: D:  46%|██████████████████████████████████▏                                       | 6/13 [00:02<00:03,  2.07it/s]"
     ]
    },
    {
     "name": "stdout",
     "output_type": "stream",
     "text": [
      "SR290CN5D\n",
      "Saved.\n"
     ]
    },
    {
     "name": "stderr",
     "output_type": "stream",
     "text": [
      "Week: D:  54%|███████████████████████████████████████▊                                  | 7/13 [00:03<00:02,  2.05it/s]"
     ]
    },
    {
     "name": "stdout",
     "output_type": "stream",
     "text": [
      "SR300CN5D\n",
      "Saved.\n"
     ]
    },
    {
     "name": "stderr",
     "output_type": "stream",
     "text": [
      "Week: D:  62%|█████████████████████████████████████████████▌                            | 8/13 [00:03<00:02,  2.07it/s]"
     ]
    },
    {
     "name": "stdout",
     "output_type": "stream",
     "text": [
      "SR310CN5D\n",
      "Saved.\n"
     ]
    },
    {
     "name": "stderr",
     "output_type": "stream",
     "text": [
      "Week: D:  69%|███████████████████████████████████████████████████▏                      | 9/13 [00:04<00:01,  2.16it/s]"
     ]
    },
    {
     "name": "stdout",
     "output_type": "stream",
     "text": [
      "SR320CN5D\n",
      "Saved.\n"
     ]
    },
    {
     "name": "stderr",
     "output_type": "stream",
     "text": [
      "Week: D:  77%|████████████████████████████████████████████████████████▏                | 10/13 [00:04<00:01,  2.31it/s]"
     ]
    },
    {
     "name": "stdout",
     "output_type": "stream",
     "text": [
      "SR330CN5D\n",
      "Saved.\n"
     ]
    },
    {
     "name": "stderr",
     "output_type": "stream",
     "text": [
      "Week: D:  85%|█████████████████████████████████████████████████████████████▊           | 11/13 [00:04<00:00,  2.47it/s]"
     ]
    },
    {
     "name": "stdout",
     "output_type": "stream",
     "text": [
      "SR340CN5D\n",
      "Saved.\n"
     ]
    },
    {
     "name": "stderr",
     "output_type": "stream",
     "text": [
      "Week: D:  92%|███████████████████████████████████████████████████████████████████▍     | 12/13 [00:05<00:00,  2.58it/s]"
     ]
    },
    {
     "name": "stdout",
     "output_type": "stream",
     "text": [
      "SR350CN5D\n",
      "Saved.\n"
     ]
    },
    {
     "name": "stderr",
     "output_type": "stream",
     "text": [
      "Week: D: 100%|█████████████████████████████████████████████████████████████████████████| 13/13 [00:05<00:00,  2.31it/s]\n",
      "Week: E: 100%|█████████████████████████████████████████████████████████████████████████| 13/13 [00:05<00:00,  2.59it/s]\n"
     ]
    },
    {
     "name": "stdout",
     "output_type": "stream",
     "text": [
      "- month: O\n"
     ]
    },
    {
     "name": "stderr",
     "output_type": "stream",
     "text": [
      "Week: -:   8%|█████▋                                                                    | 1/13 [00:00<00:06,  1.96it/s]"
     ]
    },
    {
     "name": "stdout",
     "output_type": "stream",
     "text": [
      "SR240CO5\n",
      "Saved.\n"
     ]
    },
    {
     "name": "stderr",
     "output_type": "stream",
     "text": [
      "Week: -:  15%|███████████▍                                                              | 2/13 [00:01<00:07,  1.39it/s]"
     ]
    },
    {
     "name": "stdout",
     "output_type": "stream",
     "text": [
      "SR250CO5\n",
      "Saved.\n"
     ]
    },
    {
     "name": "stderr",
     "output_type": "stream",
     "text": [
      "Week: -:  23%|█████████████████                                                         | 3/13 [00:05<00:23,  2.30s/it]"
     ]
    },
    {
     "name": "stdout",
     "output_type": "stream",
     "text": [
      "SR260CO5\n",
      "Saved.\n"
     ]
    },
    {
     "name": "stderr",
     "output_type": "stream",
     "text": [
      "Week: -:  31%|██████████████████████▊                                                   | 4/13 [00:06<00:15,  1.71s/it]"
     ]
    },
    {
     "name": "stdout",
     "output_type": "stream",
     "text": [
      "SR270CO5\n",
      "Saved.\n"
     ]
    },
    {
     "name": "stderr",
     "output_type": "stream",
     "text": [
      "Week: -:  38%|████████████████████████████▍                                             | 5/13 [00:09<00:17,  2.19s/it]"
     ]
    },
    {
     "name": "stdout",
     "output_type": "stream",
     "text": [
      "SR280CO5\n",
      "Saved.\n"
     ]
    },
    {
     "name": "stderr",
     "output_type": "stream",
     "text": [
      "Week: -:  46%|██████████████████████████████████▏                                       | 6/13 [00:10<00:11,  1.66s/it]"
     ]
    },
    {
     "name": "stdout",
     "output_type": "stream",
     "text": [
      "SR290CO5\n",
      "Saved.\n"
     ]
    },
    {
     "name": "stderr",
     "output_type": "stream",
     "text": [
      "Week: -:  54%|███████████████████████████████████████▊                                  | 7/13 [00:11<00:09,  1.51s/it]"
     ]
    },
    {
     "name": "stdout",
     "output_type": "stream",
     "text": [
      "SR300CO5\n",
      "Saved.\n"
     ]
    },
    {
     "name": "stderr",
     "output_type": "stream",
     "text": [
      "Week: -:  62%|█████████████████████████████████████████████▌                            | 8/13 [00:11<00:06,  1.24s/it]"
     ]
    },
    {
     "name": "stdout",
     "output_type": "stream",
     "text": [
      "SR310CO5\n",
      "Saved.\n"
     ]
    },
    {
     "name": "stderr",
     "output_type": "stream",
     "text": [
      "Week: -:  69%|███████████████████████████████████████████████████▏                      | 9/13 [00:12<00:04,  1.03s/it]"
     ]
    },
    {
     "name": "stdout",
     "output_type": "stream",
     "text": [
      "SR320CO5\n",
      "Saved.\n"
     ]
    },
    {
     "name": "stderr",
     "output_type": "stream",
     "text": [
      "Week: -:  77%|████████████████████████████████████████████████████████▏                | 10/13 [00:13<00:02,  1.11it/s]"
     ]
    },
    {
     "name": "stdout",
     "output_type": "stream",
     "text": [
      "SR330CO5\n",
      "Saved.\n"
     ]
    },
    {
     "name": "stderr",
     "output_type": "stream",
     "text": [
      "Week: -:  85%|█████████████████████████████████████████████████████████████▊           | 11/13 [00:14<00:01,  1.03it/s]"
     ]
    },
    {
     "name": "stdout",
     "output_type": "stream",
     "text": [
      "SR340CO5\n",
      "Saved.\n"
     ]
    },
    {
     "name": "stderr",
     "output_type": "stream",
     "text": [
      "Week: -:  92%|███████████████████████████████████████████████████████████████████▍     | 12/13 [00:15<00:01,  1.17s/it]"
     ]
    },
    {
     "name": "stdout",
     "output_type": "stream",
     "text": [
      "SR350CO5\n",
      "Saved.\n"
     ]
    },
    {
     "name": "stderr",
     "output_type": "stream",
     "text": [
      "Week: -: 100%|█████████████████████████████████████████████████████████████████████████| 13/13 [00:16<00:00,  1.25s/it]\n"
     ]
    },
    {
     "name": "stdout",
     "output_type": "stream",
     "text": [
      "SR360CO5\n",
      "Saved.\n"
     ]
    },
    {
     "name": "stderr",
     "output_type": "stream",
     "text": [
      "Week: A:  31%|██████████████████████▊                                                   | 4/13 [00:01<00:03,  2.71it/s]"
     ]
    },
    {
     "name": "stdout",
     "output_type": "stream",
     "text": [
      "SR270CO5A\n",
      "Saved.\n"
     ]
    },
    {
     "name": "stderr",
     "output_type": "stream",
     "text": [
      "Week: A:  38%|████████████████████████████▍                                             | 5/13 [00:01<00:03,  2.59it/s]"
     ]
    },
    {
     "name": "stdout",
     "output_type": "stream",
     "text": [
      "SR280CO5A\n",
      "Saved.\n"
     ]
    },
    {
     "name": "stderr",
     "output_type": "stream",
     "text": [
      "Week: A:  46%|██████████████████████████████████▏                                       | 6/13 [00:02<00:02,  2.59it/s]"
     ]
    },
    {
     "name": "stdout",
     "output_type": "stream",
     "text": [
      "SR290CO5A\n",
      "Saved.\n"
     ]
    },
    {
     "name": "stderr",
     "output_type": "stream",
     "text": [
      "Week: A:  54%|███████████████████████████████████████▊                                  | 7/13 [00:02<00:02,  2.56it/s]"
     ]
    },
    {
     "name": "stdout",
     "output_type": "stream",
     "text": [
      "SR300CO5A\n",
      "Saved.\n"
     ]
    },
    {
     "name": "stderr",
     "output_type": "stream",
     "text": [
      "Week: A:  62%|█████████████████████████████████████████████▌                            | 8/13 [00:03<00:02,  2.20it/s]"
     ]
    },
    {
     "name": "stdout",
     "output_type": "stream",
     "text": [
      "SR310CO5A\n",
      "Saved.\n"
     ]
    },
    {
     "name": "stderr",
     "output_type": "stream",
     "text": [
      "Week: A:  69%|███████████████████████████████████████████████████▏                      | 9/13 [00:05<00:04,  1.04s/it]"
     ]
    },
    {
     "name": "stdout",
     "output_type": "stream",
     "text": [
      "SR320CO5A\n",
      "Saved.\n"
     ]
    },
    {
     "name": "stderr",
     "output_type": "stream",
     "text": [
      "Week: A:  77%|████████████████████████████████████████████████████████▏                | 10/13 [00:07<00:03,  1.20s/it]"
     ]
    },
    {
     "name": "stdout",
     "output_type": "stream",
     "text": [
      "SR330CO5A\n",
      "Saved.\n"
     ]
    },
    {
     "name": "stderr",
     "output_type": "stream",
     "text": [
      "Week: A:  85%|█████████████████████████████████████████████████████████████▊           | 11/13 [00:08<00:02,  1.33s/it]"
     ]
    },
    {
     "name": "stdout",
     "output_type": "stream",
     "text": [
      "SR340CO5A\n",
      "Saved.\n"
     ]
    },
    {
     "name": "stderr",
     "output_type": "stream",
     "text": [
      "Week: A:  92%|███████████████████████████████████████████████████████████████████▍     | 12/13 [00:09<00:01,  1.03s/it]"
     ]
    },
    {
     "name": "stdout",
     "output_type": "stream",
     "text": [
      "SR350CO5A\n",
      "Saved.\n"
     ]
    },
    {
     "name": "stderr",
     "output_type": "stream",
     "text": [
      "Week: A: 100%|█████████████████████████████████████████████████████████████████████████| 13/13 [00:09<00:00,  1.37it/s]\n",
      "Week: B:  38%|████████████████████████████▍                                             | 5/13 [00:02<00:03,  2.55it/s]"
     ]
    },
    {
     "name": "stdout",
     "output_type": "stream",
     "text": [
      "SR280CO5B\n",
      "Saved.\n"
     ]
    },
    {
     "name": "stderr",
     "output_type": "stream",
     "text": [
      "Week: B:  46%|██████████████████████████████████▏                                       | 6/13 [00:02<00:02,  2.65it/s]"
     ]
    },
    {
     "name": "stdout",
     "output_type": "stream",
     "text": [
      "SR290CO5B\n",
      "Saved.\n"
     ]
    },
    {
     "name": "stderr",
     "output_type": "stream",
     "text": [
      "Week: B:  54%|███████████████████████████████████████▊                                  | 7/13 [00:02<00:02,  2.71it/s]"
     ]
    },
    {
     "name": "stdout",
     "output_type": "stream",
     "text": [
      "SR300CO5B\n",
      "Saved.\n"
     ]
    },
    {
     "name": "stderr",
     "output_type": "stream",
     "text": [
      "Week: B:  62%|█████████████████████████████████████████████▌                            | 8/13 [00:03<00:01,  2.50it/s]"
     ]
    },
    {
     "name": "stdout",
     "output_type": "stream",
     "text": [
      "SR310CO5B\n",
      "Saved.\n"
     ]
    },
    {
     "name": "stderr",
     "output_type": "stream",
     "text": [
      "Week: B:  69%|███████████████████████████████████████████████████▏                      | 9/13 [00:04<00:02,  1.75it/s]"
     ]
    },
    {
     "name": "stdout",
     "output_type": "stream",
     "text": [
      "SR320CO5B\n",
      "Saved.\n"
     ]
    },
    {
     "name": "stderr",
     "output_type": "stream",
     "text": [
      "Week: B:  77%|████████████████████████████████████████████████████████▏                | 10/13 [00:04<00:01,  1.92it/s]"
     ]
    },
    {
     "name": "stdout",
     "output_type": "stream",
     "text": [
      "SR330CO5B\n",
      "Saved.\n"
     ]
    },
    {
     "name": "stderr",
     "output_type": "stream",
     "text": [
      "Week: B: 100%|█████████████████████████████████████████████████████████████████████████| 13/13 [00:05<00:00,  2.22it/s]\n",
      "Week: C: 100%|█████████████████████████████████████████████████████████████████████████| 13/13 [00:04<00:00,  2.78it/s]\n",
      "Week: D: 100%|█████████████████████████████████████████████████████████████████████████| 13/13 [00:17<00:00,  1.31s/it]\n",
      "Week: E: 100%|█████████████████████████████████████████████████████████████████████████| 13/13 [00:05<00:00,  2.43it/s]\n"
     ]
    },
    {
     "name": "stdout",
     "output_type": "stream",
     "text": [
      "- month: P\n"
     ]
    },
    {
     "name": "stderr",
     "output_type": "stream",
     "text": [
      "Week: -:  31%|██████████████████████▊                                                   | 4/13 [00:01<00:02,  3.07it/s]"
     ]
    },
    {
     "name": "stdout",
     "output_type": "stream",
     "text": [
      "SR270CP5\n",
      "Saved.\n"
     ]
    },
    {
     "name": "stderr",
     "output_type": "stream",
     "text": [
      "Week: -: 100%|█████████████████████████████████████████████████████████████████████████| 13/13 [00:04<00:00,  2.96it/s]\n",
      "Week: A: 100%|█████████████████████████████████████████████████████████████████████████| 13/13 [00:04<00:00,  2.99it/s]\n",
      "Week: B: 100%|█████████████████████████████████████████████████████████████████████████| 13/13 [00:05<00:00,  2.59it/s]\n",
      "Week: C: 100%|█████████████████████████████████████████████████████████████████████████| 13/13 [00:04<00:00,  2.72it/s]\n",
      "Week: D: 100%|█████████████████████████████████████████████████████████████████████████| 13/13 [00:04<00:00,  2.89it/s]\n",
      "Week: E: 100%|█████████████████████████████████████████████████████████████████████████| 13/13 [00:04<00:00,  3.11it/s]\n"
     ]
    },
    {
     "name": "stdout",
     "output_type": "stream",
     "text": [
      "- month: Q\n"
     ]
    },
    {
     "name": "stderr",
     "output_type": "stream",
     "text": [
      "Week: -: 100%|█████████████████████████████████████████████████████████████████████████| 13/13 [00:04<00:00,  2.83it/s]\n",
      "Week: A: 100%|█████████████████████████████████████████████████████████████████████████| 13/13 [00:04<00:00,  3.01it/s]\n",
      "Week: B: 100%|█████████████████████████████████████████████████████████████████████████| 13/13 [00:05<00:00,  2.42it/s]\n",
      "Week: C: 100%|█████████████████████████████████████████████████████████████████████████| 13/13 [00:06<00:00,  1.94it/s]\n",
      "Week: D: 100%|█████████████████████████████████████████████████████████████████████████| 13/13 [00:04<00:00,  2.72it/s]\n",
      "Week: E: 100%|█████████████████████████████████████████████████████████████████████████| 13/13 [00:04<00:00,  2.87it/s]\n"
     ]
    },
    {
     "name": "stdout",
     "output_type": "stream",
     "text": [
      "- month: R\n"
     ]
    },
    {
     "name": "stderr",
     "output_type": "stream",
     "text": [
      "Week: -:   8%|█████▋                                                                    | 1/13 [00:00<00:05,  2.04it/s]"
     ]
    },
    {
     "name": "stdout",
     "output_type": "stream",
     "text": [
      "SR240CR5\n",
      "Saved.\n"
     ]
    },
    {
     "name": "stderr",
     "output_type": "stream",
     "text": [
      "Week: -:  15%|███████████▍                                                              | 2/13 [00:00<00:04,  2.36it/s]"
     ]
    },
    {
     "name": "stdout",
     "output_type": "stream",
     "text": [
      "SR250CR5\n",
      "Saved.\n"
     ]
    },
    {
     "name": "stderr",
     "output_type": "stream",
     "text": [
      "Week: -:  23%|█████████████████                                                         | 3/13 [00:01<00:04,  2.49it/s]"
     ]
    },
    {
     "name": "stdout",
     "output_type": "stream",
     "text": [
      "SR260CR5\n",
      "Saved.\n"
     ]
    },
    {
     "name": "stderr",
     "output_type": "stream",
     "text": [
      "Week: -:  31%|██████████████████████▊                                                   | 4/13 [00:01<00:03,  2.31it/s]"
     ]
    },
    {
     "name": "stdout",
     "output_type": "stream",
     "text": [
      "SR270CR5\n",
      "Saved.\n"
     ]
    },
    {
     "name": "stderr",
     "output_type": "stream",
     "text": [
      "Week: -:  38%|████████████████████████████▍                                             | 5/13 [00:03<00:06,  1.24it/s]"
     ]
    },
    {
     "name": "stdout",
     "output_type": "stream",
     "text": [
      "SR280CR5\n",
      "Saved.\n"
     ]
    },
    {
     "name": "stderr",
     "output_type": "stream",
     "text": [
      "Week: -:  46%|██████████████████████████████████▏                                       | 6/13 [00:04<00:05,  1.22it/s]"
     ]
    },
    {
     "name": "stdout",
     "output_type": "stream",
     "text": [
      "SR290CR5\n",
      "Saved.\n"
     ]
    },
    {
     "name": "stderr",
     "output_type": "stream",
     "text": [
      "Week: -:  54%|███████████████████████████████████████▊                                  | 7/13 [00:04<00:03,  1.50it/s]"
     ]
    },
    {
     "name": "stdout",
     "output_type": "stream",
     "text": [
      "SR300CR5\n",
      "Saved.\n"
     ]
    },
    {
     "name": "stderr",
     "output_type": "stream",
     "text": [
      "Week: -:  62%|█████████████████████████████████████████████▌                            | 8/13 [00:04<00:02,  1.79it/s]"
     ]
    },
    {
     "name": "stdout",
     "output_type": "stream",
     "text": [
      "SR310CR5\n",
      "Saved.\n"
     ]
    },
    {
     "name": "stderr",
     "output_type": "stream",
     "text": [
      "Week: -:  69%|███████████████████████████████████████████████████▏                      | 9/13 [00:05<00:02,  1.76it/s]"
     ]
    },
    {
     "name": "stdout",
     "output_type": "stream",
     "text": [
      "SR320CR5\n",
      "Saved.\n"
     ]
    },
    {
     "name": "stderr",
     "output_type": "stream",
     "text": [
      "Week: -:  77%|████████████████████████████████████████████████████████▏                | 10/13 [00:05<00:01,  1.82it/s]"
     ]
    },
    {
     "name": "stdout",
     "output_type": "stream",
     "text": [
      "SR330CR5\n",
      "Saved.\n"
     ]
    },
    {
     "name": "stderr",
     "output_type": "stream",
     "text": [
      "Week: -:  85%|█████████████████████████████████████████████████████████████▊           | 11/13 [00:06<00:00,  2.03it/s]"
     ]
    },
    {
     "name": "stdout",
     "output_type": "stream",
     "text": [
      "SR340CR5\n",
      "Saved.\n"
     ]
    },
    {
     "name": "stderr",
     "output_type": "stream",
     "text": [
      "Week: -: 100%|█████████████████████████████████████████████████████████████████████████| 13/13 [00:06<00:00,  1.90it/s]\n"
     ]
    },
    {
     "name": "stdout",
     "output_type": "stream",
     "text": [
      "SR360CR5\n",
      "Saved.\n"
     ]
    },
    {
     "name": "stderr",
     "output_type": "stream",
     "text": [
      "Week: A: 100%|█████████████████████████████████████████████████████████████████████████| 13/13 [00:04<00:00,  3.07it/s]\n",
      "Week: B: 100%|█████████████████████████████████████████████████████████████████████████| 13/13 [00:05<00:00,  2.25it/s]\n",
      "Week: C: 100%|█████████████████████████████████████████████████████████████████████████| 13/13 [00:04<00:00,  3.04it/s]\n",
      "Week: D: 100%|█████████████████████████████████████████████████████████████████████████| 13/13 [00:04<00:00,  2.90it/s]\n",
      "Week: E: 100%|█████████████████████████████████████████████████████████████████████████| 13/13 [00:05<00:00,  2.20it/s]\n"
     ]
    },
    {
     "name": "stdout",
     "output_type": "stream",
     "text": [
      "- month: S\n"
     ]
    },
    {
     "name": "stderr",
     "output_type": "stream",
     "text": [
      "Week: -: 100%|█████████████████████████████████████████████████████████████████████████| 13/13 [00:04<00:00,  2.61it/s]\n",
      "Week: A: 100%|█████████████████████████████████████████████████████████████████████████| 13/13 [00:05<00:00,  2.50it/s]\n",
      "Week: B: 100%|█████████████████████████████████████████████████████████████████████████| 13/13 [00:05<00:00,  2.54it/s]\n",
      "Week: C: 100%|█████████████████████████████████████████████████████████████████████████| 13/13 [00:06<00:00,  1.93it/s]\n",
      "Week: D: 100%|█████████████████████████████████████████████████████████████████████████| 13/13 [00:06<00:00,  2.00it/s]\n",
      "Week: E: 100%|█████████████████████████████████████████████████████████████████████████| 13/13 [00:06<00:00,  2.11it/s]\n"
     ]
    },
    {
     "name": "stdout",
     "output_type": "stream",
     "text": [
      "- month: T\n"
     ]
    },
    {
     "name": "stderr",
     "output_type": "stream",
     "text": [
      "Week: -: 100%|█████████████████████████████████████████████████████████████████████████| 13/13 [00:04<00:00,  2.68it/s]\n",
      "Week: A: 100%|█████████████████████████████████████████████████████████████████████████| 13/13 [00:04<00:00,  2.73it/s]\n",
      "Week: B: 100%|█████████████████████████████████████████████████████████████████████████| 13/13 [00:04<00:00,  2.84it/s]\n",
      "Week: C: 100%|█████████████████████████████████████████████████████████████████████████| 13/13 [00:06<00:00,  2.09it/s]\n",
      "Week: D: 100%|█████████████████████████████████████████████████████████████████████████| 13/13 [00:05<00:00,  2.26it/s]\n",
      "Week: E: 100%|█████████████████████████████████████████████████████████████████████████| 13/13 [00:04<00:00,  2.93it/s]\n"
     ]
    },
    {
     "name": "stdout",
     "output_type": "stream",
     "text": [
      "- month: U\n"
     ]
    },
    {
     "name": "stderr",
     "output_type": "stream",
     "text": [
      "Week: -:   8%|█████▋                                                                    | 1/13 [00:00<00:06,  1.79it/s]"
     ]
    },
    {
     "name": "stdout",
     "output_type": "stream",
     "text": [
      "SR240CU5\n",
      "Saved.\n"
     ]
    },
    {
     "name": "stderr",
     "output_type": "stream",
     "text": [
      "Week: -:  15%|███████████▍                                                              | 2/13 [00:01<00:06,  1.68it/s]"
     ]
    },
    {
     "name": "stdout",
     "output_type": "stream",
     "text": [
      "SR250CU5\n",
      "Saved.\n"
     ]
    },
    {
     "name": "stderr",
     "output_type": "stream",
     "text": [
      "Week: -:  23%|█████████████████                                                         | 3/13 [00:02<00:11,  1.14s/it]"
     ]
    },
    {
     "name": "stdout",
     "output_type": "stream",
     "text": [
      "SR260CU5\n",
      "Saved.\n"
     ]
    },
    {
     "name": "stderr",
     "output_type": "stream",
     "text": [
      "Week: -:  31%|██████████████████████▊                                                   | 4/13 [00:03<00:07,  1.14it/s]"
     ]
    },
    {
     "name": "stdout",
     "output_type": "stream",
     "text": [
      "SR270CU5\n",
      "Saved.\n"
     ]
    },
    {
     "name": "stderr",
     "output_type": "stream",
     "text": [
      "Week: -:  38%|████████████████████████████▍                                             | 5/13 [00:03<00:05,  1.42it/s]"
     ]
    },
    {
     "name": "stdout",
     "output_type": "stream",
     "text": [
      "SR280CU5\n",
      "Saved.\n"
     ]
    },
    {
     "name": "stderr",
     "output_type": "stream",
     "text": [
      "Week: -:  46%|██████████████████████████████████▏                                       | 6/13 [00:04<00:04,  1.70it/s]"
     ]
    },
    {
     "name": "stdout",
     "output_type": "stream",
     "text": [
      "SR290CU5\n",
      "Saved.\n"
     ]
    },
    {
     "name": "stderr",
     "output_type": "stream",
     "text": [
      "Week: -:  54%|███████████████████████████████████████▊                                  | 7/13 [00:06<00:06,  1.03s/it]"
     ]
    },
    {
     "name": "stdout",
     "output_type": "stream",
     "text": [
      "SR300CU5\n",
      "Saved.\n"
     ]
    },
    {
     "name": "stderr",
     "output_type": "stream",
     "text": [
      "Week: -:  62%|█████████████████████████████████████████████▌                            | 8/13 [00:06<00:04,  1.21it/s]"
     ]
    },
    {
     "name": "stdout",
     "output_type": "stream",
     "text": [
      "SR310CU5\n",
      "Saved.\n"
     ]
    },
    {
     "name": "stderr",
     "output_type": "stream",
     "text": [
      "Week: -:  69%|███████████████████████████████████████████████████▏                      | 9/13 [00:06<00:02,  1.42it/s]"
     ]
    },
    {
     "name": "stdout",
     "output_type": "stream",
     "text": [
      "SR320CU5\n",
      "Saved.\n"
     ]
    },
    {
     "name": "stderr",
     "output_type": "stream",
     "text": [
      "Week: -:  77%|████████████████████████████████████████████████████████▏                | 10/13 [00:07<00:01,  1.67it/s]"
     ]
    },
    {
     "name": "stdout",
     "output_type": "stream",
     "text": [
      "SR330CU5\n",
      "Saved.\n"
     ]
    },
    {
     "name": "stderr",
     "output_type": "stream",
     "text": [
      "Week: -: 100%|█████████████████████████████████████████████████████████████████████████| 13/13 [00:08<00:00,  1.49it/s]\n",
      "Week: A: 100%|█████████████████████████████████████████████████████████████████████████| 13/13 [00:04<00:00,  2.73it/s]\n",
      "Week: B: 100%|█████████████████████████████████████████████████████████████████████████| 13/13 [00:04<00:00,  2.99it/s]\n",
      "Week: C: 100%|█████████████████████████████████████████████████████████████████████████| 13/13 [00:04<00:00,  3.05it/s]\n",
      "Week: D: 100%|█████████████████████████████████████████████████████████████████████████| 13/13 [00:04<00:00,  3.21it/s]\n",
      "Week: E: 100%|█████████████████████████████████████████████████████████████████████████| 13/13 [00:04<00:00,  2.96it/s]\n"
     ]
    },
    {
     "name": "stdout",
     "output_type": "stream",
     "text": [
      "- month: V\n"
     ]
    },
    {
     "name": "stderr",
     "output_type": "stream",
     "text": [
      "Week: -: 100%|█████████████████████████████████████████████████████████████████████████| 13/13 [00:04<00:00,  2.82it/s]\n",
      "Week: A: 100%|█████████████████████████████████████████████████████████████████████████| 13/13 [00:04<00:00,  2.81it/s]\n",
      "Week: B: 100%|█████████████████████████████████████████████████████████████████████████| 13/13 [00:05<00:00,  2.59it/s]\n",
      "Week: C: 100%|█████████████████████████████████████████████████████████████████████████| 13/13 [00:05<00:00,  2.42it/s]\n",
      "Week: D: 100%|█████████████████████████████████████████████████████████████████████████| 13/13 [00:05<00:00,  2.23it/s]\n",
      "Week: E: 100%|█████████████████████████████████████████████████████████████████████████| 13/13 [00:04<00:00,  2.70it/s]\n"
     ]
    },
    {
     "name": "stdout",
     "output_type": "stream",
     "text": [
      "- month: W\n"
     ]
    },
    {
     "name": "stderr",
     "output_type": "stream",
     "text": [
      "Week: -: 100%|█████████████████████████████████████████████████████████████████████████| 13/13 [00:04<00:00,  2.78it/s]\n",
      "Week: A: 100%|█████████████████████████████████████████████████████████████████████████| 13/13 [00:05<00:00,  2.37it/s]\n",
      "Week: B: 100%|█████████████████████████████████████████████████████████████████████████| 13/13 [00:04<00:00,  2.70it/s]\n",
      "Week: C: 100%|█████████████████████████████████████████████████████████████████████████| 13/13 [00:04<00:00,  2.62it/s]\n",
      "Week: D: 100%|█████████████████████████████████████████████████████████████████████████| 13/13 [00:05<00:00,  2.59it/s]\n",
      "Week: E: 100%|█████████████████████████████████████████████████████████████████████████| 13/13 [00:09<00:00,  1.36it/s]\n"
     ]
    },
    {
     "name": "stdout",
     "output_type": "stream",
     "text": [
      "- month: X\n"
     ]
    },
    {
     "name": "stderr",
     "output_type": "stream",
     "text": [
      "Week: -: 100%|█████████████████████████████████████████████████████████████████████████| 13/13 [00:04<00:00,  2.83it/s]\n",
      "Week: A: 100%|█████████████████████████████████████████████████████████████████████████| 13/13 [00:04<00:00,  2.94it/s]\n",
      "Week: B: 100%|█████████████████████████████████████████████████████████████████████████| 13/13 [00:04<00:00,  3.17it/s]\n",
      "Week: C: 100%|█████████████████████████████████████████████████████████████████████████| 13/13 [00:04<00:00,  3.08it/s]\n",
      "Week: D: 100%|█████████████████████████████████████████████████████████████████████████| 13/13 [00:04<00:00,  3.12it/s]\n",
      "Week: E: 100%|█████████████████████████████████████████████████████████████████████████| 13/13 [00:04<00:00,  2.91it/s]\n"
     ]
    },
    {
     "name": "stdout",
     "output_type": "stream",
     "text": [
      "- month: Y\n"
     ]
    },
    {
     "name": "stderr",
     "output_type": "stream",
     "text": [
      "Week: -: 100%|█████████████████████████████████████████████████████████████████████████| 13/13 [00:04<00:00,  3.06it/s]\n",
      "Week: A: 100%|█████████████████████████████████████████████████████████████████████████| 13/13 [00:04<00:00,  3.08it/s]\n",
      "Week: B: 100%|█████████████████████████████████████████████████████████████████████████| 13/13 [00:05<00:00,  2.41it/s]\n",
      "Week: C: 100%|█████████████████████████████████████████████████████████████████████████| 13/13 [00:06<00:00,  2.02it/s]\n",
      "Week: D: 100%|█████████████████████████████████████████████████████████████████████████| 13/13 [00:07<00:00,  1.66it/s]\n",
      "Week: E: 100%|█████████████████████████████████████████████████████████████████████████| 13/13 [00:05<00:00,  2.50it/s]\n"
     ]
    },
    {
     "name": "stdout",
     "output_type": "stream",
     "text": [
      "- month: Z\n"
     ]
    },
    {
     "name": "stderr",
     "output_type": "stream",
     "text": [
      "Week: -: 100%|█████████████████████████████████████████████████████████████████████████| 13/13 [00:05<00:00,  2.22it/s]\n",
      "Week: A:  92%|███████████████████████████████████████████████████████████████████▍     | 12/13 [00:26<00:06,  6.75s/it]"
     ]
    },
    {
     "name": "stdout",
     "output_type": "stream",
     "text": [
      "Произошла ошибка типа: ConnectTimeout\n"
     ]
    },
    {
     "name": "stderr",
     "output_type": "stream",
     "text": [
      "Week: A: 100%|█████████████████████████████████████████████████████████████████████████| 13/13 [00:27<00:00,  2.11s/it]\n",
      "Week: B: 100%|█████████████████████████████████████████████████████████████████████████| 13/13 [00:05<00:00,  2.44it/s]\n",
      "Week: C: 100%|█████████████████████████████████████████████████████████████████████████| 13/13 [00:05<00:00,  2.52it/s]\n",
      "Week: D: 100%|█████████████████████████████████████████████████████████████████████████| 13/13 [00:05<00:00,  2.58it/s]\n",
      "Week: E: 100%|█████████████████████████████████████████████████████████████████████████| 13/13 [00:05<00:00,  2.36it/s]\n"
     ]
    }
   ],
   "source": [
    "ticket_info, end_day_info = parsing.option_data_parser(base_active, strikes_str, opt_type, months, years)"
   ]
  },
  {
   "cell_type": "code",
   "execution_count": 17,
   "id": "f2bfc537-2b54-4a30-b01a-80067c9be22d",
   "metadata": {},
   "outputs": [],
   "source": [
    "ticket_info.to_csv('ticker_info_SBER.csv', index=False) \n",
    "end_day_info.to_csv('end_day_info_SBER.csv', index=False) "
   ]
  },
  {
   "cell_type": "code",
   "execution_count": 22,
   "id": "3b08c113-17b5-49cc-9566-d99873edec41",
   "metadata": {},
   "outputs": [
    {
     "data": {
      "text/html": [
       "<div>\n",
       "<style scoped>\n",
       "    .dataframe tbody tr th:only-of-type {\n",
       "        vertical-align: middle;\n",
       "    }\n",
       "\n",
       "    .dataframe tbody tr th {\n",
       "        vertical-align: top;\n",
       "    }\n",
       "\n",
       "    .dataframe thead th {\n",
       "        text-align: right;\n",
       "    }\n",
       "</style>\n",
       "<table border=\"1\" class=\"dataframe\">\n",
       "  <thead>\n",
       "    <tr style=\"text-align: right;\">\n",
       "      <th></th>\n",
       "      <th>Краткий код</th>\n",
       "      <th>Наименование серии инструмента</th>\n",
       "      <th>Краткое наименование контракта</th>\n",
       "      <th>Последний день обращения</th>\n",
       "      <th>Тип опциона</th>\n",
       "      <th>Дата исполнения</th>\n",
       "      <th>Код базового актива</th>\n",
       "      <th>Начало обращения</th>\n",
       "      <th>Вид опциона пут или колл</th>\n",
       "      <th>Цена Страйк</th>\n",
       "      <th>...</th>\n",
       "      <th>Наименование контракта</th>\n",
       "      <th>Группа контрактов</th>\n",
       "      <th>Котировка</th>\n",
       "      <th>Базовый актив</th>\n",
       "      <th>Клиринг исполнения</th>\n",
       "      <th>Опционная серия</th>\n",
       "      <th>Вид контракта</th>\n",
       "      <th>Код типа инструмента</th>\n",
       "      <th>Тип бумаги</th>\n",
       "      <th>Типа инструмента</th>\n",
       "    </tr>\n",
       "  </thead>\n",
       "  <tbody>\n",
       "    <tr>\n",
       "      <th>0</th>\n",
       "      <td>SR240CA5</td>\n",
       "      <td>Прем. европ. Call 240 с исп. 15 янв. на SBER</td>\n",
       "      <td>SBERP150125CE240</td>\n",
       "      <td>2025-01-15</td>\n",
       "      <td>Расчетный</td>\n",
       "      <td>2025-01-15</td>\n",
       "      <td>SBRF</td>\n",
       "      <td>2024-11-06</td>\n",
       "      <td>C</td>\n",
       "      <td>240</td>\n",
       "      <td>...</td>\n",
       "      <td>Опцион колл на обыкновенные акции ПАО «Сбербан...</td>\n",
       "      <td>Акции</td>\n",
       "      <td>В рублях за 1 акцию</td>\n",
       "      <td>SBER</td>\n",
       "      <td>Основной</td>\n",
       "      <td>SBERP150125XE</td>\n",
       "      <td>Опцион на акции</td>\n",
       "      <td>futures_options</td>\n",
       "      <td>option_on_shares</td>\n",
       "      <td>Опционы</td>\n",
       "    </tr>\n",
       "    <tr>\n",
       "      <th>1</th>\n",
       "      <td>SR250CA5</td>\n",
       "      <td>Прем. европ. Call 250 с исп. 15 янв. на SBER</td>\n",
       "      <td>SBERP150125CE250</td>\n",
       "      <td>2025-01-15</td>\n",
       "      <td>Расчетный</td>\n",
       "      <td>2025-01-15</td>\n",
       "      <td>SBRF</td>\n",
       "      <td>2024-11-06</td>\n",
       "      <td>C</td>\n",
       "      <td>250</td>\n",
       "      <td>...</td>\n",
       "      <td>Опцион колл на обыкновенные акции ПАО «Сбербан...</td>\n",
       "      <td>Акции</td>\n",
       "      <td>В рублях за 1 акцию</td>\n",
       "      <td>SBER</td>\n",
       "      <td>Основной</td>\n",
       "      <td>SBERP150125XE</td>\n",
       "      <td>Опцион на акции</td>\n",
       "      <td>futures_options</td>\n",
       "      <td>option_on_shares</td>\n",
       "      <td>Опционы</td>\n",
       "    </tr>\n",
       "  </tbody>\n",
       "</table>\n",
       "<p>2 rows × 24 columns</p>\n",
       "</div>"
      ],
      "text/plain": [
       "  Краткий код                Наименование серии инструмента  \\\n",
       "0    SR240CA5  Прем. европ. Call 240 с исп. 15 янв. на SBER   \n",
       "1    SR250CA5  Прем. европ. Call 250 с исп. 15 янв. на SBER   \n",
       "\n",
       "  Краткое наименование контракта Последний день обращения Тип опциона  \\\n",
       "0               SBERP150125CE240               2025-01-15   Расчетный   \n",
       "1               SBERP150125CE250               2025-01-15   Расчетный   \n",
       "\n",
       "  Дата исполнения Код базового актива Начало обращения  \\\n",
       "0      2025-01-15                SBRF       2024-11-06   \n",
       "1      2025-01-15                SBRF       2024-11-06   \n",
       "\n",
       "  Вид опциона пут или колл Цена Страйк  ...  \\\n",
       "0                        C         240  ...   \n",
       "1                        C         250  ...   \n",
       "\n",
       "                              Наименование контракта Группа контрактов  \\\n",
       "0  Опцион колл на обыкновенные акции ПАО «Сбербан...             Акции   \n",
       "1  Опцион колл на обыкновенные акции ПАО «Сбербан...             Акции   \n",
       "\n",
       "             Котировка Базовый актив Клиринг исполнения Опционная серия  \\\n",
       "0  В рублях за 1 акцию          SBER           Основной   SBERP150125XE   \n",
       "1  В рублях за 1 акцию          SBER           Основной   SBERP150125XE   \n",
       "\n",
       "     Вид контракта Код типа инструмента        Тип бумаги Типа инструмента  \n",
       "0  Опцион на акции      futures_options  option_on_shares          Опционы  \n",
       "1  Опцион на акции      futures_options  option_on_shares          Опционы  \n",
       "\n",
       "[2 rows x 24 columns]"
      ]
     },
     "execution_count": 22,
     "metadata": {},
     "output_type": "execute_result"
    }
   ],
   "source": [
    "ticket_info.head(2)"
   ]
  },
  {
   "cell_type": "code",
   "execution_count": 25,
   "id": "f4ab0352-1b85-4f76-8a01-60eaffb563f4",
   "metadata": {},
   "outputs": [
    {
     "data": {
      "text/html": [
       "<div>\n",
       "<style scoped>\n",
       "    .dataframe tbody tr th:only-of-type {\n",
       "        vertical-align: middle;\n",
       "    }\n",
       "\n",
       "    .dataframe tbody tr th {\n",
       "        vertical-align: top;\n",
       "    }\n",
       "\n",
       "    .dataframe thead th {\n",
       "        text-align: right;\n",
       "    }\n",
       "</style>\n",
       "<table border=\"1\" class=\"dataframe\">\n",
       "  <thead>\n",
       "    <tr style=\"text-align: right;\">\n",
       "      <th></th>\n",
       "      <th>NAME</th>\n",
       "      <th>BOARDID</th>\n",
       "      <th>TRADEDATE</th>\n",
       "      <th>SECID</th>\n",
       "      <th>OPEN</th>\n",
       "      <th>LOW</th>\n",
       "      <th>HIGH</th>\n",
       "      <th>CLOSE</th>\n",
       "      <th>OPENPOSITIONVALUE</th>\n",
       "      <th>VALUE</th>\n",
       "      <th>VOLUME</th>\n",
       "      <th>OPENPOSITION</th>\n",
       "      <th>SETTLEPRICE</th>\n",
       "      <th>WAPRICE</th>\n",
       "      <th>SETTLEPRICEDAY</th>\n",
       "      <th>CHANGE</th>\n",
       "      <th>QTY</th>\n",
       "      <th>NUMTRADES</th>\n",
       "    </tr>\n",
       "  </thead>\n",
       "  <tbody>\n",
       "    <tr>\n",
       "      <th>0</th>\n",
       "      <td>SR240CA5</td>\n",
       "      <td>ROPD</td>\n",
       "      <td>2024-11-06</td>\n",
       "      <td>SR240CA5</td>\n",
       "      <td>NaN</td>\n",
       "      <td>NaN</td>\n",
       "      <td>NaN</td>\n",
       "      <td>NaN</td>\n",
       "      <td>0.0</td>\n",
       "      <td>NaN</td>\n",
       "      <td>NaN</td>\n",
       "      <td>NaN</td>\n",
       "      <td>19.73</td>\n",
       "      <td>NaN</td>\n",
       "      <td>NaN</td>\n",
       "      <td>NaN</td>\n",
       "      <td>NaN</td>\n",
       "      <td>0</td>\n",
       "    </tr>\n",
       "    <tr>\n",
       "      <th>1</th>\n",
       "      <td>SR240CA5</td>\n",
       "      <td>ROPD</td>\n",
       "      <td>2024-11-07</td>\n",
       "      <td>SR240CA5</td>\n",
       "      <td>NaN</td>\n",
       "      <td>NaN</td>\n",
       "      <td>NaN</td>\n",
       "      <td>NaN</td>\n",
       "      <td>0.0</td>\n",
       "      <td>NaN</td>\n",
       "      <td>NaN</td>\n",
       "      <td>NaN</td>\n",
       "      <td>22.20</td>\n",
       "      <td>NaN</td>\n",
       "      <td>NaN</td>\n",
       "      <td>NaN</td>\n",
       "      <td>NaN</td>\n",
       "      <td>0</td>\n",
       "    </tr>\n",
       "  </tbody>\n",
       "</table>\n",
       "</div>"
      ],
      "text/plain": [
       "       NAME BOARDID   TRADEDATE     SECID  OPEN  LOW  HIGH  CLOSE  \\\n",
       "0  SR240CA5    ROPD  2024-11-06  SR240CA5   NaN  NaN   NaN    NaN   \n",
       "1  SR240CA5    ROPD  2024-11-07  SR240CA5   NaN  NaN   NaN    NaN   \n",
       "\n",
       "   OPENPOSITIONVALUE  VALUE  VOLUME  OPENPOSITION  SETTLEPRICE  WAPRICE  \\\n",
       "0                0.0    NaN     NaN           NaN        19.73      NaN   \n",
       "1                0.0    NaN     NaN           NaN        22.20      NaN   \n",
       "\n",
       "   SETTLEPRICEDAY  CHANGE  QTY NUMTRADES  \n",
       "0             NaN     NaN  NaN         0  \n",
       "1             NaN     NaN  NaN         0  "
      ]
     },
     "execution_count": 25,
     "metadata": {},
     "output_type": "execute_result"
    }
   ],
   "source": [
    "end_day_info.head(2)"
   ]
  },
  {
   "cell_type": "code",
   "execution_count": 29,
   "id": "ce38fe62-80b2-4f0a-bcb4-85c4ff37192a",
   "metadata": {},
   "outputs": [
    {
     "data": {
      "text/plain": [
       "264"
      ]
     },
     "execution_count": 29,
     "metadata": {},
     "output_type": "execute_result"
    }
   ],
   "source": [
    "len(ticket_info)"
   ]
  },
  {
   "cell_type": "markdown",
   "id": "16858e8b-0018-48f7-a187-ced2bb1f756a",
   "metadata": {},
   "source": [
    "### Пример использования"
   ]
  },
  {
   "cell_type": "code",
   "execution_count": 77,
   "id": "0181c8ec-6411-46f7-acaf-29632c5820e0",
   "metadata": {},
   "outputs": [
    {
     "data": {
      "text/html": [
       "<div>\n",
       "<style scoped>\n",
       "    .dataframe tbody tr th:only-of-type {\n",
       "        vertical-align: middle;\n",
       "    }\n",
       "\n",
       "    .dataframe tbody tr th {\n",
       "        vertical-align: top;\n",
       "    }\n",
       "\n",
       "    .dataframe thead th {\n",
       "        text-align: right;\n",
       "    }\n",
       "</style>\n",
       "<table border=\"1\" class=\"dataframe\">\n",
       "  <thead>\n",
       "    <tr style=\"text-align: right;\">\n",
       "      <th></th>\n",
       "      <th>Краткий код</th>\n",
       "      <th>Наименование серии инструмента</th>\n",
       "      <th>Краткое наименование контракта</th>\n",
       "      <th>Последний день обращения</th>\n",
       "      <th>Тип опциона</th>\n",
       "      <th>Дата исполнения</th>\n",
       "      <th>Код базового актива</th>\n",
       "      <th>Начало обращения</th>\n",
       "      <th>Вид опциона пут или колл</th>\n",
       "      <th>Цена Страйк</th>\n",
       "      <th>...</th>\n",
       "      <th>Наименование контракта</th>\n",
       "      <th>Группа контрактов</th>\n",
       "      <th>Котировка</th>\n",
       "      <th>Базовый актив</th>\n",
       "      <th>Клиринг исполнения</th>\n",
       "      <th>Опционная серия</th>\n",
       "      <th>Вид контракта</th>\n",
       "      <th>Код типа инструмента</th>\n",
       "      <th>Тип бумаги</th>\n",
       "      <th>Типа инструмента</th>\n",
       "    </tr>\n",
       "  </thead>\n",
       "  <tbody>\n",
       "    <tr>\n",
       "      <th>263</th>\n",
       "      <td>SR330CU5</td>\n",
       "      <td>Прем. европ. Put 330 с исп. 17 сент. на SBER</td>\n",
       "      <td>SBERP170925PE330</td>\n",
       "      <td>2025-09-17</td>\n",
       "      <td>Расчетный</td>\n",
       "      <td>2025-09-17</td>\n",
       "      <td>SBRF</td>\n",
       "      <td>2024-09-23</td>\n",
       "      <td>P</td>\n",
       "      <td>330</td>\n",
       "      <td>...</td>\n",
       "      <td>Опцион пут на обыкновенные акции ПАО «Сбербанк...</td>\n",
       "      <td>Акции</td>\n",
       "      <td>В рублях за 1 акцию</td>\n",
       "      <td>SBER</td>\n",
       "      <td>Основной</td>\n",
       "      <td>SBERP170925XE</td>\n",
       "      <td>Опцион на акции</td>\n",
       "      <td>futures_options</td>\n",
       "      <td>option_on_shares</td>\n",
       "      <td>Опционы</td>\n",
       "    </tr>\n",
       "  </tbody>\n",
       "</table>\n",
       "<p>1 rows × 24 columns</p>\n",
       "</div>"
      ],
      "text/plain": [
       "    Краткий код                Наименование серии инструмента  \\\n",
       "263    SR330CU5  Прем. европ. Put 330 с исп. 17 сент. на SBER   \n",
       "\n",
       "    Краткое наименование контракта Последний день обращения Тип опциона  \\\n",
       "263               SBERP170925PE330               2025-09-17   Расчетный   \n",
       "\n",
       "    Дата исполнения Код базового актива Начало обращения  \\\n",
       "263      2025-09-17                SBRF       2024-09-23   \n",
       "\n",
       "    Вид опциона пут или колл Цена Страйк  ...  \\\n",
       "263                        P         330  ...   \n",
       "\n",
       "                                Наименование контракта Группа контрактов  \\\n",
       "263  Опцион пут на обыкновенные акции ПАО «Сбербанк...             Акции   \n",
       "\n",
       "               Котировка Базовый актив Клиринг исполнения Опционная серия  \\\n",
       "263  В рублях за 1 акцию          SBER           Основной   SBERP170925XE   \n",
       "\n",
       "       Вид контракта Код типа инструмента        Тип бумаги Типа инструмента  \n",
       "263  Опцион на акции      futures_options  option_on_shares          Опционы  \n",
       "\n",
       "[1 rows x 24 columns]"
      ]
     },
     "execution_count": 77,
     "metadata": {},
     "output_type": "execute_result"
    }
   ],
   "source": [
    "# Возьмем какой-то опцион для примера\n",
    "ticket_info[ticket_info['Краткий код'] == 'SR330CU5']"
   ]
  },
  {
   "cell_type": "code",
   "execution_count": 78,
   "id": "a64afe5f-b72f-4fae-9b68-8d50a41e4025",
   "metadata": {},
   "outputs": [
    {
     "data": {
      "text/html": [
       "<div>\n",
       "<style scoped>\n",
       "    .dataframe tbody tr th:only-of-type {\n",
       "        vertical-align: middle;\n",
       "    }\n",
       "\n",
       "    .dataframe tbody tr th {\n",
       "        vertical-align: top;\n",
       "    }\n",
       "\n",
       "    .dataframe thead th {\n",
       "        text-align: right;\n",
       "    }\n",
       "</style>\n",
       "<table border=\"1\" class=\"dataframe\">\n",
       "  <thead>\n",
       "    <tr style=\"text-align: right;\">\n",
       "      <th></th>\n",
       "      <th>NAME</th>\n",
       "      <th>TRADEDATE</th>\n",
       "      <th>SETTLEPRICE</th>\n",
       "      <th>Цена Страйк</th>\n",
       "    </tr>\n",
       "  </thead>\n",
       "  <tbody>\n",
       "    <tr>\n",
       "      <th>55</th>\n",
       "      <td>SR240CU5</td>\n",
       "      <td>2024-12-09</td>\n",
       "      <td>20.79</td>\n",
       "      <td>240</td>\n",
       "    </tr>\n",
       "    <tr>\n",
       "      <th>167</th>\n",
       "      <td>SR250CU5</td>\n",
       "      <td>2024-12-09</td>\n",
       "      <td>24.36</td>\n",
       "      <td>250</td>\n",
       "    </tr>\n",
       "    <tr>\n",
       "      <th>279</th>\n",
       "      <td>SR260CU5</td>\n",
       "      <td>2024-12-09</td>\n",
       "      <td>28.35</td>\n",
       "      <td>260</td>\n",
       "    </tr>\n",
       "    <tr>\n",
       "      <th>631</th>\n",
       "      <td>SR300CU5</td>\n",
       "      <td>2024-12-09</td>\n",
       "      <td>48.43</td>\n",
       "      <td>300</td>\n",
       "    </tr>\n",
       "  </tbody>\n",
       "</table>\n",
       "</div>"
      ],
      "text/plain": [
       "         NAME   TRADEDATE  SETTLEPRICE Цена Страйк\n",
       "55   SR240CU5  2024-12-09        20.79         240\n",
       "167  SR250CU5  2024-12-09        24.36         250\n",
       "279  SR260CU5  2024-12-09        28.35         260\n",
       "631  SR300CU5  2024-12-09        48.43         300"
      ]
     },
     "execution_count": 78,
     "metadata": {},
     "output_type": "execute_result"
    }
   ],
   "source": [
    "# Все опционы данной серии с разными страйками на 2024-12-09\n",
    "pattern = r'^SR\\d+(\\.\\d+)?CU5$'\n",
    "filtered_df = end_day_info[end_day_info['NAME'].str.contains(pattern)]\n",
    "option_strikes = filtered_df.merge(ticket_info[['Краткий код', 'Цена Страйк']], how='left', left_on='NAME', right_on='Краткий код')\n",
    "option_info = option_strikes[option_strikes['TRADEDATE'] == '2024-12-09'][['NAME', 'TRADEDATE', 'SETTLEPRICE', 'Цена Страйк']]\n",
    "option_info"
   ]
  },
  {
   "cell_type": "code",
   "execution_count": 80,
   "id": "96c9cb3e-cb0b-497a-89c9-94c4691c2581",
   "metadata": {},
   "outputs": [
    {
     "data": {
      "text/html": [
       "<div>\n",
       "<style scoped>\n",
       "    .dataframe tbody tr th:only-of-type {\n",
       "        vertical-align: middle;\n",
       "    }\n",
       "\n",
       "    .dataframe tbody tr th {\n",
       "        vertical-align: top;\n",
       "    }\n",
       "\n",
       "    .dataframe thead th {\n",
       "        text-align: right;\n",
       "    }\n",
       "</style>\n",
       "<table border=\"1\" class=\"dataframe\">\n",
       "  <thead>\n",
       "    <tr style=\"text-align: right;\">\n",
       "      <th></th>\n",
       "      <th>NAME</th>\n",
       "      <th>TRADEDATE</th>\n",
       "      <th>SETTLEPRICE</th>\n",
       "      <th>Цена Страйк</th>\n",
       "    </tr>\n",
       "  </thead>\n",
       "  <tbody>\n",
       "    <tr>\n",
       "      <th>0</th>\n",
       "      <td>SR240CA5</td>\n",
       "      <td>2024-11-06</td>\n",
       "      <td>19.73</td>\n",
       "      <td>240</td>\n",
       "    </tr>\n",
       "    <tr>\n",
       "      <th>1</th>\n",
       "      <td>SR240CA5</td>\n",
       "      <td>2024-11-07</td>\n",
       "      <td>22.20</td>\n",
       "      <td>240</td>\n",
       "    </tr>\n",
       "    <tr>\n",
       "      <th>2</th>\n",
       "      <td>SR240CA5</td>\n",
       "      <td>2024-11-08</td>\n",
       "      <td>24.93</td>\n",
       "      <td>240</td>\n",
       "    </tr>\n",
       "    <tr>\n",
       "      <th>3</th>\n",
       "      <td>SR240CA5</td>\n",
       "      <td>2024-11-11</td>\n",
       "      <td>31.00</td>\n",
       "      <td>240</td>\n",
       "    </tr>\n",
       "    <tr>\n",
       "      <th>4</th>\n",
       "      <td>SR240CA5</td>\n",
       "      <td>2024-11-12</td>\n",
       "      <td>27.40</td>\n",
       "      <td>240</td>\n",
       "    </tr>\n",
       "    <tr>\n",
       "      <th>5</th>\n",
       "      <td>SR240CA5</td>\n",
       "      <td>2024-11-13</td>\n",
       "      <td>29.45</td>\n",
       "      <td>240</td>\n",
       "    </tr>\n",
       "    <tr>\n",
       "      <th>6</th>\n",
       "      <td>SR240CA5</td>\n",
       "      <td>2024-11-14</td>\n",
       "      <td>21.42</td>\n",
       "      <td>240</td>\n",
       "    </tr>\n",
       "    <tr>\n",
       "      <th>7</th>\n",
       "      <td>SR240CA5</td>\n",
       "      <td>2024-11-15</td>\n",
       "      <td>24.49</td>\n",
       "      <td>240</td>\n",
       "    </tr>\n",
       "    <tr>\n",
       "      <th>8</th>\n",
       "      <td>SR240CA5</td>\n",
       "      <td>2024-11-18</td>\n",
       "      <td>22.09</td>\n",
       "      <td>240</td>\n",
       "    </tr>\n",
       "    <tr>\n",
       "      <th>9</th>\n",
       "      <td>SR240CA5</td>\n",
       "      <td>2024-11-19</td>\n",
       "      <td>15.18</td>\n",
       "      <td>240</td>\n",
       "    </tr>\n",
       "    <tr>\n",
       "      <th>10</th>\n",
       "      <td>SR240CA5</td>\n",
       "      <td>2024-11-20</td>\n",
       "      <td>13.24</td>\n",
       "      <td>240</td>\n",
       "    </tr>\n",
       "    <tr>\n",
       "      <th>11</th>\n",
       "      <td>SR240CA5</td>\n",
       "      <td>2024-11-21</td>\n",
       "      <td>13.11</td>\n",
       "      <td>240</td>\n",
       "    </tr>\n",
       "    <tr>\n",
       "      <th>12</th>\n",
       "      <td>SR240CA5</td>\n",
       "      <td>2024-11-22</td>\n",
       "      <td>16.05</td>\n",
       "      <td>240</td>\n",
       "    </tr>\n",
       "    <tr>\n",
       "      <th>13</th>\n",
       "      <td>SR240CA5</td>\n",
       "      <td>2024-11-25</td>\n",
       "      <td>19.99</td>\n",
       "      <td>240</td>\n",
       "    </tr>\n",
       "    <tr>\n",
       "      <th>14</th>\n",
       "      <td>SR240CA5</td>\n",
       "      <td>2024-11-26</td>\n",
       "      <td>12.07</td>\n",
       "      <td>240</td>\n",
       "    </tr>\n",
       "    <tr>\n",
       "      <th>15</th>\n",
       "      <td>SR240CA5</td>\n",
       "      <td>2024-11-27</td>\n",
       "      <td>8.10</td>\n",
       "      <td>240</td>\n",
       "    </tr>\n",
       "    <tr>\n",
       "      <th>16</th>\n",
       "      <td>SR240CA5</td>\n",
       "      <td>2024-11-28</td>\n",
       "      <td>13.94</td>\n",
       "      <td>240</td>\n",
       "    </tr>\n",
       "    <tr>\n",
       "      <th>17</th>\n",
       "      <td>SR240CA5</td>\n",
       "      <td>2024-11-29</td>\n",
       "      <td>15.65</td>\n",
       "      <td>240</td>\n",
       "    </tr>\n",
       "    <tr>\n",
       "      <th>18</th>\n",
       "      <td>SR240CA5</td>\n",
       "      <td>2024-12-02</td>\n",
       "      <td>19.42</td>\n",
       "      <td>240</td>\n",
       "    </tr>\n",
       "    <tr>\n",
       "      <th>19</th>\n",
       "      <td>SR240CA5</td>\n",
       "      <td>2024-12-03</td>\n",
       "      <td>12.54</td>\n",
       "      <td>240</td>\n",
       "    </tr>\n",
       "    <tr>\n",
       "      <th>20</th>\n",
       "      <td>SR240CA5</td>\n",
       "      <td>2024-12-04</td>\n",
       "      <td>12.34</td>\n",
       "      <td>240</td>\n",
       "    </tr>\n",
       "    <tr>\n",
       "      <th>21</th>\n",
       "      <td>SR240CA5</td>\n",
       "      <td>2024-12-05</td>\n",
       "      <td>12.75</td>\n",
       "      <td>240</td>\n",
       "    </tr>\n",
       "    <tr>\n",
       "      <th>22</th>\n",
       "      <td>SR240CA5</td>\n",
       "      <td>2024-12-06</td>\n",
       "      <td>10.69</td>\n",
       "      <td>240</td>\n",
       "    </tr>\n",
       "    <tr>\n",
       "      <th>23</th>\n",
       "      <td>SR240CA5</td>\n",
       "      <td>2024-12-09</td>\n",
       "      <td>16.05</td>\n",
       "      <td>240</td>\n",
       "    </tr>\n",
       "    <tr>\n",
       "      <th>24</th>\n",
       "      <td>SR240CA5</td>\n",
       "      <td>2024-12-10</td>\n",
       "      <td>10.94</td>\n",
       "      <td>240</td>\n",
       "    </tr>\n",
       "    <tr>\n",
       "      <th>25</th>\n",
       "      <td>SR240CA5</td>\n",
       "      <td>2024-12-11</td>\n",
       "      <td>8.65</td>\n",
       "      <td>240</td>\n",
       "    </tr>\n",
       "    <tr>\n",
       "      <th>26</th>\n",
       "      <td>SR240CA5</td>\n",
       "      <td>2024-12-12</td>\n",
       "      <td>8.10</td>\n",
       "      <td>240</td>\n",
       "    </tr>\n",
       "    <tr>\n",
       "      <th>27</th>\n",
       "      <td>SR240CA5</td>\n",
       "      <td>2024-12-13</td>\n",
       "      <td>8.53</td>\n",
       "      <td>240</td>\n",
       "    </tr>\n",
       "    <tr>\n",
       "      <th>28</th>\n",
       "      <td>SR240CA5</td>\n",
       "      <td>2024-12-16</td>\n",
       "      <td>8.16</td>\n",
       "      <td>240</td>\n",
       "    </tr>\n",
       "    <tr>\n",
       "      <th>29</th>\n",
       "      <td>SR240CA5</td>\n",
       "      <td>2024-12-17</td>\n",
       "      <td>4.99</td>\n",
       "      <td>240</td>\n",
       "    </tr>\n",
       "    <tr>\n",
       "      <th>30</th>\n",
       "      <td>SR240CA5</td>\n",
       "      <td>2024-12-18</td>\n",
       "      <td>6.86</td>\n",
       "      <td>240</td>\n",
       "    </tr>\n",
       "    <tr>\n",
       "      <th>31</th>\n",
       "      <td>SR240CA5</td>\n",
       "      <td>2024-12-19</td>\n",
       "      <td>5.98</td>\n",
       "      <td>240</td>\n",
       "    </tr>\n",
       "    <tr>\n",
       "      <th>32</th>\n",
       "      <td>SR240CA5</td>\n",
       "      <td>2024-12-20</td>\n",
       "      <td>31.21</td>\n",
       "      <td>240</td>\n",
       "    </tr>\n",
       "    <tr>\n",
       "      <th>33</th>\n",
       "      <td>SR240CA5</td>\n",
       "      <td>2024-12-23</td>\n",
       "      <td>29.71</td>\n",
       "      <td>240</td>\n",
       "    </tr>\n",
       "    <tr>\n",
       "      <th>34</th>\n",
       "      <td>SR240CA5</td>\n",
       "      <td>2024-12-24</td>\n",
       "      <td>29.93</td>\n",
       "      <td>240</td>\n",
       "    </tr>\n",
       "    <tr>\n",
       "      <th>35</th>\n",
       "      <td>SR240CA5</td>\n",
       "      <td>2024-12-25</td>\n",
       "      <td>33.89</td>\n",
       "      <td>240</td>\n",
       "    </tr>\n",
       "    <tr>\n",
       "      <th>36</th>\n",
       "      <td>SR240CA5</td>\n",
       "      <td>2024-12-26</td>\n",
       "      <td>34.75</td>\n",
       "      <td>240</td>\n",
       "    </tr>\n",
       "    <tr>\n",
       "      <th>37</th>\n",
       "      <td>SR240CA5</td>\n",
       "      <td>2024-12-27</td>\n",
       "      <td>33.67</td>\n",
       "      <td>240</td>\n",
       "    </tr>\n",
       "    <tr>\n",
       "      <th>38</th>\n",
       "      <td>SR240CA5</td>\n",
       "      <td>2024-12-28</td>\n",
       "      <td>34.30</td>\n",
       "      <td>240</td>\n",
       "    </tr>\n",
       "    <tr>\n",
       "      <th>39</th>\n",
       "      <td>SR240CA5</td>\n",
       "      <td>2024-12-30</td>\n",
       "      <td>43.39</td>\n",
       "      <td>240</td>\n",
       "    </tr>\n",
       "    <tr>\n",
       "      <th>40</th>\n",
       "      <td>SR240CA5</td>\n",
       "      <td>2025-01-03</td>\n",
       "      <td>35.23</td>\n",
       "      <td>240</td>\n",
       "    </tr>\n",
       "    <tr>\n",
       "      <th>41</th>\n",
       "      <td>SR240CA5</td>\n",
       "      <td>2025-01-06</td>\n",
       "      <td>34.35</td>\n",
       "      <td>240</td>\n",
       "    </tr>\n",
       "    <tr>\n",
       "      <th>42</th>\n",
       "      <td>SR240CA5</td>\n",
       "      <td>2025-01-08</td>\n",
       "      <td>38.06</td>\n",
       "      <td>240</td>\n",
       "    </tr>\n",
       "    <tr>\n",
       "      <th>43</th>\n",
       "      <td>SR240CA5</td>\n",
       "      <td>2025-01-09</td>\n",
       "      <td>33.58</td>\n",
       "      <td>240</td>\n",
       "    </tr>\n",
       "    <tr>\n",
       "      <th>44</th>\n",
       "      <td>SR240CA5</td>\n",
       "      <td>2025-01-10</td>\n",
       "      <td>39.29</td>\n",
       "      <td>240</td>\n",
       "    </tr>\n",
       "    <tr>\n",
       "      <th>45</th>\n",
       "      <td>SR240CA5</td>\n",
       "      <td>2025-01-13</td>\n",
       "      <td>42.28</td>\n",
       "      <td>240</td>\n",
       "    </tr>\n",
       "    <tr>\n",
       "      <th>46</th>\n",
       "      <td>SR240CA5</td>\n",
       "      <td>2025-01-14</td>\n",
       "      <td>40.25</td>\n",
       "      <td>240</td>\n",
       "    </tr>\n",
       "    <tr>\n",
       "      <th>47</th>\n",
       "      <td>SR240CA5</td>\n",
       "      <td>2025-01-15</td>\n",
       "      <td>37.51</td>\n",
       "      <td>240</td>\n",
       "    </tr>\n",
       "  </tbody>\n",
       "</table>\n",
       "</div>"
      ],
      "text/plain": [
       "        NAME   TRADEDATE  SETTLEPRICE Цена Страйк\n",
       "0   SR240CA5  2024-11-06        19.73         240\n",
       "1   SR240CA5  2024-11-07        22.20         240\n",
       "2   SR240CA5  2024-11-08        24.93         240\n",
       "3   SR240CA5  2024-11-11        31.00         240\n",
       "4   SR240CA5  2024-11-12        27.40         240\n",
       "5   SR240CA5  2024-11-13        29.45         240\n",
       "6   SR240CA5  2024-11-14        21.42         240\n",
       "7   SR240CA5  2024-11-15        24.49         240\n",
       "8   SR240CA5  2024-11-18        22.09         240\n",
       "9   SR240CA5  2024-11-19        15.18         240\n",
       "10  SR240CA5  2024-11-20        13.24         240\n",
       "11  SR240CA5  2024-11-21        13.11         240\n",
       "12  SR240CA5  2024-11-22        16.05         240\n",
       "13  SR240CA5  2024-11-25        19.99         240\n",
       "14  SR240CA5  2024-11-26        12.07         240\n",
       "15  SR240CA5  2024-11-27         8.10         240\n",
       "16  SR240CA5  2024-11-28        13.94         240\n",
       "17  SR240CA5  2024-11-29        15.65         240\n",
       "18  SR240CA5  2024-12-02        19.42         240\n",
       "19  SR240CA5  2024-12-03        12.54         240\n",
       "20  SR240CA5  2024-12-04        12.34         240\n",
       "21  SR240CA5  2024-12-05        12.75         240\n",
       "22  SR240CA5  2024-12-06        10.69         240\n",
       "23  SR240CA5  2024-12-09        16.05         240\n",
       "24  SR240CA5  2024-12-10        10.94         240\n",
       "25  SR240CA5  2024-12-11         8.65         240\n",
       "26  SR240CA5  2024-12-12         8.10         240\n",
       "27  SR240CA5  2024-12-13         8.53         240\n",
       "28  SR240CA5  2024-12-16         8.16         240\n",
       "29  SR240CA5  2024-12-17         4.99         240\n",
       "30  SR240CA5  2024-12-18         6.86         240\n",
       "31  SR240CA5  2024-12-19         5.98         240\n",
       "32  SR240CA5  2024-12-20        31.21         240\n",
       "33  SR240CA5  2024-12-23        29.71         240\n",
       "34  SR240CA5  2024-12-24        29.93         240\n",
       "35  SR240CA5  2024-12-25        33.89         240\n",
       "36  SR240CA5  2024-12-26        34.75         240\n",
       "37  SR240CA5  2024-12-27        33.67         240\n",
       "38  SR240CA5  2024-12-28        34.30         240\n",
       "39  SR240CA5  2024-12-30        43.39         240\n",
       "40  SR240CA5  2025-01-03        35.23         240\n",
       "41  SR240CA5  2025-01-06        34.35         240\n",
       "42  SR240CA5  2025-01-08        38.06         240\n",
       "43  SR240CA5  2025-01-09        33.58         240\n",
       "44  SR240CA5  2025-01-10        39.29         240\n",
       "45  SR240CA5  2025-01-13        42.28         240\n",
       "46  SR240CA5  2025-01-14        40.25         240\n",
       "47  SR240CA5  2025-01-15        37.51         240"
      ]
     },
     "execution_count": 80,
     "metadata": {},
     "output_type": "execute_result"
    }
   ],
   "source": [
    "# Все опционы данной серии, за весь период обращения со страйком 240\n",
    "pattern = r'^SR240CA5$'\n",
    "filtered_df = end_day_info[end_day_info['NAME'].str.contains(pattern)]\n",
    "option_strikes = filtered_df.merge(ticket_info[['Краткий код', 'Цена Страйк']], how='left', left_on='NAME', right_on='Краткий код')\n",
    "option_info = option_strikes[['NAME', 'TRADEDATE', 'SETTLEPRICE', 'Цена Страйк']]\n",
    "option_info"
   ]
  },
  {
   "cell_type": "code",
   "execution_count": 71,
   "id": "5fc606ff-f4df-4b1b-9d55-c2d116ca112b",
   "metadata": {},
   "outputs": [
    {
     "data": {
      "text/plain": [
       "11455"
      ]
     },
     "execution_count": 71,
     "metadata": {},
     "output_type": "execute_result"
    }
   ],
   "source": [
    "len(end_day_info)"
   ]
  },
  {
   "cell_type": "code",
   "execution_count": 72,
   "id": "337e7ec9-1398-4cd6-8d23-68ef75f9e1d6",
   "metadata": {},
   "outputs": [
    {
     "data": {
      "text/plain": [
       "264"
      ]
     },
     "execution_count": 72,
     "metadata": {},
     "output_type": "execute_result"
    }
   ],
   "source": [
    "len(ticket_info)"
   ]
  },
  {
   "cell_type": "markdown",
   "id": "b69868f2-760e-41cc-84ac-7e14274dc8e5",
   "metadata": {},
   "source": [
    "## Парсер № 2. Ускоренный"
   ]
  },
  {
   "cell_type": "code",
   "execution_count": 82,
   "id": "7f0467bc-8a4c-4d0d-b63c-159a1d53a04b",
   "metadata": {},
   "outputs": [
    {
     "name": "stderr",
     "output_type": "stream",
     "text": [
      "Processing options:   0%|▏                                                            | 6/2028 [00:00<03:38,  9.25it/s]"
     ]
    },
    {
     "name": "stdout",
     "output_type": "stream",
     "text": [
      "Saved SR270CA5\n",
      "Saved SR320CA5\n",
      "Saved SR310CA5\n",
      "Saved SR260CA5\n",
      "Saved SR280CA5\n",
      "Saved SR240CA5\n",
      "Saved SR290CA5\n",
      "Saved SR330CA5\n",
      "Saved SR300CA5\n",
      "Saved SR250CA5\n"
     ]
    },
    {
     "name": "stderr",
     "output_type": "stream",
     "text": [
      "Processing options:   2%|▉                                                           | 33/2028 [00:01<00:37, 52.54it/s]"
     ]
    },
    {
     "name": "stdout",
     "output_type": "stream",
     "text": [
      "Saved SR260CA5B\n",
      "Saved SR270CA5B\n",
      "Saved SR250CA5B\n",
      "Saved SR240CA5B\n",
      "Saved SR310CA5B\n",
      "Saved SR290CA5B\n",
      "Saved SR330CA5B\n",
      "Saved SR300CA5B\n",
      "Saved SR280CA5B\n",
      "Saved SR320CA5B\n"
     ]
    },
    {
     "name": "stderr",
     "output_type": "stream",
     "text": [
      "Processing options:   3%|█▉                                                          | 66/2028 [00:01<00:20, 94.54it/s]"
     ]
    },
    {
     "name": "stdout",
     "output_type": "stream",
     "text": [
      "Saved SR240CA5D\n",
      "Saved SR270CA5D\n",
      "Saved SR260CA5D\n",
      "Saved SR300CA5D\n",
      "Saved SR310CA5D\n",
      "Saved SR250CA5D\n",
      "Saved SR290CA5D\n",
      "Saved SR280CA5D\n",
      "Saved SR320CA5D\n",
      "Saved SR330CA5D\n",
      "Saved SR240CA5E\n",
      "Saved SR260CA5E\n",
      "Saved SR250CA5E\n",
      "Saved SR270CA5E\n",
      "Saved SR280CA5E\n",
      "Saved SR290CA5E\n",
      "Saved SR310CA5E\n",
      "Saved SR330CA5E\n",
      "Saved SR320CA5E\n",
      "Saved SR300CA5E\n",
      "Saved SR240CB5\n",
      "Saved SR250CB5\n"
     ]
    },
    {
     "name": "stderr",
     "output_type": "stream",
     "text": [
      "Processing options:   5%|██▊                                                        | 95/2028 [00:01<00:18, 105.27it/s]"
     ]
    },
    {
     "name": "stdout",
     "output_type": "stream",
     "text": [
      "Saved SR260CB5\n",
      "Saved SR270CB5\n",
      "Saved SR280CB5\n",
      "Saved SR290CB5\n",
      "Saved SR310CB5\n",
      "Saved SR300CB5\n",
      "Saved SR320CB5\n",
      "Saved SR340CB5\n",
      "Saved SR330CB5\n",
      "Saved SR350CB5\n",
      "Saved SR360CB5\n",
      "Saved SR240CB5A\n",
      "Saved SR250CB5A\n",
      "Saved SR260CB5A\n",
      "Saved SR280CB5A\n",
      "Saved SR270CB5A\n",
      "Saved SR300CB5A\n",
      "Saved SR290CB5A\n",
      "Saved SR330CB5A\n"
     ]
    },
    {
     "name": "stderr",
     "output_type": "stream",
     "text": [
      "Processing options:   6%|███▍                                                      | 121/2028 [00:01<00:16, 112.90it/s]"
     ]
    },
    {
     "name": "stdout",
     "output_type": "stream",
     "text": [
      "Saved SR310CB5A\n",
      "Saved SR320CB5A\n",
      "Saved SR240CB5B\n",
      "Saved SR250CB5B\n",
      "Saved SR260CB5B\n",
      "Saved SR280CB5B\n",
      "Saved SR270CB5B\n",
      "Saved SR290CB5B\n",
      "Saved SR330CB5B\n",
      "Saved SR310CB5B\n",
      "Saved SR320CB5B\n",
      "Saved SR340CB5B\n",
      "Saved SR300CB5B\n"
     ]
    },
    {
     "name": "stderr",
     "output_type": "stream",
     "text": [
      "Processing options:   7%|████▎                                                      | 148/2028 [00:02<00:19, 96.38it/s]"
     ]
    },
    {
     "name": "stdout",
     "output_type": "stream",
     "text": [
      "Saved SR260CB5D\n",
      "Saved SR280CB5D\n",
      "Saved SR290CB5D\n",
      "Saved SR250CB5D\n",
      "Saved SR240CB5D\n",
      "Saved SR270CB5D\n",
      "Saved SR330CB5D\n",
      "Saved SR310CB5D\n",
      "Saved SR340CB5D\n",
      "Saved SR350CB5D\n",
      "Saved SR320CB5D\n",
      "Saved SR300CB5D\n",
      "Saved SR360CB5D\n"
     ]
    },
    {
     "name": "stderr",
     "output_type": "stream",
     "text": [
      "Processing options:   8%|████▉                                                      | 169/2028 [00:02<00:22, 83.31it/s]"
     ]
    },
    {
     "name": "stdout",
     "output_type": "stream",
     "text": [
      "Saved SR240CC5\n",
      "Saved SR250CC5\n",
      "Saved SR280CC5\n",
      "Saved SR260CC5\n",
      "Saved SR290CC5\n",
      "Saved SR310CC5\n",
      "Saved SR330CC5\n",
      "Saved SR300CC5\n",
      "Saved SR240CC5A\n",
      "Saved SR250CC5A\n",
      "Saved SR340CC5\n",
      "Saved SR260CC5A\n",
      "Saved SR280CC5A\n",
      "Saved SR270CC5A\n",
      "Saved SR360CC5\n",
      "Saved SR350CC5\n",
      "Saved SR310CC5A\n",
      "Saved SR300CC5A\n"
     ]
    },
    {
     "name": "stderr",
     "output_type": "stream",
     "text": [
      "Processing options:   9%|█████▍                                                     | 189/2028 [00:02<00:21, 86.17it/s]"
     ]
    },
    {
     "name": "stdout",
     "output_type": "stream",
     "text": [
      "Saved SR350CC5A\n",
      "Saved SR360CC5A\n",
      "Saved SR320CC5A\n",
      "Saved SR270CC5\n",
      "Saved SR340CC5A\n",
      "Saved SR320CC5\n",
      "Saved SR260CC5B\n",
      "Saved SR270CC5B\n",
      "Saved SR290CC5B\n",
      "Saved SR300CC5B\n",
      "Saved SR310CC5B\n",
      "Saved SR320CC5B\n",
      "Saved SR290CC5A\n",
      "Saved SR330CC5A\n",
      "Saved SR280CC5B\n",
      "Saved SR330CC5B\n",
      "Saved SR340CC5B\n",
      "Saved SR350CC5B\n",
      "Saved SR360CC5B\n"
     ]
    },
    {
     "name": "stderr",
     "output_type": "stream",
     "text": [
      "Processing options:  12%|███████▏                                                  | 250/2028 [00:03<00:14, 120.68it/s]"
     ]
    },
    {
     "name": "stdout",
     "output_type": "stream",
     "text": [
      "Saved SR240CD5\n",
      "Saved SR250CD5\n",
      "Saved SR270CD5\n",
      "Saved SR260CD5\n",
      "Saved SR280CD5\n",
      "Saved SR300CD5\n",
      "Saved SR340CD5\n",
      "Saved SR290CD5\n",
      "Saved SR320CD5\n",
      "Saved SR310CD5\n",
      "Saved SR330CD5\n",
      "Saved SR350CD5\n",
      "Saved SR360CD5\n"
     ]
    },
    {
     "name": "stderr",
     "output_type": "stream",
     "text": [
      "Processing options:  21%|████████████                                              | 420/2028 [00:04<00:10, 154.94it/s]"
     ]
    },
    {
     "name": "stdout",
     "output_type": "stream",
     "text": [
      "Saved SR300CF5\n",
      "Saved SR270CF5\n",
      "Saved SR250CF5\n",
      "Saved SR310CF5\n",
      "Saved SR240CF5\n",
      "Saved SR260CF5\n",
      "Saved SR290CF5\n",
      "Saved SR320CF5\n",
      "Saved SR340CF5\n",
      "Saved SR330CF5\n",
      "Saved SR280CF5\n",
      "Saved SR350CF5\n",
      "Saved SR360CF5\n"
     ]
    },
    {
     "name": "stderr",
     "output_type": "stream",
     "text": [
      "Processing options:  31%|██████████████████▏                                       | 638/2028 [00:06<00:12, 108.84it/s]"
     ]
    },
    {
     "name": "stdout",
     "output_type": "stream",
     "text": [
      "Saved SR290CI5\n",
      "Saved SR280CI5\n",
      "Saved SR240CI5\n",
      "Saved SR270CI5\n",
      "Saved SR310CI5\n",
      "Saved SR330CI5\n",
      "Saved SR250CI5\n",
      "Saved SR320CI5\n",
      "Saved SR260CI5\n",
      "Saved SR300CI5\n",
      "Saved SR360CI5\n",
      "Saved SR350CI5\n",
      "Saved SR340CI5\n"
     ]
    },
    {
     "name": "stderr",
     "output_type": "stream",
     "text": [
      "Processing options:  47%|███████████████████████████                               | 947/2028 [00:08<00:08, 132.47it/s]"
     ]
    },
    {
     "name": "stdout",
     "output_type": "stream",
     "text": [
      "Saved SR240CM5\n",
      "Saved SR270CM5\n",
      "Saved SR260CM5\n",
      "Saved SR250CM5\n",
      "Saved SR320CM5\n",
      "Saved SR290CM5\n",
      "Saved SR330CM5\n",
      "Saved SR280CM5\n",
      "Saved SR310CM5\n",
      "Saved SR300CM5\n"
     ]
    },
    {
     "name": "stderr",
     "output_type": "stream",
     "text": [
      "Processing options:  48%|███████████████████████████▉                              | 978/2028 [00:08<00:08, 130.07it/s]"
     ]
    },
    {
     "name": "stdout",
     "output_type": "stream",
     "text": [
      "Saved SR250CM5B\n",
      "Saved SR240CM5B\n",
      "Saved SR260CM5B\n",
      "Saved SR270CM5B\n",
      "Saved SR280CM5B\n",
      "Saved SR290CM5B\n",
      "Saved SR300CM5B\n",
      "Saved SR320CM5B\n",
      "Saved SR330CM5B\n",
      "Saved SR310CM5B\n"
     ]
    },
    {
     "name": "stderr",
     "output_type": "stream",
     "text": [
      "Processing options:  49%|████████████████████████████▊                              | 992/2028 [00:08<00:11, 90.67it/s]"
     ]
    },
    {
     "name": "stdout",
     "output_type": "stream",
     "text": [
      "Saved SR250CM5D\n",
      "Saved SR270CM5D\n",
      "Saved SR280CM5D\n",
      "Saved SR290CM5D\n",
      "Saved SR310CM5D\n",
      "Saved SR330CM5D\n",
      "Saved SR240CM5E\n",
      "Saved SR250CM5E\n",
      "Saved SR260CM5E\n",
      "Saved SR270CM5E\n",
      "Saved SR290CM5E\n",
      "Saved SR300CM5E\n",
      "Saved SR310CM5E\n"
     ]
    },
    {
     "name": "stderr",
     "output_type": "stream",
     "text": [
      "Processing options:  50%|████████████████████████████▉                             | 1012/2028 [00:09<00:16, 62.79it/s]"
     ]
    },
    {
     "name": "stdout",
     "output_type": "stream",
     "text": [
      "Saved SR320CM5E\n",
      "Saved SR330CM5E\n",
      "Saved SR240CN5\n",
      "Saved SR240CM5D\n",
      "Saved SR260CN5\n",
      "Saved SR250CN5\n",
      "Saved SR290CN5\n",
      "Saved SR300CM5D\n",
      "Saved SR300CN5\n"
     ]
    },
    {
     "name": "stderr",
     "output_type": "stream",
     "text": [
      "Processing options:  51%|█████████████████████████████▍                            | 1030/2028 [00:09<00:14, 68.73it/s]"
     ]
    },
    {
     "name": "stdout",
     "output_type": "stream",
     "text": [
      "Saved SR320CM5D\n",
      "Saved SR310CN5\n",
      "Saved SR320CN5\n",
      "Saved SR260CM5D\n",
      "Saved SR340CN5\n",
      "Saved SR330CN5\n",
      "Saved SR280CN5\n",
      "Saved SR350CN5\n",
      "Saved SR360CN5\n",
      "Saved SR260CN5A\n",
      "Saved SR280CM5E\n",
      "Saved SR280CN5A\n",
      "Saved SR300CN5A\n",
      "Saved SR320CN5A\n",
      "Saved SR330CN5A\n"
     ]
    },
    {
     "name": "stderr",
     "output_type": "stream",
     "text": [
      "Processing options:  52%|██████████████████████████████▏                           | 1054/2028 [00:09<00:10, 89.68it/s]"
     ]
    },
    {
     "name": "stdout",
     "output_type": "stream",
     "text": [
      "Saved SR240CN5A\n",
      "Saved SR310CN5A\n",
      "Saved SR270CN5A\n",
      "Saved SR240CN5B\n",
      "Saved SR250CN5B\n",
      "Saved SR250CN5A\n",
      "Saved SR270CN5B\n",
      "Saved SR270CN5\n",
      "Saved SR290CN5B\n",
      "Saved SR300CN5B\n",
      "Saved SR330CN5B\n",
      "Saved SR320CN5B\n",
      "Saved SR310CN5B\n"
     ]
    },
    {
     "name": "stderr",
     "output_type": "stream",
     "text": [
      "Processing options:  53%|██████████████████████████████▊                           | 1076/2028 [00:09<00:10, 92.39it/s]"
     ]
    },
    {
     "name": "stdout",
     "output_type": "stream",
     "text": [
      "Saved SR240CN5D\n",
      "Saved SR250CN5D\n",
      "Saved SR260CN5D\n",
      "Saved SR280CN5D\n",
      "Saved SR270CN5D\n",
      "Saved SR280CN5B\n",
      "Saved SR300CN5D\n",
      "Saved SR290CN5A\n",
      "Saved SR260CN5B\n",
      "Saved SR340CN5B\n",
      "Saved SR310CN5D\n",
      "Saved SR320CN5D\n",
      "Saved SR290CN5D\n",
      "Saved SR340CN5D\n",
      "Saved SR350CN5D\n",
      "Saved SR330CN5D\n",
      "Saved SR360CN5D\n"
     ]
    },
    {
     "name": "stderr",
     "output_type": "stream",
     "text": [
      "Processing options:  54%|███████████████████████████████▌                          | 1104/2028 [00:10<00:09, 98.72it/s]"
     ]
    },
    {
     "name": "stdout",
     "output_type": "stream",
     "text": [
      "Saved SR240CO5\n",
      "Saved SR250CO5\n",
      "Saved SR270CO5\n",
      "Saved SR300CO5\n",
      "Saved SR280CO5\n",
      "Saved SR290CO5\n",
      "Saved SR330CO5\n",
      "Saved SR260CO5\n",
      "Saved SR320CO5\n",
      "Saved SR310CO5\n",
      "Saved SR240CO5A\n",
      "Saved SR340CO5\n",
      "Saved SR250CO5A\n",
      "Saved SR270CO5A\n",
      "Saved SR260CO5A\n",
      "Saved SR350CO5\n"
     ]
    },
    {
     "name": "stderr",
     "output_type": "stream",
     "text": [
      "Processing options:  55%|████████████████████████████████▏                         | 1125/2028 [00:10<00:09, 92.57it/s]"
     ]
    },
    {
     "name": "stdout",
     "output_type": "stream",
     "text": [
      "Saved SR280CO5A\n",
      "Saved SR290CO5A\n",
      "Saved SR360CO5\n",
      "Saved SR300CO5A\n",
      "Saved SR320CO5A\n",
      "Saved SR310CO5A\n",
      "Saved SR260CO5B\n",
      "Saved SR340CO5A\n",
      "Saved SR270CO5B\n",
      "Saved SR360CO5A\n",
      "Saved SR350CO5A\n",
      "Saved SR290CO5B\n",
      "Saved SR330CO5A\n",
      "Saved SR280CO5B\n",
      "Saved SR300CO5B\n",
      "Saved SR320CO5B\n",
      "Saved SR310CO5B\n"
     ]
    },
    {
     "name": "stderr",
     "output_type": "stream",
     "text": [
      "Processing options:  57%|████████████████████████████████▋                        | 1164/2028 [00:10<00:05, 163.85it/s]"
     ]
    },
    {
     "name": "stdout",
     "output_type": "stream",
     "text": [
      "Saved SR340CO5B\n",
      "Saved SR360CO5B\n",
      "Saved SR350CO5B\n",
      "Saved SR330CO5B\n",
      "Saved SR260CP5\n",
      "Saved SR250CP5\n",
      "Saved SR240CP5\n",
      "Saved SR290CP5\n",
      "Saved SR270CP5\n",
      "Saved SR310CP5\n"
     ]
    },
    {
     "name": "stderr",
     "output_type": "stream",
     "text": [
      "Processing options:  60%|█████████████████████████████████▉                       | 1208/2028 [00:10<00:04, 164.91it/s]"
     ]
    },
    {
     "name": "stdout",
     "output_type": "stream",
     "text": [
      "Saved SR280CP5\n",
      "Saved SR300CP5\n",
      "Saved SR320CP5\n",
      "Saved SR340CP5\n",
      "Saved SR330CP5\n",
      "Saved SR350CP5\n",
      "Saved SR360CP5\n"
     ]
    },
    {
     "name": "stderr",
     "output_type": "stream",
     "text": [
      "Processing options:  66%|█████████████████████████████████████▋                   | 1342/2028 [00:11<00:04, 139.21it/s]"
     ]
    },
    {
     "name": "stdout",
     "output_type": "stream",
     "text": [
      "Saved SR250CR5\n",
      "Saved SR240CR5\n",
      "Saved SR260CR5\n",
      "Saved SR330CR5\n",
      "Saved SR300CR5\n",
      "Saved SR320CR5\n",
      "Saved SR310CR5\n",
      "Saved SR280CR5\n",
      "Saved SR270CR5\n",
      "Saved SR290CR5\n",
      "Saved SR340CR5\n",
      "Saved SR350CR5\n",
      "Saved SR360CR5\n"
     ]
    },
    {
     "name": "stderr",
     "output_type": "stream",
     "text": [
      "Processing options:  78%|████████████████████████████████████████████▏            | 1574/2028 [00:13<00:03, 116.81it/s]"
     ]
    },
    {
     "name": "stdout",
     "output_type": "stream",
     "text": [
      "Saved SR270CU5\n",
      "Saved SR280CU5\n",
      "Saved SR250CU5\n",
      "Saved SR310CU5\n",
      "Saved SR290CU5\n",
      "Saved SR240CU5\n",
      "Saved SR320CU5\n",
      "Saved SR330CU5\n",
      "Saved SR260CU5\n",
      "Saved SR300CU5\n",
      "Saved SR360CU5\n",
      "Saved SR350CU5\n",
      "Saved SR340CU5\n"
     ]
    },
    {
     "name": "stderr",
     "output_type": "stream",
     "text": [
      "Processing options: 100%|█████████████████████████████████████████████████████████| 2028/2028 [00:16<00:00, 120.40it/s]\n"
     ]
    }
   ],
   "source": [
    "ticket_info_2, end_day_info_2 = parsing.fast_option_data_parser(base_active, strikes_str, opt_type, months, years)"
   ]
  },
  {
   "cell_type": "code",
   "execution_count": 83,
   "id": "4f62ec30-12d5-4489-9106-81c40e127ffa",
   "metadata": {},
   "outputs": [],
   "source": [
    "ticket_info_2.to_csv('ticker_info_SBER_2.csv', index=False) \n",
    "end_day_info_2.to_csv('end_day_info_SBER_2.csv', index=False) "
   ]
  },
  {
   "cell_type": "code",
   "execution_count": 84,
   "id": "7df6178b-be66-4c73-82a4-a0167ab84f75",
   "metadata": {},
   "outputs": [
    {
     "data": {
      "text/plain": [
       "326"
      ]
     },
     "execution_count": 84,
     "metadata": {},
     "output_type": "execute_result"
    }
   ],
   "source": [
    "len(ticket_info_2)"
   ]
  },
  {
   "cell_type": "code",
   "execution_count": 85,
   "id": "92f69479-2f44-4a59-b758-8a0048d66143",
   "metadata": {},
   "outputs": [
    {
     "data": {
      "text/plain": [
       "12100"
      ]
     },
     "execution_count": 85,
     "metadata": {},
     "output_type": "execute_result"
    }
   ],
   "source": [
    "len(end_day_info_2)"
   ]
  },
  {
   "cell_type": "markdown",
   "id": "7d472711-3d87-4c9e-968e-dd6026acf296",
   "metadata": {},
   "source": [
    "## Парсер № 3. Оптимизированный"
   ]
  },
  {
   "cell_type": "code",
   "execution_count": 90,
   "id": "49c233b3-003c-49f3-9ab7-b982c1be976a",
   "metadata": {},
   "outputs": [
    {
     "name": "stderr",
     "output_type": "stream",
     "text": [
      "Processing options:   2%|█▎                                                            | 4/184 [00:00<00:09, 18.56it/s]"
     ]
    },
    {
     "name": "stdout",
     "output_type": "stream",
     "text": [
      "Saved SR170CF5\n",
      "Saved SR170CR5\n",
      "Saved SR180CC5\n",
      "Saved SR180CF5\n"
     ]
    },
    {
     "name": "stderr",
     "output_type": "stream",
     "text": [
      "Processing options:   4%|██▋                                                           | 8/184 [00:00<00:09, 18.90it/s]"
     ]
    },
    {
     "name": "stdout",
     "output_type": "stream",
     "text": [
      "Saved SR180CI5\n",
      "Saved SR180CO5\n",
      "Saved SR180CR5\n",
      "Saved SR180CU5\n"
     ]
    },
    {
     "name": "stderr",
     "output_type": "stream",
     "text": [
      "Processing options:   5%|███▎                                                         | 10/184 [00:00<00:10, 16.59it/s]"
     ]
    },
    {
     "name": "stdout",
     "output_type": "stream",
     "text": [
      "Saved SR190CC5\n",
      "Saved SR190CF5\n",
      "Saved SR190CI5\n"
     ]
    },
    {
     "name": "stderr",
     "output_type": "stream",
     "text": [
      "Processing options:   8%|████▋                                                        | 14/184 [00:00<00:11, 14.52it/s]"
     ]
    },
    {
     "name": "stdout",
     "output_type": "stream",
     "text": [
      "Saved SR190CO5\n",
      "Saved SR190CR5\n",
      "Saved SR190CU5\n"
     ]
    },
    {
     "name": "stderr",
     "output_type": "stream",
     "text": [
      "Processing options:   9%|█████▎                                                       | 16/184 [00:01<00:12, 13.03it/s]"
     ]
    },
    {
     "name": "stdout",
     "output_type": "stream",
     "text": [
      "Saved SR200CC5\n",
      "Saved SR200CF5\n",
      "Saved SR200CI5\n"
     ]
    },
    {
     "name": "stderr",
     "output_type": "stream",
     "text": [
      "Processing options:  11%|██████▋                                                      | 20/184 [00:01<00:12, 13.64it/s]"
     ]
    },
    {
     "name": "stdout",
     "output_type": "stream",
     "text": [
      "Saved SR200CO5\n",
      "Saved SR200CR5\n",
      "Saved SR200CU5\n"
     ]
    },
    {
     "name": "stderr",
     "output_type": "stream",
     "text": [
      "Processing options:  12%|███████▎                                                     | 22/184 [00:01<00:12, 13.26it/s]"
     ]
    },
    {
     "name": "stdout",
     "output_type": "stream",
     "text": [
      "Saved SR210CC5\n",
      "Saved SR210CF5\n",
      "Saved SR210CI5\n"
     ]
    },
    {
     "name": "stderr",
     "output_type": "stream",
     "text": [
      "Processing options:  14%|████████▌                                                    | 26/184 [00:01<00:12, 12.66it/s]"
     ]
    },
    {
     "name": "stdout",
     "output_type": "stream",
     "text": [
      "Saved SR210CO5\n",
      "Saved SR210CR5\n",
      "Saved SR210CU5\n"
     ]
    },
    {
     "name": "stderr",
     "output_type": "stream",
     "text": [
      "Processing options:  15%|█████████▎                                                   | 28/184 [00:01<00:12, 12.64it/s]"
     ]
    },
    {
     "name": "stdout",
     "output_type": "stream",
     "text": [
      "Saved SR220CC5\n",
      "Saved SR220CF5\n",
      "Saved SR220CI5\n"
     ]
    },
    {
     "name": "stderr",
     "output_type": "stream",
     "text": [
      "Processing options:  17%|██████████▌                                                  | 32/184 [00:02<00:12, 12.32it/s]"
     ]
    },
    {
     "name": "stdout",
     "output_type": "stream",
     "text": [
      "Saved SR220CO5\n",
      "Saved SR220CR5\n",
      "Saved SR220CU5\n",
      "Saved SR230CC5\n"
     ]
    },
    {
     "name": "stderr",
     "output_type": "stream",
     "text": [
      "Processing options:  20%|███████████▉                                                 | 36/184 [00:02<00:16,  8.96it/s]"
     ]
    },
    {
     "name": "stdout",
     "output_type": "stream",
     "text": [
      "Saved SR230CF5\n",
      "Saved SR230CI5\n",
      "Saved SR230CO5\n",
      "Saved SR230CR5\n"
     ]
    },
    {
     "name": "stderr",
     "output_type": "stream",
     "text": [
      "Processing options:  22%|█████████████▎                                               | 40/184 [00:03<00:17,  8.26it/s]"
     ]
    },
    {
     "name": "stdout",
     "output_type": "stream",
     "text": [
      "Saved SR230CU5\n",
      "Saved SR240CC5\n",
      "Saved SR240CF5\n"
     ]
    },
    {
     "name": "stderr",
     "output_type": "stream",
     "text": [
      "Processing options:  23%|█████████████▉                                               | 42/184 [00:03<00:15,  9.31it/s]"
     ]
    },
    {
     "name": "stdout",
     "output_type": "stream",
     "text": [
      "Saved SR240CI5\n",
      "Saved SR240CO5\n",
      "Saved SR240CR5\n"
     ]
    },
    {
     "name": "stderr",
     "output_type": "stream",
     "text": [
      "Processing options:  24%|██████████████▌                                              | 44/184 [00:03<00:14,  9.85it/s]"
     ]
    },
    {
     "name": "stdout",
     "output_type": "stream",
     "text": [
      "Saved SR240CU5\n",
      "Saved SR250CC5\n"
     ]
    },
    {
     "name": "stderr",
     "output_type": "stream",
     "text": [
      "Processing options:  26%|███████████████▉                                             | 48/184 [00:04<00:13,  9.86it/s]"
     ]
    },
    {
     "name": "stdout",
     "output_type": "stream",
     "text": [
      "Saved SR250CF5\n",
      "Saved SR250CI5\n",
      "Saved SR250CO5\n"
     ]
    },
    {
     "name": "stderr",
     "output_type": "stream",
     "text": [
      "Processing options:  27%|████████████████▌                                            | 50/184 [00:04<00:12, 10.34it/s]"
     ]
    },
    {
     "name": "stdout",
     "output_type": "stream",
     "text": [
      "Saved SR250CR5\n",
      "Saved SR250CU5\n",
      "Saved SR260CC5\n"
     ]
    },
    {
     "name": "stderr",
     "output_type": "stream",
     "text": [
      "Processing options:  29%|█████████████████▉                                           | 54/184 [00:04<00:10, 12.89it/s]"
     ]
    },
    {
     "name": "stdout",
     "output_type": "stream",
     "text": [
      "Saved SR260CC5A\n",
      "Saved SR260CC5B\n",
      "Saved SR260CD5\n",
      "Saved SR260CF5\n"
     ]
    },
    {
     "name": "stderr",
     "output_type": "stream",
     "text": [
      "Processing options:  32%|███████████████████▏                                         | 58/184 [00:04<00:09, 12.95it/s]"
     ]
    },
    {
     "name": "stdout",
     "output_type": "stream",
     "text": [
      "Saved SR260CI5\n",
      "Saved SR260CO5\n",
      "Saved SR260CO5A\n",
      "Saved SR260CO5B\n"
     ]
    },
    {
     "name": "stderr",
     "output_type": "stream",
     "text": [
      "Processing options:  33%|███████████████████▉                                         | 60/184 [00:05<00:08, 14.46it/s]"
     ]
    },
    {
     "name": "stdout",
     "output_type": "stream",
     "text": [
      "Saved SR260CP5\n",
      "Saved SR260CR5\n"
     ]
    },
    {
     "name": "stderr",
     "output_type": "stream",
     "text": [
      "Processing options:  35%|█████████████████████▏                                       | 64/184 [00:05<00:09, 12.56it/s]"
     ]
    },
    {
     "name": "stdout",
     "output_type": "stream",
     "text": [
      "Saved SR260CU5\n",
      "Saved SR270CC5\n",
      "Saved SR270CC5A\n"
     ]
    },
    {
     "name": "stderr",
     "output_type": "stream",
     "text": [
      "Processing options:  36%|█████████████████████▉                                       | 66/184 [00:05<00:08, 13.80it/s]"
     ]
    },
    {
     "name": "stdout",
     "output_type": "stream",
     "text": [
      "Saved SR270CC5B\n",
      "Saved SR270CD5\n",
      "Saved SR270CF5\n"
     ]
    },
    {
     "name": "stderr",
     "output_type": "stream",
     "text": [
      "Processing options:  38%|███████████████████████▏                                     | 70/184 [00:05<00:08, 13.15it/s]"
     ]
    },
    {
     "name": "stdout",
     "output_type": "stream",
     "text": [
      "Saved SR270CI5\n",
      "Saved SR270CO5\n",
      "Saved SR270CO5A\n"
     ]
    },
    {
     "name": "stderr",
     "output_type": "stream",
     "text": [
      "Processing options:  40%|████████████████████████▌                                    | 74/184 [00:06<00:07, 13.95it/s]"
     ]
    },
    {
     "name": "stdout",
     "output_type": "stream",
     "text": [
      "Saved SR270CO5B\n",
      "Saved SR270CP5\n",
      "Saved SR270CR5\n",
      "Saved SR270CU5\n",
      "Saved SR280CC5\n"
     ]
    },
    {
     "name": "stderr",
     "output_type": "stream",
     "text": [
      "Processing options:  41%|█████████████████████████▏                                   | 76/184 [00:06<00:11,  9.42it/s]"
     ]
    },
    {
     "name": "stdout",
     "output_type": "stream",
     "text": [
      "Saved SR280CC5A\n",
      "Saved SR280CC5B\n"
     ]
    },
    {
     "name": "stderr",
     "output_type": "stream",
     "text": [
      "Processing options:  43%|██████████████████████████▌                                  | 80/184 [00:06<00:10, 10.10it/s]"
     ]
    },
    {
     "name": "stdout",
     "output_type": "stream",
     "text": [
      "Saved SR280CD5\n",
      "Saved SR280CF5\n",
      "Saved SR280CI5\n"
     ]
    },
    {
     "name": "stderr",
     "output_type": "stream",
     "text": [
      "Processing options:  45%|███████████████████████████▏                                 | 82/184 [00:07<00:09, 10.29it/s]"
     ]
    },
    {
     "name": "stdout",
     "output_type": "stream",
     "text": [
      "Saved SR280CO5\n",
      "Saved SR280CO5A\n",
      "Saved SR280CO5B\n",
      "Saved SR280CP5\n"
     ]
    },
    {
     "name": "stderr",
     "output_type": "stream",
     "text": [
      "Processing options:  47%|████████████████████████████▊                                | 87/184 [00:07<00:08, 11.63it/s]"
     ]
    },
    {
     "name": "stdout",
     "output_type": "stream",
     "text": [
      "Saved SR280CR5\n",
      "Saved SR280CU5\n",
      "Saved SR290CC5\n"
     ]
    },
    {
     "name": "stderr",
     "output_type": "stream",
     "text": [
      "Processing options:  49%|█████████████████████████████▊                               | 90/184 [00:07<00:06, 13.85it/s]"
     ]
    },
    {
     "name": "stdout",
     "output_type": "stream",
     "text": [
      "Saved SR290CC5A\n",
      "Saved SR290CC5B\n",
      "Saved SR290CD5\n",
      "Saved SR290CF5\n"
     ]
    },
    {
     "name": "stderr",
     "output_type": "stream",
     "text": [
      "Processing options:  51%|███████████████████████████████▏                             | 94/184 [00:07<00:06, 12.92it/s]"
     ]
    },
    {
     "name": "stdout",
     "output_type": "stream",
     "text": [
      "Saved SR290CI5\n",
      "Saved SR290CO5\n",
      "Saved SR290CO5A\n"
     ]
    },
    {
     "name": "stderr",
     "output_type": "stream",
     "text": [
      "Processing options:  53%|████████████████████████████████▍                            | 98/184 [00:08<00:06, 14.08it/s]"
     ]
    },
    {
     "name": "stdout",
     "output_type": "stream",
     "text": [
      "Saved SR290CO5B\n",
      "Saved SR290CP5\n",
      "Saved SR290CR5\n",
      "Saved SR290CU5\n"
     ]
    },
    {
     "name": "stderr",
     "output_type": "stream",
     "text": [
      "Processing options:  54%|████████████████████████████████▌                           | 100/184 [00:08<00:06, 12.45it/s]"
     ]
    },
    {
     "name": "stdout",
     "output_type": "stream",
     "text": [
      "Saved SR300CC5\n",
      "Saved SR300CC5A\n",
      "Saved SR300CC5B\n"
     ]
    },
    {
     "name": "stderr",
     "output_type": "stream",
     "text": [
      "Processing options:  57%|█████████████████████████████████▉                          | 104/184 [00:08<00:05, 14.39it/s]"
     ]
    },
    {
     "name": "stdout",
     "output_type": "stream",
     "text": [
      "Saved SR300CD5\n",
      "Saved SR300CF5\n",
      "Saved SR300CI5\n"
     ]
    },
    {
     "name": "stderr",
     "output_type": "stream",
     "text": [
      "Processing options:  59%|███████████████████████████████████▌                        | 109/184 [00:08<00:04, 16.15it/s]"
     ]
    },
    {
     "name": "stdout",
     "output_type": "stream",
     "text": [
      "Saved SR300CO5\n",
      "Saved SR300CO5A\n",
      "Saved SR300CO5B\n",
      "Saved SR300CP5\n",
      "Saved SR300CR5\n"
     ]
    },
    {
     "name": "stderr",
     "output_type": "stream",
     "text": [
      "Processing options:  60%|████████████████████████████████████▏                       | 111/184 [00:09<00:04, 14.69it/s]"
     ]
    },
    {
     "name": "stdout",
     "output_type": "stream",
     "text": [
      "Saved SR300CU5\n",
      "Saved SR310CC5\n",
      "Saved SR310CC5A\n"
     ]
    },
    {
     "name": "stderr",
     "output_type": "stream",
     "text": [
      "Processing options:  61%|████████████████████████████████████▊                       | 113/184 [00:09<00:04, 14.49it/s]"
     ]
    },
    {
     "name": "stdout",
     "output_type": "stream",
     "text": [
      "Saved SR310CC5B\n"
     ]
    },
    {
     "name": "stderr",
     "output_type": "stream",
     "text": [
      "Processing options:  62%|█████████████████████████████████████▌                      | 115/184 [00:09<00:06, 10.47it/s]"
     ]
    },
    {
     "name": "stdout",
     "output_type": "stream",
     "text": [
      "Saved SR310CD5\n",
      "Saved SR310CF5\n",
      "Saved SR310CI5\n"
     ]
    },
    {
     "name": "stderr",
     "output_type": "stream",
     "text": [
      "Processing options:  64%|██████████████████████████████████████▏                     | 117/184 [00:09<00:06, 10.77it/s]"
     ]
    },
    {
     "name": "stdout",
     "output_type": "stream",
     "text": [
      "Saved SR310CO5\n",
      "Saved SR310CO5A\n"
     ]
    },
    {
     "name": "stderr",
     "output_type": "stream",
     "text": [
      "Processing options:  66%|███████████████████████████████████████▍                    | 121/184 [00:10<00:06, 10.13it/s]"
     ]
    },
    {
     "name": "stdout",
     "output_type": "stream",
     "text": [
      "Saved SR310CO5B\n",
      "Saved SR310CP5\n",
      "Saved SR310CR5\n",
      "Saved SR310CU5\n"
     ]
    },
    {
     "name": "stderr",
     "output_type": "stream",
     "text": [
      "Processing options:  68%|████████████████████████████████████████▊                   | 125/184 [00:10<00:04, 12.75it/s]"
     ]
    },
    {
     "name": "stdout",
     "output_type": "stream",
     "text": [
      "Saved SR320CC5\n",
      "Saved SR320CC5A\n",
      "Saved SR320CC5B\n",
      "Saved SR320CD5\n"
     ]
    },
    {
     "name": "stderr",
     "output_type": "stream",
     "text": [
      "Processing options:  71%|██████████████████████████████████████████▍                 | 130/184 [00:10<00:03, 15.39it/s]"
     ]
    },
    {
     "name": "stdout",
     "output_type": "stream",
     "text": [
      "Saved SR320CF5\n",
      "Saved SR320CI5\n",
      "Saved SR320CO5\n",
      "Saved SR320CO5A\n"
     ]
    },
    {
     "name": "stderr",
     "output_type": "stream",
     "text": [
      "Processing options:  73%|███████████████████████████████████████████▋                | 134/184 [00:10<00:02, 17.04it/s]"
     ]
    },
    {
     "name": "stdout",
     "output_type": "stream",
     "text": [
      "Saved SR320CO5B\n",
      "Saved SR320CP5\n",
      "Saved SR320CR5\n",
      "Saved SR320CU5\n"
     ]
    },
    {
     "name": "stderr",
     "output_type": "stream",
     "text": [
      "Processing options:  75%|█████████████████████████████████████████████               | 138/184 [00:11<00:02, 16.60it/s]"
     ]
    },
    {
     "name": "stdout",
     "output_type": "stream",
     "text": [
      "Saved SR330CC5\n",
      "Saved SR330CC5A\n",
      "Saved SR330CC5B\n",
      "Saved SR330CD5\n"
     ]
    },
    {
     "name": "stderr",
     "output_type": "stream",
     "text": [
      "Processing options:  76%|█████████████████████████████████████████████▋              | 140/184 [00:11<00:02, 15.88it/s]"
     ]
    },
    {
     "name": "stdout",
     "output_type": "stream",
     "text": [
      "Saved SR330CF5\n",
      "Saved SR330CI5\n",
      "Saved SR330CO5\n"
     ]
    },
    {
     "name": "stderr",
     "output_type": "stream",
     "text": [
      "Processing options:  78%|██████████████████████████████████████████████▉             | 144/184 [00:11<00:02, 16.21it/s]"
     ]
    },
    {
     "name": "stdout",
     "output_type": "stream",
     "text": [
      "Saved SR330CO5A\n",
      "Saved SR330CO5B\n",
      "Saved SR330CP5\n",
      "Saved SR330CR5\n"
     ]
    },
    {
     "name": "stderr",
     "output_type": "stream",
     "text": [
      "Processing options:  80%|████████████████████████████████████████████████▎           | 148/184 [00:11<00:02, 14.56it/s]"
     ]
    },
    {
     "name": "stdout",
     "output_type": "stream",
     "text": [
      "Saved SR330CU5\n",
      "Saved SR340CC5\n",
      "Saved SR340CC5A\n"
     ]
    },
    {
     "name": "stderr",
     "output_type": "stream",
     "text": [
      "Processing options:  82%|████████████████████████████████████████████████▉           | 150/184 [00:11<00:02, 14.29it/s]"
     ]
    },
    {
     "name": "stdout",
     "output_type": "stream",
     "text": [
      "Saved SR340CC5B\n",
      "Saved SR340CD5\n",
      "Saved SR340CF5\n"
     ]
    },
    {
     "name": "stderr",
     "output_type": "stream",
     "text": [
      "Processing options:  84%|██████████████████████████████████████████████████▏         | 154/184 [00:12<00:02, 14.78it/s]"
     ]
    },
    {
     "name": "stdout",
     "output_type": "stream",
     "text": [
      "Saved SR340CI5\n",
      "Saved SR340CO5\n",
      "Saved SR340CO5A\n",
      "Saved SR340CO5B\n"
     ]
    },
    {
     "name": "stderr",
     "output_type": "stream",
     "text": [
      "Processing options:  86%|███████████████████████████████████████████████████▌        | 158/184 [00:12<00:01, 15.77it/s]"
     ]
    },
    {
     "name": "stdout",
     "output_type": "stream",
     "text": [
      "Saved SR340CP5\n",
      "Saved SR340CR5\n",
      "Saved SR340CU5\n",
      "Saved SR350CC5\n"
     ]
    },
    {
     "name": "stderr",
     "output_type": "stream",
     "text": [
      "Processing options:  88%|████████████████████████████████████████████████████▊       | 162/184 [00:12<00:01, 15.77it/s]"
     ]
    },
    {
     "name": "stdout",
     "output_type": "stream",
     "text": [
      "Saved SR350CC5A\n",
      "Saved SR350CC5B\n",
      "Saved SR350CD5\n",
      "Saved SR350CF5\n"
     ]
    },
    {
     "name": "stderr",
     "output_type": "stream",
     "text": [
      "Processing options:  89%|█████████████████████████████████████████████████████▍      | 164/184 [00:12<00:01, 16.44it/s]"
     ]
    },
    {
     "name": "stdout",
     "output_type": "stream",
     "text": [
      "Saved SR350CI5\n"
     ]
    },
    {
     "name": "stderr",
     "output_type": "stream",
     "text": [
      "Processing options:  91%|██████████████████████████████████████████████████████▊     | 168/184 [00:13<00:01, 11.57it/s]"
     ]
    },
    {
     "name": "stdout",
     "output_type": "stream",
     "text": [
      "Saved SR350CO5\n",
      "Saved SR350CO5A\n",
      "Saved SR350CO5B\n",
      "Saved SR350CP5\n"
     ]
    },
    {
     "name": "stderr",
     "output_type": "stream",
     "text": [
      "Processing options:  92%|███████████████████████████████████████████████████████▍    | 170/184 [00:13<00:01, 12.68it/s]"
     ]
    },
    {
     "name": "stdout",
     "output_type": "stream",
     "text": [
      "Saved SR350CR5\n",
      "Saved SR350CU5\n",
      "Saved SR360CC5\n"
     ]
    },
    {
     "name": "stderr",
     "output_type": "stream",
     "text": [
      "Processing options:  95%|████████████████████████████████████████████████████████▋   | 174/184 [00:13<00:00, 13.09it/s]"
     ]
    },
    {
     "name": "stdout",
     "output_type": "stream",
     "text": [
      "Saved SR360CC5A\n",
      "Saved SR360CC5B\n",
      "Saved SR360CD5\n"
     ]
    },
    {
     "name": "stderr",
     "output_type": "stream",
     "text": [
      "Processing options:  97%|██████████████████████████████████████████████████████████  | 178/184 [00:14<00:00, 13.74it/s]"
     ]
    },
    {
     "name": "stdout",
     "output_type": "stream",
     "text": [
      "Saved SR360CF5\n",
      "Saved SR360CI5\n",
      "Saved SR360CO5\n",
      "Saved SR360CO5A\n"
     ]
    },
    {
     "name": "stderr",
     "output_type": "stream",
     "text": [
      "Processing options:  99%|███████████████████████████████████████████████████████████▎| 182/184 [00:14<00:00, 15.78it/s]"
     ]
    },
    {
     "name": "stdout",
     "output_type": "stream",
     "text": [
      "Saved SR360CO5B\n",
      "Saved SR360CP5\n",
      "Saved SR360CR5\n",
      "Saved SR360CU5\n"
     ]
    },
    {
     "name": "stderr",
     "output_type": "stream",
     "text": [
      "Processing options: 100%|████████████████████████████████████████████████████████████| 184/184 [00:14<00:00, 12.80it/s]"
     ]
    },
    {
     "name": "stdout",
     "output_type": "stream",
     "text": [
      "Saved SR370CF5\n",
      "Saved SR370CR5\n"
     ]
    },
    {
     "name": "stderr",
     "output_type": "stream",
     "text": [
      "\n"
     ]
    }
   ],
   "source": [
    "# parallel = False\n",
    "ticket_info_3, end_day_info_3 = parsing.optimizid_option_data_parser(base_active, strikes_str, opt_type, months, years, parallel=False)"
   ]
  },
  {
   "cell_type": "code",
   "execution_count": 94,
   "id": "a18e0a80-ef69-4735-90e7-4c8c1aa9e69e",
   "metadata": {},
   "outputs": [],
   "source": [
    "ticket_info_3.to_csv('ticker_info_SBER_3.csv', index=False) \n",
    "end_day_info_3.to_csv('end_day_info_SBER_3.csv', index=False)"
   ]
  },
  {
   "cell_type": "code",
   "execution_count": 91,
   "id": "6466adc4-d3b7-44b1-a90e-aeca1e96647e",
   "metadata": {},
   "outputs": [
    {
     "data": {
      "text/plain": [
       "184"
      ]
     },
     "execution_count": 91,
     "metadata": {},
     "output_type": "execute_result"
    }
   ],
   "source": [
    "len(ticket_info_3)"
   ]
  },
  {
   "cell_type": "code",
   "execution_count": 92,
   "id": "1346926b-7638-4ca2-b42e-701c4aef9997",
   "metadata": {},
   "outputs": [
    {
     "data": {
      "text/plain": [
       "13072"
      ]
     },
     "execution_count": 92,
     "metadata": {},
     "output_type": "execute_result"
    }
   ],
   "source": [
    "len(end_day_info_3)"
   ]
  },
  {
   "cell_type": "code",
   "execution_count": 93,
   "id": "7d69a4ac-f39c-48b0-87a6-d8ff474a8227",
   "metadata": {},
   "outputs": [
    {
     "name": "stderr",
     "output_type": "stream",
     "text": [
      "Processing options:   2%|█                                                             | 3/184 [00:00<00:15, 11.41it/s]"
     ]
    },
    {
     "name": "stdout",
     "output_type": "stream",
     "text": [
      "Saved SR190CF5\n",
      "Saved SR190CI5\n",
      "Saved SR190CO5\n"
     ]
    },
    {
     "name": "stderr",
     "output_type": "stream",
     "text": [
      "Processing options:   3%|█▋                                                            | 5/184 [00:00<00:15, 11.43it/s]"
     ]
    },
    {
     "name": "stdout",
     "output_type": "stream",
     "text": [
      "Saved SR190CR5\n",
      "Saved SR190CU5\n",
      "Saved SR200CC5\n"
     ]
    },
    {
     "name": "stderr",
     "output_type": "stream",
     "text": [
      "Processing options:   5%|███                                                           | 9/184 [00:00<00:14, 12.45it/s]"
     ]
    },
    {
     "name": "stdout",
     "output_type": "stream",
     "text": [
      "Saved SR200CF5\n",
      "Saved SR200CI5\n",
      "Saved SR170CR5\n"
     ]
    },
    {
     "name": "stderr",
     "output_type": "stream",
     "text": [
      "Processing options:  10%|██████▎                                                      | 19/184 [00:00<00:05, 30.55it/s]"
     ]
    },
    {
     "name": "stdout",
     "output_type": "stream",
     "text": [
      "Saved SR180CC5\n",
      "Saved SR180CI5\n",
      "Saved SR180CO5\n",
      "Saved SR170CF5\n",
      "Saved SR180CR5\n",
      "Saved SR200CO5\n",
      "Saved SR180CU5\n",
      "Saved SR190CC5\n",
      "Saved SR180CF5\n",
      "Saved SR200CR5\n",
      "Saved SR200CU5\n",
      "Saved SR210CO5\n",
      "Saved SR210CF5\n",
      "Saved SR210CR5\n"
     ]
    },
    {
     "name": "stderr",
     "output_type": "stream",
     "text": [
      "Processing options:  17%|██████████▌                                                  | 32/184 [00:01<00:03, 40.55it/s]"
     ]
    },
    {
     "name": "stdout",
     "output_type": "stream",
     "text": [
      "Saved SR210CC5\n",
      "Saved SR220CC5\n",
      "Saved SR210CU5\n",
      "Saved SR220CF5\n",
      "Saved SR220CR5\n",
      "Saved SR220CO5\n",
      "Saved SR230CC5\n",
      "Saved SR230CF5\n",
      "Saved SR230CI5\n"
     ]
    },
    {
     "name": "stderr",
     "output_type": "stream",
     "text": [
      "Processing options:  22%|█████████████▎                                               | 40/184 [00:01<00:02, 49.42it/s]"
     ]
    },
    {
     "name": "stdout",
     "output_type": "stream",
     "text": [
      "Saved SR230CO5\n",
      "Saved SR220CI5\n",
      "Saved SR210CI5\n",
      "Saved SR230CR5\n",
      "Saved SR230CU5\n",
      "Saved SR240CI5\n",
      "Saved SR240CF5\n",
      "Saved SR240CC5\n",
      "Saved SR240CO5\n",
      "Saved SR240CR5\n",
      "Saved SR240CU5\n",
      "Saved SR250CI5\n",
      "Saved SR250CF5\n",
      "Saved SR250CC5\n",
      "Saved SR220CU5\n"
     ]
    },
    {
     "name": "stderr",
     "output_type": "stream",
     "text": [
      "Processing options:  32%|███████████████████▏                                         | 58/184 [00:01<00:01, 64.82it/s]"
     ]
    },
    {
     "name": "stdout",
     "output_type": "stream",
     "text": [
      "Saved SR250CO5\n",
      "Saved SR260CC5A\n",
      "Saved SR260CC5B\n",
      "Saved SR250CR5\n",
      "Saved SR250CU5\n",
      "Saved SR260CC5\n",
      "Saved SR260CO5A\n",
      "Saved SR260CD5\n",
      "Saved SR260CO5B\n",
      "Saved SR260CP5\n",
      "Saved SR260CF5\n",
      "Saved SR260CI5\n",
      "Saved SR260CO5\n",
      "Saved SR270CC5A\n",
      "Saved SR260CR5\n",
      "Saved SR270CD5\n",
      "Saved SR270CC5B\n",
      "Saved SR260CU5\n",
      "Saved SR270CC5\n",
      "Saved SR270CO5A\n"
     ]
    },
    {
     "name": "stderr",
     "output_type": "stream",
     "text": [
      "Processing options:  42%|█████████████████████████▌                                   | 77/184 [00:01<00:01, 72.83it/s]"
     ]
    },
    {
     "name": "stdout",
     "output_type": "stream",
     "text": [
      "Saved SR270CI5\n",
      "Saved SR270CP5\n",
      "Saved SR270CU5\n",
      "Saved SR270CO5B\n",
      "Saved SR270CF5\n",
      "Saved SR280CC5A\n",
      "Saved SR280CC5B\n",
      "Saved SR270CO5\n",
      "Saved SR270CR5\n",
      "Saved SR280CD5\n",
      "Saved SR280CC5\n",
      "Saved SR280CI5\n",
      "Saved SR280CO5A\n",
      "Saved SR280CF5\n",
      "Saved SR280CP5\n",
      "Saved SR280CO5B\n"
     ]
    },
    {
     "name": "stderr",
     "output_type": "stream",
     "text": [
      "Processing options:  52%|███████████████████████████████▍                             | 95/184 [00:01<00:01, 78.14it/s]"
     ]
    },
    {
     "name": "stdout",
     "output_type": "stream",
     "text": [
      "Saved SR280CR5\n",
      "Saved SR280CU5\n",
      "Saved SR290CC5A\n",
      "Saved SR280CO5\n",
      "Saved SR290CD5\n",
      "Saved SR290CC5B\n",
      "Saved SR290CI5\n",
      "Saved SR290CF5\n",
      "Saved SR290CC5\n",
      "Saved SR290CO5B\n",
      "Saved SR290CU5\n",
      "Saved SR290CO5A\n",
      "Saved SR290CO5\n",
      "Saved SR300CC5A\n",
      "Saved SR290CP5\n",
      "Saved SR300CC5B\n",
      "Saved SR300CD5\n",
      "Saved SR300CF5\n",
      "Saved SR300CO5A\n"
     ]
    },
    {
     "name": "stderr",
     "output_type": "stream",
     "text": [
      "Processing options:  62%|█████████████████████████████████████▏                      | 114/184 [00:02<00:00, 80.72it/s]"
     ]
    },
    {
     "name": "stdout",
     "output_type": "stream",
     "text": [
      "Saved SR290CR5\n",
      "Saved SR300CC5\n",
      "Saved SR300CR5\n",
      "Saved SR300CO5B\n",
      "Saved SR300CP5\n",
      "Saved SR300CI5\n",
      "Saved SR300CO5\n",
      "Saved SR310CC5A\n",
      "Saved SR310CC5B\n",
      "Saved SR310CD5\n",
      "Saved SR300CU5\n",
      "Saved SR310CI5\n",
      "Saved SR310CC5\n",
      "Saved SR310CF5\n",
      "Saved SR310CO5A\n",
      "Saved SR310CP5\n",
      "Saved SR310CO5B\n"
     ]
    },
    {
     "name": "stderr",
     "output_type": "stream",
     "text": [
      "Processing options:  72%|███████████████████████████████████████████                 | 132/184 [00:02<00:00, 83.50it/s]"
     ]
    },
    {
     "name": "stdout",
     "output_type": "stream",
     "text": [
      "Saved SR310CU5\n",
      "Saved SR310CR5\n",
      "Saved SR320CC5B\n",
      "Saved SR320CC5A\n",
      "Saved SR310CO5\n",
      "Saved SR320CD5\n",
      "Saved SR320CF5\n",
      "Saved SR320CO5B\n",
      "Saved SR320CI5\n",
      "Saved SR320CO5A\n",
      "Saved SR320CC5\n",
      "Saved SR320CR5\n",
      "Saved SR320CP5\n",
      "Saved SR320CU5\n",
      "Saved SR320CO5\n",
      "Saved SR330CC5A\n",
      "Saved SR330CD5\n",
      "Saved SR330CC5B\n",
      "Saved SR330CC5\n"
     ]
    },
    {
     "name": "stderr",
     "output_type": "stream",
     "text": [
      "Processing options:  89%|████████████████████████████████████████████████████▎      | 163/184 [00:02<00:00, 118.32it/s]"
     ]
    },
    {
     "name": "stdout",
     "output_type": "stream",
     "text": [
      "Saved SR330CF5\n",
      "Saved SR330CI5\n",
      "Saved SR330CO5A\n",
      "Saved SR330CO5B\n",
      "Saved SR330CU5\n",
      "Saved SR330CR5\n",
      "Saved SR330CP5\n",
      "Saved SR330CO5\n",
      "Saved SR340CC5A\n",
      "Saved SR340CC5B\n",
      "Saved SR340CF5\n",
      "Saved SR340CD5\n",
      "Saved SR340CI5\n",
      "Saved SR340CO5A\n",
      "Saved SR340CO5B\n",
      "Saved SR340CP5\n",
      "Saved SR340CR5\n",
      "Saved SR340CU5\n",
      "Saved SR340CC5\n",
      "Saved SR350CC5A\n",
      "Saved SR340CO5\n",
      "Saved SR350CC5B\n",
      "Saved SR350CF5\n",
      "Saved SR350CI5\n",
      "Saved SR350CD5\n",
      "Saved SR350CC5\n",
      "Saved SR350CO5B\n",
      "Saved SR350CO5A\n",
      "Saved SR350CP5\n",
      "Saved SR350CR5\n",
      "Saved SR350CU5\n",
      "Saved SR360CC5A\n",
      "Saved SR360CC5B\n",
      "Saved SR360CD5\n",
      "Saved SR360CI5\n",
      "Saved SR350CO5\n",
      "Saved SR360CF5\n",
      "Saved SR360CO5B\n",
      "Saved SR360CP5\n"
     ]
    },
    {
     "name": "stderr",
     "output_type": "stream",
     "text": [
      "Processing options: 100%|████████████████████████████████████████████████████████████| 184/184 [00:02<00:00, 68.65it/s]"
     ]
    },
    {
     "name": "stdout",
     "output_type": "stream",
     "text": [
      "Saved SR360CU5\n",
      "Saved SR360CO5A\n",
      "Saved SR360CR5\n",
      "Saved SR360CO5\n",
      "Saved SR360CC5\n",
      "Saved SR370CF5\n",
      "Saved SR370CR5\n"
     ]
    },
    {
     "name": "stderr",
     "output_type": "stream",
     "text": [
      "\n"
     ]
    }
   ],
   "source": [
    "# parallel = True\n",
    "ticket_info_4, end_day_info_4 = parsing.optimizid_option_data_parser(base_active, strikes_str, opt_type, months, years, parallel=True)"
   ]
  },
  {
   "cell_type": "code",
   "execution_count": 95,
   "id": "559c1c13-357e-4d9b-a64e-c7ae70583914",
   "metadata": {},
   "outputs": [],
   "source": [
    "ticket_info_4.to_csv('ticker_info_SBER_4.csv', index=False) \n",
    "end_day_info_4.to_csv('end_day_info_SBER_4.csv', index=False)"
   ]
  },
  {
   "cell_type": "code",
   "execution_count": 96,
   "id": "f2a14f28-7f1d-4b1c-8239-9bcce2a368d4",
   "metadata": {},
   "outputs": [
    {
     "data": {
      "text/plain": [
       "184"
      ]
     },
     "execution_count": 96,
     "metadata": {},
     "output_type": "execute_result"
    }
   ],
   "source": [
    "len(ticket_info_4)"
   ]
  },
  {
   "cell_type": "code",
   "execution_count": 97,
   "id": "d583fcfc-e004-4d79-a20b-d1014b6e0bf6",
   "metadata": {},
   "outputs": [
    {
     "data": {
      "text/plain": [
       "13072"
      ]
     },
     "execution_count": 97,
     "metadata": {},
     "output_type": "execute_result"
    }
   ],
   "source": [
    "len(end_day_info_4)"
   ]
  },
  {
   "cell_type": "code",
   "execution_count": 106,
   "id": "a324f632-8fe5-46b4-91b9-0cdacf45c23d",
   "metadata": {},
   "outputs": [
    {
     "data": {
      "text/plain": [
       "182"
      ]
     },
     "execution_count": 106,
     "metadata": {},
     "output_type": "execute_result"
    }
   ],
   "source": [
    "len(set(ticket_info_2['Краткий код']) - set(ticket_info_4['Краткий код']))"
   ]
  },
  {
   "cell_type": "code",
   "execution_count": 107,
   "id": "1489ae57-143c-42f3-af0b-cf287ab7742b",
   "metadata": {},
   "outputs": [
    {
     "data": {
      "text/plain": [
       "40"
      ]
     },
     "execution_count": 107,
     "metadata": {},
     "output_type": "execute_result"
    }
   ],
   "source": [
    "len(set(ticket_info_4['Краткий код']) - set(ticket_info_2['Краткий код']))"
   ]
  },
  {
   "cell_type": "markdown",
   "id": "b3ce09f7-1143-41c8-bdf8-10128b435fb3",
   "metadata": {},
   "source": [
    "## Парсер базового актива"
   ]
  },
  {
   "cell_type": "code",
   "execution_count": 68,
   "id": "fa78b30e-4412-42b4-a422-34c43e6a12a3",
   "metadata": {},
   "outputs": [
    {
     "data": {
      "text/html": [
       "<div>\n",
       "<style scoped>\n",
       "    .dataframe tbody tr th:only-of-type {\n",
       "        vertical-align: middle;\n",
       "    }\n",
       "\n",
       "    .dataframe tbody tr th {\n",
       "        vertical-align: top;\n",
       "    }\n",
       "\n",
       "    .dataframe thead th {\n",
       "        text-align: right;\n",
       "    }\n",
       "</style>\n",
       "<table border=\"1\" class=\"dataframe\">\n",
       "  <thead>\n",
       "    <tr style=\"text-align: right;\">\n",
       "      <th></th>\n",
       "      <th>TRADEDATE</th>\n",
       "      <th>OPEN</th>\n",
       "      <th>CLOSE</th>\n",
       "      <th>HIGH</th>\n",
       "      <th>LOW</th>\n",
       "      <th>VOLUME</th>\n",
       "    </tr>\n",
       "  </thead>\n",
       "  <tbody>\n",
       "    <tr>\n",
       "      <th>0</th>\n",
       "      <td>2025-02-18</td>\n",
       "      <td>319.99</td>\n",
       "      <td>312.95</td>\n",
       "      <td>320.92</td>\n",
       "      <td>310.21</td>\n",
       "      <td>85001770</td>\n",
       "    </tr>\n",
       "  </tbody>\n",
       "</table>\n",
       "</div>"
      ],
      "text/plain": [
       "   TRADEDATE    OPEN   CLOSE    HIGH     LOW    VOLUME\n",
       "0 2025-02-18  319.99  312.95  320.92  310.21  85001770"
      ]
     },
     "execution_count": 68,
     "metadata": {},
     "output_type": "execute_result"
    }
   ],
   "source": [
    "# на опредленную дату\n",
    "asset_code = 'SBER'\n",
    "start_date = '2025-02-18' \n",
    "\n",
    "data = parsing.get_asset_price(asset_code, start_date)\n",
    "data"
   ]
  },
  {
   "cell_type": "code",
   "execution_count": 69,
   "id": "a264ddfd-a7d7-45ef-a40b-8377f3b909c0",
   "metadata": {},
   "outputs": [
    {
     "data": {
      "text/html": [
       "<div>\n",
       "<style scoped>\n",
       "    .dataframe tbody tr th:only-of-type {\n",
       "        vertical-align: middle;\n",
       "    }\n",
       "\n",
       "    .dataframe tbody tr th {\n",
       "        vertical-align: top;\n",
       "    }\n",
       "\n",
       "    .dataframe thead th {\n",
       "        text-align: right;\n",
       "    }\n",
       "</style>\n",
       "<table border=\"1\" class=\"dataframe\">\n",
       "  <thead>\n",
       "    <tr style=\"text-align: right;\">\n",
       "      <th></th>\n",
       "      <th>TRADEDATE</th>\n",
       "      <th>OPEN</th>\n",
       "      <th>CLOSE</th>\n",
       "      <th>HIGH</th>\n",
       "      <th>LOW</th>\n",
       "      <th>VOLUME</th>\n",
       "    </tr>\n",
       "  </thead>\n",
       "  <tbody>\n",
       "    <tr>\n",
       "      <th>0</th>\n",
       "      <td>2025-01-03</td>\n",
       "      <td>280.00</td>\n",
       "      <td>272.25</td>\n",
       "      <td>280.41</td>\n",
       "      <td>271.80</td>\n",
       "      <td>43086870</td>\n",
       "    </tr>\n",
       "    <tr>\n",
       "      <th>1</th>\n",
       "      <td>2025-01-06</td>\n",
       "      <td>270.88</td>\n",
       "      <td>274.37</td>\n",
       "      <td>274.41</td>\n",
       "      <td>270.07</td>\n",
       "      <td>28454750</td>\n",
       "    </tr>\n",
       "    <tr>\n",
       "      <th>2</th>\n",
       "      <td>2025-01-08</td>\n",
       "      <td>273.07</td>\n",
       "      <td>277.00</td>\n",
       "      <td>277.87</td>\n",
       "      <td>273.07</td>\n",
       "      <td>26634660</td>\n",
       "    </tr>\n",
       "    <tr>\n",
       "      <th>3</th>\n",
       "      <td>2025-01-09</td>\n",
       "      <td>276.71</td>\n",
       "      <td>271.80</td>\n",
       "      <td>278.77</td>\n",
       "      <td>270.73</td>\n",
       "      <td>52952880</td>\n",
       "    </tr>\n",
       "    <tr>\n",
       "      <th>4</th>\n",
       "      <td>2025-01-10</td>\n",
       "      <td>272.31</td>\n",
       "      <td>278.77</td>\n",
       "      <td>279.53</td>\n",
       "      <td>270.27</td>\n",
       "      <td>71154220</td>\n",
       "    </tr>\n",
       "    <tr>\n",
       "      <th>5</th>\n",
       "      <td>2025-01-13</td>\n",
       "      <td>280.62</td>\n",
       "      <td>279.80</td>\n",
       "      <td>284.75</td>\n",
       "      <td>278.60</td>\n",
       "      <td>66601710</td>\n",
       "    </tr>\n",
       "    <tr>\n",
       "      <th>6</th>\n",
       "      <td>2025-01-14</td>\n",
       "      <td>279.84</td>\n",
       "      <td>279.85</td>\n",
       "      <td>282.36</td>\n",
       "      <td>277.41</td>\n",
       "      <td>46037150</td>\n",
       "    </tr>\n",
       "    <tr>\n",
       "      <th>7</th>\n",
       "      <td>2025-01-15</td>\n",
       "      <td>280.00</td>\n",
       "      <td>282.77</td>\n",
       "      <td>282.82</td>\n",
       "      <td>276.06</td>\n",
       "      <td>52864450</td>\n",
       "    </tr>\n",
       "    <tr>\n",
       "      <th>8</th>\n",
       "      <td>2025-01-16</td>\n",
       "      <td>283.70</td>\n",
       "      <td>281.80</td>\n",
       "      <td>284.00</td>\n",
       "      <td>281.18</td>\n",
       "      <td>49453530</td>\n",
       "    </tr>\n",
       "    <tr>\n",
       "      <th>9</th>\n",
       "      <td>2025-01-17</td>\n",
       "      <td>282.20</td>\n",
       "      <td>283.53</td>\n",
       "      <td>284.64</td>\n",
       "      <td>280.19</td>\n",
       "      <td>51876150</td>\n",
       "    </tr>\n",
       "    <tr>\n",
       "      <th>10</th>\n",
       "      <td>2025-01-20</td>\n",
       "      <td>285.10</td>\n",
       "      <td>278.19</td>\n",
       "      <td>286.23</td>\n",
       "      <td>277.61</td>\n",
       "      <td>67946640</td>\n",
       "    </tr>\n",
       "    <tr>\n",
       "      <th>11</th>\n",
       "      <td>2025-01-21</td>\n",
       "      <td>279.39</td>\n",
       "      <td>281.85</td>\n",
       "      <td>281.85</td>\n",
       "      <td>276.32</td>\n",
       "      <td>40478260</td>\n",
       "    </tr>\n",
       "    <tr>\n",
       "      <th>12</th>\n",
       "      <td>2025-01-22</td>\n",
       "      <td>282.00</td>\n",
       "      <td>280.36</td>\n",
       "      <td>284.00</td>\n",
       "      <td>280.20</td>\n",
       "      <td>47106880</td>\n",
       "    </tr>\n",
       "    <tr>\n",
       "      <th>13</th>\n",
       "      <td>2025-01-23</td>\n",
       "      <td>280.79</td>\n",
       "      <td>280.49</td>\n",
       "      <td>280.79</td>\n",
       "      <td>277.35</td>\n",
       "      <td>38573410</td>\n",
       "    </tr>\n",
       "    <tr>\n",
       "      <th>14</th>\n",
       "      <td>2025-01-24</td>\n",
       "      <td>281.00</td>\n",
       "      <td>280.74</td>\n",
       "      <td>282.75</td>\n",
       "      <td>279.25</td>\n",
       "      <td>32155210</td>\n",
       "    </tr>\n",
       "    <tr>\n",
       "      <th>15</th>\n",
       "      <td>2025-01-27</td>\n",
       "      <td>280.72</td>\n",
       "      <td>275.23</td>\n",
       "      <td>280.97</td>\n",
       "      <td>275.01</td>\n",
       "      <td>39035610</td>\n",
       "    </tr>\n",
       "    <tr>\n",
       "      <th>16</th>\n",
       "      <td>2025-01-28</td>\n",
       "      <td>275.25</td>\n",
       "      <td>278.35</td>\n",
       "      <td>279.26</td>\n",
       "      <td>274.01</td>\n",
       "      <td>39030820</td>\n",
       "    </tr>\n",
       "    <tr>\n",
       "      <th>17</th>\n",
       "      <td>2025-01-29</td>\n",
       "      <td>278.00</td>\n",
       "      <td>280.36</td>\n",
       "      <td>282.18</td>\n",
       "      <td>277.12</td>\n",
       "      <td>39161630</td>\n",
       "    </tr>\n",
       "    <tr>\n",
       "      <th>18</th>\n",
       "      <td>2025-01-30</td>\n",
       "      <td>280.44</td>\n",
       "      <td>281.97</td>\n",
       "      <td>282.50</td>\n",
       "      <td>280.36</td>\n",
       "      <td>28020880</td>\n",
       "    </tr>\n",
       "    <tr>\n",
       "      <th>19</th>\n",
       "      <td>2025-01-31</td>\n",
       "      <td>281.97</td>\n",
       "      <td>280.73</td>\n",
       "      <td>284.11</td>\n",
       "      <td>280.27</td>\n",
       "      <td>40333120</td>\n",
       "    </tr>\n",
       "    <tr>\n",
       "      <th>20</th>\n",
       "      <td>2025-02-03</td>\n",
       "      <td>280.21</td>\n",
       "      <td>279.55</td>\n",
       "      <td>280.35</td>\n",
       "      <td>278.00</td>\n",
       "      <td>30373760</td>\n",
       "    </tr>\n",
       "    <tr>\n",
       "      <th>21</th>\n",
       "      <td>2025-02-04</td>\n",
       "      <td>279.55</td>\n",
       "      <td>277.40</td>\n",
       "      <td>281.41</td>\n",
       "      <td>275.70</td>\n",
       "      <td>23986670</td>\n",
       "    </tr>\n",
       "    <tr>\n",
       "      <th>22</th>\n",
       "      <td>2025-02-05</td>\n",
       "      <td>277.30</td>\n",
       "      <td>282.88</td>\n",
       "      <td>283.89</td>\n",
       "      <td>275.34</td>\n",
       "      <td>43070410</td>\n",
       "    </tr>\n",
       "    <tr>\n",
       "      <th>23</th>\n",
       "      <td>2025-02-06</td>\n",
       "      <td>283.89</td>\n",
       "      <td>287.15</td>\n",
       "      <td>288.92</td>\n",
       "      <td>282.09</td>\n",
       "      <td>69363150</td>\n",
       "    </tr>\n",
       "    <tr>\n",
       "      <th>24</th>\n",
       "      <td>2025-02-07</td>\n",
       "      <td>287.66</td>\n",
       "      <td>285.81</td>\n",
       "      <td>288.90</td>\n",
       "      <td>285.08</td>\n",
       "      <td>27626070</td>\n",
       "    </tr>\n",
       "    <tr>\n",
       "      <th>25</th>\n",
       "      <td>2025-02-10</td>\n",
       "      <td>287.61</td>\n",
       "      <td>289.94</td>\n",
       "      <td>294.55</td>\n",
       "      <td>287.61</td>\n",
       "      <td>73052590</td>\n",
       "    </tr>\n",
       "    <tr>\n",
       "      <th>26</th>\n",
       "      <td>2025-02-11</td>\n",
       "      <td>290.35</td>\n",
       "      <td>294.06</td>\n",
       "      <td>294.10</td>\n",
       "      <td>289.30</td>\n",
       "      <td>56009830</td>\n",
       "    </tr>\n",
       "    <tr>\n",
       "      <th>27</th>\n",
       "      <td>2025-02-12</td>\n",
       "      <td>294.30</td>\n",
       "      <td>314.00</td>\n",
       "      <td>314.40</td>\n",
       "      <td>291.30</td>\n",
       "      <td>185816680</td>\n",
       "    </tr>\n",
       "    <tr>\n",
       "      <th>28</th>\n",
       "      <td>2025-02-13</td>\n",
       "      <td>315.61</td>\n",
       "      <td>310.10</td>\n",
       "      <td>318.72</td>\n",
       "      <td>307.20</td>\n",
       "      <td>116925810</td>\n",
       "    </tr>\n",
       "    <tr>\n",
       "      <th>29</th>\n",
       "      <td>2025-02-14</td>\n",
       "      <td>315.59</td>\n",
       "      <td>309.87</td>\n",
       "      <td>317.84</td>\n",
       "      <td>303.06</td>\n",
       "      <td>126690930</td>\n",
       "    </tr>\n",
       "    <tr>\n",
       "      <th>30</th>\n",
       "      <td>2025-02-17</td>\n",
       "      <td>314.00</td>\n",
       "      <td>319.50</td>\n",
       "      <td>319.55</td>\n",
       "      <td>312.31</td>\n",
       "      <td>84827010</td>\n",
       "    </tr>\n",
       "    <tr>\n",
       "      <th>31</th>\n",
       "      <td>2025-02-18</td>\n",
       "      <td>319.99</td>\n",
       "      <td>312.95</td>\n",
       "      <td>320.92</td>\n",
       "      <td>310.21</td>\n",
       "      <td>85001770</td>\n",
       "    </tr>\n",
       "    <tr>\n",
       "      <th>32</th>\n",
       "      <td>2025-02-19</td>\n",
       "      <td>313.53</td>\n",
       "      <td>315.91</td>\n",
       "      <td>317.25</td>\n",
       "      <td>311.01</td>\n",
       "      <td>50484340</td>\n",
       "    </tr>\n",
       "    <tr>\n",
       "      <th>33</th>\n",
       "      <td>2025-02-20</td>\n",
       "      <td>315.91</td>\n",
       "      <td>315.05</td>\n",
       "      <td>317.96</td>\n",
       "      <td>314.02</td>\n",
       "      <td>33164900</td>\n",
       "    </tr>\n",
       "    <tr>\n",
       "      <th>34</th>\n",
       "      <td>2025-02-21</td>\n",
       "      <td>315.48</td>\n",
       "      <td>314.74</td>\n",
       "      <td>316.69</td>\n",
       "      <td>312.00</td>\n",
       "      <td>32725520</td>\n",
       "    </tr>\n",
       "    <tr>\n",
       "      <th>35</th>\n",
       "      <td>2025-02-24</td>\n",
       "      <td>314.92</td>\n",
       "      <td>316.03</td>\n",
       "      <td>316.40</td>\n",
       "      <td>313.00</td>\n",
       "      <td>35730390</td>\n",
       "    </tr>\n",
       "    <tr>\n",
       "      <th>36</th>\n",
       "      <td>2025-02-25</td>\n",
       "      <td>316.03</td>\n",
       "      <td>316.97</td>\n",
       "      <td>318.59</td>\n",
       "      <td>315.62</td>\n",
       "      <td>38826960</td>\n",
       "    </tr>\n",
       "    <tr>\n",
       "      <th>37</th>\n",
       "      <td>2025-02-26</td>\n",
       "      <td>316.97</td>\n",
       "      <td>310.22</td>\n",
       "      <td>317.45</td>\n",
       "      <td>308.31</td>\n",
       "      <td>73827020</td>\n",
       "    </tr>\n",
       "    <tr>\n",
       "      <th>38</th>\n",
       "      <td>2025-02-27</td>\n",
       "      <td>310.22</td>\n",
       "      <td>307.10</td>\n",
       "      <td>312.45</td>\n",
       "      <td>305.43</td>\n",
       "      <td>60936490</td>\n",
       "    </tr>\n",
       "    <tr>\n",
       "      <th>39</th>\n",
       "      <td>2025-02-28</td>\n",
       "      <td>306.01</td>\n",
       "      <td>309.63</td>\n",
       "      <td>310.40</td>\n",
       "      <td>304.05</td>\n",
       "      <td>65681370</td>\n",
       "    </tr>\n",
       "  </tbody>\n",
       "</table>\n",
       "</div>"
      ],
      "text/plain": [
       "    TRADEDATE    OPEN   CLOSE    HIGH     LOW     VOLUME\n",
       "0  2025-01-03  280.00  272.25  280.41  271.80   43086870\n",
       "1  2025-01-06  270.88  274.37  274.41  270.07   28454750\n",
       "2  2025-01-08  273.07  277.00  277.87  273.07   26634660\n",
       "3  2025-01-09  276.71  271.80  278.77  270.73   52952880\n",
       "4  2025-01-10  272.31  278.77  279.53  270.27   71154220\n",
       "5  2025-01-13  280.62  279.80  284.75  278.60   66601710\n",
       "6  2025-01-14  279.84  279.85  282.36  277.41   46037150\n",
       "7  2025-01-15  280.00  282.77  282.82  276.06   52864450\n",
       "8  2025-01-16  283.70  281.80  284.00  281.18   49453530\n",
       "9  2025-01-17  282.20  283.53  284.64  280.19   51876150\n",
       "10 2025-01-20  285.10  278.19  286.23  277.61   67946640\n",
       "11 2025-01-21  279.39  281.85  281.85  276.32   40478260\n",
       "12 2025-01-22  282.00  280.36  284.00  280.20   47106880\n",
       "13 2025-01-23  280.79  280.49  280.79  277.35   38573410\n",
       "14 2025-01-24  281.00  280.74  282.75  279.25   32155210\n",
       "15 2025-01-27  280.72  275.23  280.97  275.01   39035610\n",
       "16 2025-01-28  275.25  278.35  279.26  274.01   39030820\n",
       "17 2025-01-29  278.00  280.36  282.18  277.12   39161630\n",
       "18 2025-01-30  280.44  281.97  282.50  280.36   28020880\n",
       "19 2025-01-31  281.97  280.73  284.11  280.27   40333120\n",
       "20 2025-02-03  280.21  279.55  280.35  278.00   30373760\n",
       "21 2025-02-04  279.55  277.40  281.41  275.70   23986670\n",
       "22 2025-02-05  277.30  282.88  283.89  275.34   43070410\n",
       "23 2025-02-06  283.89  287.15  288.92  282.09   69363150\n",
       "24 2025-02-07  287.66  285.81  288.90  285.08   27626070\n",
       "25 2025-02-10  287.61  289.94  294.55  287.61   73052590\n",
       "26 2025-02-11  290.35  294.06  294.10  289.30   56009830\n",
       "27 2025-02-12  294.30  314.00  314.40  291.30  185816680\n",
       "28 2025-02-13  315.61  310.10  318.72  307.20  116925810\n",
       "29 2025-02-14  315.59  309.87  317.84  303.06  126690930\n",
       "30 2025-02-17  314.00  319.50  319.55  312.31   84827010\n",
       "31 2025-02-18  319.99  312.95  320.92  310.21   85001770\n",
       "32 2025-02-19  313.53  315.91  317.25  311.01   50484340\n",
       "33 2025-02-20  315.91  315.05  317.96  314.02   33164900\n",
       "34 2025-02-21  315.48  314.74  316.69  312.00   32725520\n",
       "35 2025-02-24  314.92  316.03  316.40  313.00   35730390\n",
       "36 2025-02-25  316.03  316.97  318.59  315.62   38826960\n",
       "37 2025-02-26  316.97  310.22  317.45  308.31   73827020\n",
       "38 2025-02-27  310.22  307.10  312.45  305.43   60936490\n",
       "39 2025-02-28  306.01  309.63  310.40  304.05   65681370"
      ]
     },
     "execution_count": 69,
     "metadata": {},
     "output_type": "execute_result"
    }
   ],
   "source": [
    "# за период\n",
    "\n",
    "asset_code = 'SBER'\n",
    "start_date = '2025-01-01' \n",
    "end_date = '2025-02-28'\n",
    "\n",
    "data = parsing.get_asset_price(asset_code, start_date, end_date)\n",
    "data"
   ]
  },
  {
   "cell_type": "code",
   "execution_count": 70,
   "id": "88a2a680-4149-43e7-84a0-2cabfce71e91",
   "metadata": {},
   "outputs": [],
   "source": [
    "data.to_csv('SBER_shares.csv', index=False) "
   ]
  },
  {
   "cell_type": "markdown",
   "id": "a92ded79",
   "metadata": {},
   "source": [
    "##  Итог"
   ]
  },
  {
   "cell_type": "code",
   "execution_count": null,
   "id": "86f32c0d",
   "metadata": {},
   "outputs": [],
   "source": [
    "end_day = pd.read_csv('end_day_info_SBER_2.csv')\n",
    "ticket_info = pd.read_csv('ticker_info_SBER_2.csv')\n",
    "asset_price = pd.read_csv('SBER_shares.csv')\n",
    "\n",
    "merged_data = pd.merge(end_day, ticket_info, left_on='SECID', right_on='Краткий код', how='left')\n",
    "# Удаление строк с пропусками в ключевых столбцах\n",
    "merged_data = merged_data.dropna(subset=['SETTLEPRICE', 'Цена Страйк', 'TRADEDATE', 'Дата исполнения'])\n",
    "# Получаем текущую цену актива (SBER) для каждой даты\n",
    "merged_data = pd.merge(merged_data, asset_price[['TRADEDATE', 'CLOSE']], on='TRADEDATE', how='left', suffixes=('', '_asset'))\n",
    "merged_data['moneyness'] = merged_data['Цена Страйк'] / merged_data['CLOSE_asset']\n",
    "merged_data = merged_data.dropna(subset=['SETTLEPRICE', 'Цена Страйк', 'TRADEDATE', 'Дата исполнения', 'CLOSE_asset', 'moneyness'])\n",
    "merged_data['TRADEDATE'] = pd.to_datetime(merged_data['TRADEDATE'])\n",
    "merged_data['Дата исполнения'] = pd.to_datetime(merged_data['Дата исполнения'])\n",
    "merged_data['tau'] = (merged_data['Дата исполнения'] - merged_data['TRADEDATE']).dt.days / 365\n",
    "\n",
    "merged_data.to_excel('merged_data_fin_fin.xlsx', index=False)\n",
    "\n",
    "final_df = merged_data[['SECID', 'TRADEDATE', 'SETTLEPRICE', 'tau', 'CLOSE_asset', 'Цена Страйк', 'Вид опциона пут или колл', 'moneyness']]\n",
    "\n",
    "final_df.rename(columns={'SECID':'secid', \n",
    "                         'TRADEDATE':'trade_date', \n",
    "                         'SETTLEPRICE': 'option_price', \n",
    "                         'CLOSE_asset': 'asset_price', \n",
    "                         'Цена Страйк': 'strike', \n",
    "                         'Вид опциона пут или колл': 'option_type'}, inplace=True)\n",
    "\n",
    "final_df.reset_index(drop=True, inplace=True)\n",
    "\n",
    "final_df.to_excel('final_df_2.xlsx', index=False)"
   ]
  }
 ],
 "metadata": {
  "colab": {
   "provenance": []
  },
  "kernelspec": {
   "display_name": "Python 3 (ipykernel)",
   "language": "python",
   "name": "python3"
  },
  "language_info": {
   "codemirror_mode": {
    "name": "ipython",
    "version": 3
   },
   "file_extension": ".py",
   "mimetype": "text/x-python",
   "name": "python",
   "nbconvert_exporter": "python",
   "pygments_lexer": "ipython3",
   "version": "3.11.7"
  }
 },
 "nbformat": 4,
 "nbformat_minor": 5
}
